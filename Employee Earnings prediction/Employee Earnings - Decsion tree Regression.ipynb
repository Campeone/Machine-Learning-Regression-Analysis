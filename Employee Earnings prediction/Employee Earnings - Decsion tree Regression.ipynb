{
 "cells": [
  {
   "cell_type": "markdown",
   "id": "29e5406e",
   "metadata": {},
   "source": [
    "### Employee Earnings - Decision Tree"
   ]
  },
  {
   "cell_type": "code",
   "execution_count": 1,
   "id": "445d8112",
   "metadata": {},
   "outputs": [],
   "source": [
    "# import necessary libraries \n",
    "import numpy as np \n",
    "import pandas as pd \n",
    "import matplotlib.pyplot as plt \n",
    "import seaborn as sns \n",
    "sns.set()\n",
    "\n",
    "# view all columns in the dataframe \n",
    "pd.set_option('display.max_columns', None)"
   ]
  },
  {
   "cell_type": "code",
   "execution_count": 2,
   "id": "af53af54",
   "metadata": {},
   "outputs": [
    {
     "data": {
      "text/html": [
       "<div>\n",
       "<style scoped>\n",
       "    .dataframe tbody tr th:only-of-type {\n",
       "        vertical-align: middle;\n",
       "    }\n",
       "\n",
       "    .dataframe tbody tr th {\n",
       "        vertical-align: top;\n",
       "    }\n",
       "\n",
       "    .dataframe thead th {\n",
       "        text-align: right;\n",
       "    }\n",
       "</style>\n",
       "<table border=\"1\" class=\"dataframe\">\n",
       "  <thead>\n",
       "    <tr style=\"text-align: right;\">\n",
       "      <th></th>\n",
       "      <th>companyId</th>\n",
       "      <th>jobType</th>\n",
       "      <th>degree</th>\n",
       "      <th>major</th>\n",
       "      <th>industry</th>\n",
       "      <th>yearsExperience</th>\n",
       "      <th>milesFromMetropolis</th>\n",
       "      <th>salary</th>\n",
       "    </tr>\n",
       "  </thead>\n",
       "  <tbody>\n",
       "    <tr>\n",
       "      <th>0</th>\n",
       "      <td>COMP37</td>\n",
       "      <td>CFO</td>\n",
       "      <td>MASTERS</td>\n",
       "      <td>MATH</td>\n",
       "      <td>HEALTH</td>\n",
       "      <td>10</td>\n",
       "      <td>83</td>\n",
       "      <td>130</td>\n",
       "    </tr>\n",
       "    <tr>\n",
       "      <th>1</th>\n",
       "      <td>COMP19</td>\n",
       "      <td>CEO</td>\n",
       "      <td>HIGH_SCHOOL</td>\n",
       "      <td>NONE</td>\n",
       "      <td>WEB</td>\n",
       "      <td>3</td>\n",
       "      <td>73</td>\n",
       "      <td>101</td>\n",
       "    </tr>\n",
       "    <tr>\n",
       "      <th>2</th>\n",
       "      <td>COMP52</td>\n",
       "      <td>VICE_PRESIDENT</td>\n",
       "      <td>DOCTORAL</td>\n",
       "      <td>PHYSICS</td>\n",
       "      <td>HEALTH</td>\n",
       "      <td>10</td>\n",
       "      <td>38</td>\n",
       "      <td>137</td>\n",
       "    </tr>\n",
       "    <tr>\n",
       "      <th>3</th>\n",
       "      <td>COMP38</td>\n",
       "      <td>MANAGER</td>\n",
       "      <td>DOCTORAL</td>\n",
       "      <td>CHEMISTRY</td>\n",
       "      <td>AUTO</td>\n",
       "      <td>8</td>\n",
       "      <td>17</td>\n",
       "      <td>142</td>\n",
       "    </tr>\n",
       "    <tr>\n",
       "      <th>4</th>\n",
       "      <td>COMP7</td>\n",
       "      <td>VICE_PRESIDENT</td>\n",
       "      <td>BACHELORS</td>\n",
       "      <td>PHYSICS</td>\n",
       "      <td>FINANCE</td>\n",
       "      <td>8</td>\n",
       "      <td>16</td>\n",
       "      <td>163</td>\n",
       "    </tr>\n",
       "  </tbody>\n",
       "</table>\n",
       "</div>"
      ],
      "text/plain": [
       "  companyId         jobType       degree      major industry  yearsExperience  \\\n",
       "0    COMP37             CFO      MASTERS       MATH   HEALTH               10   \n",
       "1    COMP19             CEO  HIGH_SCHOOL       NONE      WEB                3   \n",
       "2    COMP52  VICE_PRESIDENT     DOCTORAL    PHYSICS   HEALTH               10   \n",
       "3    COMP38         MANAGER     DOCTORAL  CHEMISTRY     AUTO                8   \n",
       "4     COMP7  VICE_PRESIDENT    BACHELORS    PHYSICS  FINANCE                8   \n",
       "\n",
       "   milesFromMetropolis  salary  \n",
       "0                   83     130  \n",
       "1                   73     101  \n",
       "2                   38     137  \n",
       "3                   17     142  \n",
       "4                   16     163  "
      ]
     },
     "execution_count": 2,
     "metadata": {},
     "output_type": "execute_result"
    }
   ],
   "source": [
    "# load the dataset \n",
    "earn = pd.read_csv(r'C:\\Users\\OJO Timilehin\\Desktop\\dataset/batch2_jobID_00B80TR.csv')\n",
    "earn.head()"
   ]
  },
  {
   "cell_type": "code",
   "execution_count": 3,
   "id": "150105be",
   "metadata": {},
   "outputs": [
    {
     "data": {
      "text/plain": [
       "(1000000, 8)"
      ]
     },
     "execution_count": 3,
     "metadata": {},
     "output_type": "execute_result"
    }
   ],
   "source": [
    "earn.shape"
   ]
  },
  {
   "cell_type": "code",
   "execution_count": 4,
   "id": "c053a2d7",
   "metadata": {
    "scrolled": true
   },
   "outputs": [
    {
     "data": {
      "text/plain": [
       "array([83, 73, 38, 17, 16, 31, 24, 70, 54, 68, 30, 79, 29, 26, 81,  8, 91,\n",
       "       43, 66, 99, 96, 62, 69, 63, 40,  6, 23,  9,  2, 32, 78, 14, 58, 35,\n",
       "       93, 82, 87, 76, 22, 44, 72,  4, 25, 36,  5, 71, 65, 53, 13, 33, 55,\n",
       "       61, 98, 59, 15, 75, 56, 11, 12, 34, 21, 52, 46, 48, 97, 28, 94, 41,\n",
       "       74, 60, 95, 80, 89, 10, 50, 49,  3, 88, 47, 51, 18, 92, 42, 39, 67,\n",
       "       84, 86,  0, 19, 20, 57, 37, 64,  1, 27, 77, 90, 45, 85,  7],\n",
       "      dtype=int64)"
      ]
     },
     "execution_count": 4,
     "metadata": {},
     "output_type": "execute_result"
    }
   ],
   "source": [
    "earn.milesFromMetropolis.unique()"
   ]
  },
  {
   "cell_type": "code",
   "execution_count": 5,
   "id": "47ff021d",
   "metadata": {},
   "outputs": [
    {
     "name": "stdout",
     "output_type": "stream",
     "text": [
      "companyId 63 Unique values,  0 NaN values, object\n",
      "jobType 8 Unique values,  0 NaN values, object\n",
      "degree 5 Unique values,  0 NaN values, object\n",
      "major 9 Unique values,  0 NaN values, object\n",
      "industry 7 Unique values,  0 NaN values, object\n",
      "yearsExperience 25 Unique values,  0 NaN values, int64\n",
      "milesFromMetropolis 100 Unique values,  0 NaN values, int64\n",
      "salary 280 Unique values,  0 NaN values, int64\n"
     ]
    }
   ],
   "source": [
    "# null values\n",
    "for feature in earn.columns: \n",
    "    print(feature, earn[feature].nunique(),'Unique values, ', earn[feature].isnull().sum(), 'NaN values,', earn[feature].dtypes)"
   ]
  },
  {
   "cell_type": "code",
   "execution_count": 6,
   "id": "dae85205",
   "metadata": {
    "scrolled": true
   },
   "outputs": [
    {
     "data": {
      "text/html": [
       "<div>\n",
       "<style scoped>\n",
       "    .dataframe tbody tr th:only-of-type {\n",
       "        vertical-align: middle;\n",
       "    }\n",
       "\n",
       "    .dataframe tbody tr th {\n",
       "        vertical-align: top;\n",
       "    }\n",
       "\n",
       "    .dataframe thead th {\n",
       "        text-align: right;\n",
       "    }\n",
       "</style>\n",
       "<table border=\"1\" class=\"dataframe\">\n",
       "  <thead>\n",
       "    <tr style=\"text-align: right;\">\n",
       "      <th></th>\n",
       "      <th>companyId</th>\n",
       "      <th>jobType</th>\n",
       "      <th>degree</th>\n",
       "      <th>major</th>\n",
       "      <th>industry</th>\n",
       "      <th>yearsExperience</th>\n",
       "      <th>milesFromMetropolis</th>\n",
       "      <th>salary</th>\n",
       "    </tr>\n",
       "  </thead>\n",
       "  <tbody>\n",
       "    <tr>\n",
       "      <th>987231</th>\n",
       "      <td>COMP41</td>\n",
       "      <td>CFO</td>\n",
       "      <td>HIGH_SCHOOL</td>\n",
       "      <td>NONE</td>\n",
       "      <td>WEB</td>\n",
       "      <td>12</td>\n",
       "      <td>21</td>\n",
       "      <td>174</td>\n",
       "    </tr>\n",
       "    <tr>\n",
       "      <th>79954</th>\n",
       "      <td>COMP44</td>\n",
       "      <td>JANITOR</td>\n",
       "      <td>HIGH_SCHOOL</td>\n",
       "      <td>NONE</td>\n",
       "      <td>HEALTH</td>\n",
       "      <td>15</td>\n",
       "      <td>64</td>\n",
       "      <td>58</td>\n",
       "    </tr>\n",
       "    <tr>\n",
       "      <th>567130</th>\n",
       "      <td>COMP44</td>\n",
       "      <td>CTO</td>\n",
       "      <td>HIGH_SCHOOL</td>\n",
       "      <td>NONE</td>\n",
       "      <td>OIL</td>\n",
       "      <td>21</td>\n",
       "      <td>4</td>\n",
       "      <td>168</td>\n",
       "    </tr>\n",
       "    <tr>\n",
       "      <th>500891</th>\n",
       "      <td>COMP9</td>\n",
       "      <td>CTO</td>\n",
       "      <td>HIGH_SCHOOL</td>\n",
       "      <td>NONE</td>\n",
       "      <td>FINANCE</td>\n",
       "      <td>5</td>\n",
       "      <td>89</td>\n",
       "      <td>85</td>\n",
       "    </tr>\n",
       "    <tr>\n",
       "      <th>55399</th>\n",
       "      <td>COMP3</td>\n",
       "      <td>JUNIOR</td>\n",
       "      <td>DOCTORAL</td>\n",
       "      <td>BIOLOGY</td>\n",
       "      <td>WEB</td>\n",
       "      <td>23</td>\n",
       "      <td>64</td>\n",
       "      <td>145</td>\n",
       "    </tr>\n",
       "  </tbody>\n",
       "</table>\n",
       "</div>"
      ],
      "text/plain": [
       "       companyId  jobType       degree    major industry  yearsExperience  \\\n",
       "987231    COMP41      CFO  HIGH_SCHOOL     NONE      WEB               12   \n",
       "79954     COMP44  JANITOR  HIGH_SCHOOL     NONE   HEALTH               15   \n",
       "567130    COMP44      CTO  HIGH_SCHOOL     NONE      OIL               21   \n",
       "500891     COMP9      CTO  HIGH_SCHOOL     NONE  FINANCE                5   \n",
       "55399      COMP3   JUNIOR     DOCTORAL  BIOLOGY      WEB               23   \n",
       "\n",
       "        milesFromMetropolis  salary  \n",
       "987231                   21     174  \n",
       "79954                    64      58  \n",
       "567130                    4     168  \n",
       "500891                   89      85  \n",
       "55399                    64     145  "
      ]
     },
     "execution_count": 6,
     "metadata": {},
     "output_type": "execute_result"
    }
   ],
   "source": [
    "df = earn.sample(frac = 0.02, random_state=42) \n",
    "df.head()"
   ]
  },
  {
   "cell_type": "code",
   "execution_count": 7,
   "id": "4e687f21",
   "metadata": {},
   "outputs": [
    {
     "data": {
      "text/plain": [
       "(20000, 8)"
      ]
     },
     "execution_count": 7,
     "metadata": {},
     "output_type": "execute_result"
    }
   ],
   "source": [
    "df.shape"
   ]
  },
  {
   "cell_type": "markdown",
   "id": "a329f117",
   "metadata": {},
   "source": [
    "## Exploratory Data Analysis "
   ]
  },
  {
   "cell_type": "code",
   "execution_count": 8,
   "id": "3ca80915",
   "metadata": {},
   "outputs": [
    {
     "name": "stderr",
     "output_type": "stream",
     "text": [
      "C:\\Users\\OJO Timilehin\\anaconda3\\lib\\site-packages\\seaborn\\distributions.py:2557: FutureWarning: `distplot` is a deprecated function and will be removed in a future version. Please adapt your code to use either `displot` (a figure-level function with similar flexibility) or `histplot` (an axes-level function for histograms).\n",
      "  warnings.warn(msg, FutureWarning)\n"
     ]
    },
    {
     "data": {
      "image/png": "[encoded data removed]",
      "text/plain": [
       "<Figure size 720x504 with 1 Axes>"
      ]
     },
     "metadata": {},
     "output_type": "display_data"
    }
   ],
   "source": [
    "# taret variable \n",
    "plt.figure(figsize=(10, 7))\n",
    "sns.distplot(df.salary)\n",
    "plt.title('Salary distribution')\n",
    "plt.show()"
   ]
  },
  {
   "cell_type": "markdown",
   "id": "edf645aa",
   "metadata": {},
   "source": [
    "- The salary follow a normal distribution."
   ]
  },
  {
   "cell_type": "code",
   "execution_count": 9,
   "id": "9bf85b9d",
   "metadata": {},
   "outputs": [
    {
     "data": {
      "text/plain": [
       "['companyId', 'jobType', 'degree', 'major', 'industry']"
      ]
     },
     "execution_count": 9,
     "metadata": {},
     "output_type": "execute_result"
    }
   ],
   "source": [
    "# Categorical Varaiable \n",
    "cat_var = [feature for feature in df.columns if df[feature].dtypes == 'O']\n",
    "cat_var"
   ]
  },
  {
   "cell_type": "code",
   "execution_count": 10,
   "id": "ef18e4b6",
   "metadata": {},
   "outputs": [
    {
     "data": {
      "image/png": "[encoded data removed]",
      "text/plain": [
       "<Figure size 720x360 with 1 Axes>"
      ]
     },
     "metadata": {},
     "output_type": "display_data"
    },
    {
     "data": {
      "image/png": "[encoded data removed]",
      "text/plain": [
       "<Figure size 720x360 with 1 Axes>"
      ]
     },
     "metadata": {},
     "output_type": "display_data"
    },
    {
     "data": {
      "image/png": "[encoded data removed]",
      "text/plain": [
       "<Figure size 720x360 with 1 Axes>"
      ]
     },
     "metadata": {},
     "output_type": "display_data"
    },
    {
     "data": {
      "image/png": "[encoded data removed]",
      "text/plain": [
       "<Figure size 720x360 with 1 Axes>"
      ]
     },
     "metadata": {},
     "output_type": "display_data"
    },
    {
     "data": {
      "image/png": "[encoded data removed]",
      "text/plain": [
       "<Figure size 720x360 with 1 Axes>"
      ]
     },
     "metadata": {},
     "output_type": "display_data"
    }
   ],
   "source": [
    "# categorical value counts \n",
    "for feature in cat_var: \n",
    "    data=df.copy()\n",
    "    plt.figure(figsize=(10, 5))\n",
    "    sns.countplot(data=data, x=feature)\n",
    "    plt.title(feature+' value count') \n",
    "    plt.xticks(rotation = 90)\n",
    "    plt.ylabel('Frequency')\n",
    "    plt.show()"
   ]
  },
  {
   "cell_type": "code",
   "execution_count": 11,
   "id": "6e3f35f4",
   "metadata": {},
   "outputs": [
    {
     "data": {
      "image/png": "[encoded data removed]",
      "text/plain": [
       "<Figure size 720x360 with 1 Axes>"
      ]
     },
     "metadata": {},
     "output_type": "display_data"
    },
    {
     "data": {
      "image/png": "[encoded data removed]",
      "text/plain": [
       "<Figure size 720x360 with 1 Axes>"
      ]
     },
     "metadata": {},
     "output_type": "display_data"
    },
    {
     "data": {
      "image/png": "[encoded data removed]",
      "text/plain": [
       "<Figure size 720x360 with 1 Axes>"
      ]
     },
     "metadata": {},
     "output_type": "display_data"
    },
    {
     "data": {
      "image/png": "[encoded data removed]",
      "text/plain": [
       "<Figure size 720x360 with 1 Axes>"
      ]
     },
     "metadata": {},
     "output_type": "display_data"
    },
    {
     "data": {
      "image/png": "[encoded data removed]",
      "text/plain": [
       "<Figure size 720x360 with 1 Axes>"
      ]
     },
     "metadata": {},
     "output_type": "display_data"
    }
   ],
   "source": [
    "# mean salary for every categorical feature \n",
    "for feature in cat_var: \n",
    "    data=df.copy()\n",
    "    plt.figure(figsize=(10, 5))\n",
    "    data.groupby(feature)['salary'].mean().plot.bar()\n",
    "    plt.title(feature+' value count') \n",
    "    plt.xticks(rotation = 75)\n",
    "    plt.ylabel('Mean Salary')\n",
    "    plt.show()"
   ]
  },
  {
   "cell_type": "markdown",
   "id": "8aee4b14",
   "metadata": {},
   "source": [
    "### Numerical Variable "
   ]
  },
  {
   "cell_type": "code",
   "execution_count": 12,
   "id": "07b6f711",
   "metadata": {},
   "outputs": [
    {
     "data": {
      "text/plain": [
       "['yearsExperience', 'milesFromMetropolis']"
      ]
     },
     "execution_count": 12,
     "metadata": {},
     "output_type": "execute_result"
    }
   ],
   "source": [
    "### Numerical Variable \n",
    "num_var = [feature for feature in df.columns if df[feature].dtypes =='int64' and feature != 'salary']\n",
    "num_var"
   ]
  },
  {
   "cell_type": "code",
   "execution_count": 13,
   "id": "de40b3f1",
   "metadata": {},
   "outputs": [
    {
     "name": "stderr",
     "output_type": "stream",
     "text": [
      "C:\\Users\\OJO Timilehin\\anaconda3\\lib\\site-packages\\seaborn\\distributions.py:2557: FutureWarning: `distplot` is a deprecated function and will be removed in a future version. Please adapt your code to use either `displot` (a figure-level function with similar flexibility) or `histplot` (an axes-level function for histograms).\n",
      "  warnings.warn(msg, FutureWarning)\n"
     ]
    },
    {
     "data": {
      "image/png": "[encoded data removed]",
      "text/plain": [
       "<Figure size 720x360 with 1 Axes>"
      ]
     },
     "metadata": {},
     "output_type": "display_data"
    },
    {
     "name": "stderr",
     "output_type": "stream",
     "text": [
      "C:\\Users\\OJO Timilehin\\anaconda3\\lib\\site-packages\\seaborn\\distributions.py:2557: FutureWarning: `distplot` is a deprecated function and will be removed in a future version. Please adapt your code to use either `displot` (a figure-level function with similar flexibility) or `histplot` (an axes-level function for histograms).\n",
      "  warnings.warn(msg, FutureWarning)\n"
     ]
    },
    {
     "data": {
      "image/png": "[encoded data removed]",
      "text/plain": [
       "<Figure size 720x360 with 1 Axes>"
      ]
     },
     "metadata": {},
     "output_type": "display_data"
    }
   ],
   "source": [
    "## histogram distribution \n",
    "for feature in num_var: \n",
    "    data=df.copy() \n",
    "    plt.figure(figsize=(10, 5))\n",
    "    sns.distplot(data[feature])\n",
    "    plt.title(feature+' distribution') \n",
    "    plt.show()"
   ]
  },
  {
   "cell_type": "markdown",
   "id": "4af7ed78",
   "metadata": {},
   "source": [
    "- The yearsExperience and milesFromMetropolis feature follow a uniform distribution."
   ]
  },
  {
   "cell_type": "code",
   "execution_count": 14,
   "id": "c4859e0e",
   "metadata": {},
   "outputs": [
    {
     "name": "stderr",
     "output_type": "stream",
     "text": [
      "C:\\Users\\OJO Timilehin\\anaconda3\\lib\\site-packages\\seaborn\\_decorators.py:36: FutureWarning: Pass the following variables as keyword args: x, y. From version 0.12, the only valid positional argument will be `data`, and passing other arguments without an explicit keyword will result in an error or misinterpretation.\n",
      "  warnings.warn(\n"
     ]
    },
    {
     "data": {
      "image/png": "[encoded data removed]",
      "text/plain": [
       "<Figure size 720x360 with 1 Axes>"
      ]
     },
     "metadata": {},
     "output_type": "display_data"
    },
    {
     "name": "stderr",
     "output_type": "stream",
     "text": [
      "C:\\Users\\OJO Timilehin\\anaconda3\\lib\\site-packages\\seaborn\\_decorators.py:36: FutureWarning: Pass the following variables as keyword args: x, y. From version 0.12, the only valid positional argument will be `data`, and passing other arguments without an explicit keyword will result in an error or misinterpretation.\n",
      "  warnings.warn(\n"
     ]
    },
    {
     "data": {
      "image/png": "[encoded data removed]",
      "text/plain": [
       "<Figure size 720x360 with 1 Axes>"
      ]
     },
     "metadata": {},
     "output_type": "display_data"
    }
   ],
   "source": [
    "# numerical variable relationship with the target variable \n",
    "for feature in num_var: \n",
    "    data=df.copy()\n",
    "    plt.figure(figsize=(10, 5))\n",
    "    sns.regplot(data[feature], data['salary'], color='red')\n",
    "    plt.title(feature+' value count')\n",
    "    plt.show()"
   ]
  },
  {
   "cell_type": "markdown",
   "id": "035eca63",
   "metadata": {},
   "source": [
    "## Feature Engineering"
   ]
  },
  {
   "cell_type": "code",
   "execution_count": 15,
   "id": "a0edae98",
   "metadata": {},
   "outputs": [
    {
     "data": {
      "text/html": [
       "<div>\n",
       "<style scoped>\n",
       "    .dataframe tbody tr th:only-of-type {\n",
       "        vertical-align: middle;\n",
       "    }\n",
       "\n",
       "    .dataframe tbody tr th {\n",
       "        vertical-align: top;\n",
       "    }\n",
       "\n",
       "    .dataframe thead th {\n",
       "        text-align: right;\n",
       "    }\n",
       "</style>\n",
       "<table border=\"1\" class=\"dataframe\">\n",
       "  <thead>\n",
       "    <tr style=\"text-align: right;\">\n",
       "      <th></th>\n",
       "      <th>companyId</th>\n",
       "      <th>jobType</th>\n",
       "      <th>degree</th>\n",
       "      <th>major</th>\n",
       "      <th>industry</th>\n",
       "      <th>yearsExperience</th>\n",
       "      <th>milesFromMetropolis</th>\n",
       "      <th>salary</th>\n",
       "    </tr>\n",
       "  </thead>\n",
       "  <tbody>\n",
       "    <tr>\n",
       "      <th>987231</th>\n",
       "      <td>COMP41</td>\n",
       "      <td>CFO</td>\n",
       "      <td>HIGH_SCHOOL</td>\n",
       "      <td>NONE</td>\n",
       "      <td>WEB</td>\n",
       "      <td>12</td>\n",
       "      <td>21</td>\n",
       "      <td>174</td>\n",
       "    </tr>\n",
       "    <tr>\n",
       "      <th>79954</th>\n",
       "      <td>COMP44</td>\n",
       "      <td>JANITOR</td>\n",
       "      <td>HIGH_SCHOOL</td>\n",
       "      <td>NONE</td>\n",
       "      <td>HEALTH</td>\n",
       "      <td>15</td>\n",
       "      <td>64</td>\n",
       "      <td>58</td>\n",
       "    </tr>\n",
       "    <tr>\n",
       "      <th>567130</th>\n",
       "      <td>COMP44</td>\n",
       "      <td>CTO</td>\n",
       "      <td>HIGH_SCHOOL</td>\n",
       "      <td>NONE</td>\n",
       "      <td>OIL</td>\n",
       "      <td>21</td>\n",
       "      <td>4</td>\n",
       "      <td>168</td>\n",
       "    </tr>\n",
       "    <tr>\n",
       "      <th>500891</th>\n",
       "      <td>COMP9</td>\n",
       "      <td>CTO</td>\n",
       "      <td>HIGH_SCHOOL</td>\n",
       "      <td>NONE</td>\n",
       "      <td>FINANCE</td>\n",
       "      <td>5</td>\n",
       "      <td>89</td>\n",
       "      <td>85</td>\n",
       "    </tr>\n",
       "    <tr>\n",
       "      <th>55399</th>\n",
       "      <td>COMP3</td>\n",
       "      <td>JUNIOR</td>\n",
       "      <td>DOCTORAL</td>\n",
       "      <td>BIOLOGY</td>\n",
       "      <td>WEB</td>\n",
       "      <td>23</td>\n",
       "      <td>64</td>\n",
       "      <td>145</td>\n",
       "    </tr>\n",
       "  </tbody>\n",
       "</table>\n",
       "</div>"
      ],
      "text/plain": [
       "       companyId  jobType       degree    major industry  yearsExperience  \\\n",
       "987231    COMP41      CFO  HIGH_SCHOOL     NONE      WEB               12   \n",
       "79954     COMP44  JANITOR  HIGH_SCHOOL     NONE   HEALTH               15   \n",
       "567130    COMP44      CTO  HIGH_SCHOOL     NONE      OIL               21   \n",
       "500891     COMP9      CTO  HIGH_SCHOOL     NONE  FINANCE                5   \n",
       "55399      COMP3   JUNIOR     DOCTORAL  BIOLOGY      WEB               23   \n",
       "\n",
       "        milesFromMetropolis  salary  \n",
       "987231                   21     174  \n",
       "79954                    64      58  \n",
       "567130                    4     168  \n",
       "500891                   89      85  \n",
       "55399                    64     145  "
      ]
     },
     "execution_count": 15,
     "metadata": {},
     "output_type": "execute_result"
    }
   ],
   "source": [
    "df.head()"
   ]
  },
  {
   "cell_type": "code",
   "execution_count": 16,
   "id": "ff3e16d1",
   "metadata": {},
   "outputs": [],
   "source": [
    "# extract the number at the end of the companyid values \n",
    "# replace companyid with the ID number at the end of the comapnyId\n",
    "df['companyId'] = df.companyId.str.rsplit('P').str[1]"
   ]
  },
  {
   "cell_type": "code",
   "execution_count": 17,
   "id": "6900f247",
   "metadata": {},
   "outputs": [
    {
     "data": {
      "text/html": [
       "<div>\n",
       "<style scoped>\n",
       "    .dataframe tbody tr th:only-of-type {\n",
       "        vertical-align: middle;\n",
       "    }\n",
       "\n",
       "    .dataframe tbody tr th {\n",
       "        vertical-align: top;\n",
       "    }\n",
       "\n",
       "    .dataframe thead th {\n",
       "        text-align: right;\n",
       "    }\n",
       "</style>\n",
       "<table border=\"1\" class=\"dataframe\">\n",
       "  <thead>\n",
       "    <tr style=\"text-align: right;\">\n",
       "      <th></th>\n",
       "      <th>companyId</th>\n",
       "      <th>jobType</th>\n",
       "      <th>degree</th>\n",
       "      <th>major</th>\n",
       "      <th>industry</th>\n",
       "      <th>yearsExperience</th>\n",
       "      <th>milesFromMetropolis</th>\n",
       "      <th>salary</th>\n",
       "    </tr>\n",
       "  </thead>\n",
       "  <tbody>\n",
       "    <tr>\n",
       "      <th>987231</th>\n",
       "      <td>41</td>\n",
       "      <td>CFO</td>\n",
       "      <td>HIGH_SCHOOL</td>\n",
       "      <td>NONE</td>\n",
       "      <td>WEB</td>\n",
       "      <td>12</td>\n",
       "      <td>21</td>\n",
       "      <td>174</td>\n",
       "    </tr>\n",
       "    <tr>\n",
       "      <th>79954</th>\n",
       "      <td>44</td>\n",
       "      <td>JANITOR</td>\n",
       "      <td>HIGH_SCHOOL</td>\n",
       "      <td>NONE</td>\n",
       "      <td>HEALTH</td>\n",
       "      <td>15</td>\n",
       "      <td>64</td>\n",
       "      <td>58</td>\n",
       "    </tr>\n",
       "    <tr>\n",
       "      <th>567130</th>\n",
       "      <td>44</td>\n",
       "      <td>CTO</td>\n",
       "      <td>HIGH_SCHOOL</td>\n",
       "      <td>NONE</td>\n",
       "      <td>OIL</td>\n",
       "      <td>21</td>\n",
       "      <td>4</td>\n",
       "      <td>168</td>\n",
       "    </tr>\n",
       "    <tr>\n",
       "      <th>500891</th>\n",
       "      <td>9</td>\n",
       "      <td>CTO</td>\n",
       "      <td>HIGH_SCHOOL</td>\n",
       "      <td>NONE</td>\n",
       "      <td>FINANCE</td>\n",
       "      <td>5</td>\n",
       "      <td>89</td>\n",
       "      <td>85</td>\n",
       "    </tr>\n",
       "    <tr>\n",
       "      <th>55399</th>\n",
       "      <td>3</td>\n",
       "      <td>JUNIOR</td>\n",
       "      <td>DOCTORAL</td>\n",
       "      <td>BIOLOGY</td>\n",
       "      <td>WEB</td>\n",
       "      <td>23</td>\n",
       "      <td>64</td>\n",
       "      <td>145</td>\n",
       "    </tr>\n",
       "  </tbody>\n",
       "</table>\n",
       "</div>"
      ],
      "text/plain": [
       "       companyId  jobType       degree    major industry  yearsExperience  \\\n",
       "987231        41      CFO  HIGH_SCHOOL     NONE      WEB               12   \n",
       "79954         44  JANITOR  HIGH_SCHOOL     NONE   HEALTH               15   \n",
       "567130        44      CTO  HIGH_SCHOOL     NONE      OIL               21   \n",
       "500891         9      CTO  HIGH_SCHOOL     NONE  FINANCE                5   \n",
       "55399          3   JUNIOR     DOCTORAL  BIOLOGY      WEB               23   \n",
       "\n",
       "        milesFromMetropolis  salary  \n",
       "987231                   21     174  \n",
       "79954                    64      58  \n",
       "567130                    4     168  \n",
       "500891                   89      85  \n",
       "55399                    64     145  "
      ]
     },
     "execution_count": 17,
     "metadata": {},
     "output_type": "execute_result"
    }
   ],
   "source": [
    "df.head()"
   ]
  },
  {
   "cell_type": "code",
   "execution_count": 18,
   "id": "e6fa05fb",
   "metadata": {},
   "outputs": [],
   "source": [
    "# map the categorical values with the value counts \n",
    "for feature in ['jobType', 'degree', 'major', 'industry']: \n",
    "    map_dict = df[feature].value_counts().to_dict()\n",
    "    df[feature] = df[feature].map(map_dict)"
   ]
  },
  {
   "cell_type": "code",
   "execution_count": 19,
   "id": "3df70bcb",
   "metadata": {},
   "outputs": [
    {
     "data": {
      "text/html": [
       "<div>\n",
       "<style scoped>\n",
       "    .dataframe tbody tr th:only-of-type {\n",
       "        vertical-align: middle;\n",
       "    }\n",
       "\n",
       "    .dataframe tbody tr th {\n",
       "        vertical-align: top;\n",
       "    }\n",
       "\n",
       "    .dataframe thead th {\n",
       "        text-align: right;\n",
       "    }\n",
       "</style>\n",
       "<table border=\"1\" class=\"dataframe\">\n",
       "  <thead>\n",
       "    <tr style=\"text-align: right;\">\n",
       "      <th></th>\n",
       "      <th>companyId</th>\n",
       "      <th>jobType</th>\n",
       "      <th>degree</th>\n",
       "      <th>major</th>\n",
       "      <th>industry</th>\n",
       "      <th>yearsExperience</th>\n",
       "      <th>milesFromMetropolis</th>\n",
       "      <th>salary</th>\n",
       "    </tr>\n",
       "  </thead>\n",
       "  <tbody>\n",
       "    <tr>\n",
       "      <th>987231</th>\n",
       "      <td>41</td>\n",
       "      <td>2507</td>\n",
       "      <td>4789</td>\n",
       "      <td>10715</td>\n",
       "      <td>2907</td>\n",
       "      <td>12</td>\n",
       "      <td>21</td>\n",
       "      <td>174</td>\n",
       "    </tr>\n",
       "    <tr>\n",
       "      <th>79954</th>\n",
       "      <td>44</td>\n",
       "      <td>2518</td>\n",
       "      <td>4789</td>\n",
       "      <td>10715</td>\n",
       "      <td>2805</td>\n",
       "      <td>15</td>\n",
       "      <td>64</td>\n",
       "      <td>58</td>\n",
       "    </tr>\n",
       "    <tr>\n",
       "      <th>567130</th>\n",
       "      <td>44</td>\n",
       "      <td>2551</td>\n",
       "      <td>4789</td>\n",
       "      <td>10715</td>\n",
       "      <td>2751</td>\n",
       "      <td>21</td>\n",
       "      <td>4</td>\n",
       "      <td>168</td>\n",
       "    </tr>\n",
       "    <tr>\n",
       "      <th>500891</th>\n",
       "      <td>9</td>\n",
       "      <td>2551</td>\n",
       "      <td>4789</td>\n",
       "      <td>10715</td>\n",
       "      <td>2864</td>\n",
       "      <td>5</td>\n",
       "      <td>89</td>\n",
       "      <td>85</td>\n",
       "    </tr>\n",
       "    <tr>\n",
       "      <th>55399</th>\n",
       "      <td>3</td>\n",
       "      <td>2449</td>\n",
       "      <td>3503</td>\n",
       "      <td>1126</td>\n",
       "      <td>2907</td>\n",
       "      <td>23</td>\n",
       "      <td>64</td>\n",
       "      <td>145</td>\n",
       "    </tr>\n",
       "  </tbody>\n",
       "</table>\n",
       "</div>"
      ],
      "text/plain": [
       "       companyId  jobType  degree  major  industry  yearsExperience  \\\n",
       "987231        41     2507    4789  10715      2907               12   \n",
       "79954         44     2518    4789  10715      2805               15   \n",
       "567130        44     2551    4789  10715      2751               21   \n",
       "500891         9     2551    4789  10715      2864                5   \n",
       "55399          3     2449    3503   1126      2907               23   \n",
       "\n",
       "        milesFromMetropolis  salary  \n",
       "987231                   21     174  \n",
       "79954                    64      58  \n",
       "567130                    4     168  \n",
       "500891                   89      85  \n",
       "55399                    64     145  "
      ]
     },
     "execution_count": 19,
     "metadata": {},
     "output_type": "execute_result"
    }
   ],
   "source": [
    "df.head()"
   ]
  },
  {
   "cell_type": "markdown",
   "id": "948b20e0",
   "metadata": {},
   "source": [
    "### Split the dataset "
   ]
  },
  {
   "cell_type": "code",
   "execution_count": 20,
   "id": "659f96cf",
   "metadata": {},
   "outputs": [],
   "source": [
    "# dependent and independent variable \n",
    "X = df.drop('salary', axis=1)\n",
    "y = df['salary']"
   ]
  },
  {
   "cell_type": "code",
   "execution_count": 21,
   "id": "280d3a26",
   "metadata": {},
   "outputs": [],
   "source": [
    "# trasin test split \n",
    "from sklearn.model_selection import train_test_split\n",
    "X_train, X_test, y_train, y_test = train_test_split(X, y, test_size=0.2, random_state = 42)"
   ]
  },
  {
   "cell_type": "code",
   "execution_count": 22,
   "id": "05d04803",
   "metadata": {
    "scrolled": true
   },
   "outputs": [
    {
     "name": "stdout",
     "output_type": "stream",
     "text": [
      "X_train shape:  (16000, 7)\n",
      "X_train shape:  (4000, 7)\n",
      "X_train shape:  (16000,)\n",
      "X_train shape:  (4000,)\n"
     ]
    }
   ],
   "source": [
    "print('X_train shape: ', X_train.shape)\n",
    "print('X_train shape: ', X_test.shape)\n",
    "print('X_train shape: ', y_train.shape)\n",
    "print('X_train shape: ', y_test.shape)"
   ]
  },
  {
   "cell_type": "markdown",
   "id": "b7b572ad",
   "metadata": {},
   "source": [
    "### Feature Scaling -  Standardisation"
   ]
  },
  {
   "cell_type": "code",
   "execution_count": 23,
   "id": "ddaf949b",
   "metadata": {},
   "outputs": [],
   "source": [
    "# import StandardScaler \n",
    "from sklearn.preprocessing import StandardScaler \n",
    "\n",
    "sts = StandardScaler() \n",
    "\n",
    "X_train_s = sts.fit_transform(X_train)\n",
    "X_test_s = sts.transform(X_test)"
   ]
  },
  {
   "cell_type": "markdown",
   "id": "075885a1",
   "metadata": {},
   "source": [
    "### Modelling: Decision Tree Regression "
   ]
  },
  {
   "cell_type": "code",
   "execution_count": 24,
   "id": "def30170",
   "metadata": {},
   "outputs": [
    {
     "data": {
      "text/plain": [
       "DecisionTreeRegressor()"
      ]
     },
     "execution_count": 24,
     "metadata": {},
     "output_type": "execute_result"
    }
   ],
   "source": [
    "# import DecisionTreeRegression \n",
    "from sklearn.tree import DecisionTreeRegressor\n",
    "\n",
    "# instantiate \n",
    "dt_base_model = DecisionTreeRegressor() \n",
    "\n",
    "# fit and train\n",
    "dt_base_model.fit(X_train_s, y_train)"
   ]
  },
  {
   "cell_type": "code",
   "execution_count": 25,
   "id": "1549feff",
   "metadata": {},
   "outputs": [
    {
     "data": {
      "text/plain": [
       "array([[-1.49504347,  1.10773297,  1.01750242, ..., -2.02043307,\n",
       "         0.83613894, -0.50059646],\n",
       "       [-0.77554416, -1.15598965, -0.99268122, ...,  0.10945604,\n",
       "         1.6706957 , -0.4657828 ],\n",
       "       [-1.49504347, -1.35572988, -0.92869245, ...,  0.10945604,\n",
       "         0.69704615,  0.64825424],\n",
       "       ...,\n",
       "       [ 1.71503038, -1.35572988,  1.01750242, ...,  0.10945604,\n",
       "        -1.66753134, -0.39615549],\n",
       "       [-0.83089026,  0.37535212,  1.07836978, ..., -1.00260996,\n",
       "         1.53160291, -0.36134183],\n",
       "       [ 0.94018497,  1.6847603 , -0.99268122, ...,  0.67491332,\n",
       "        -1.11116017, -0.74429206]])"
      ]
     },
     "execution_count": 25,
     "metadata": {},
     "output_type": "execute_result"
    }
   ],
   "source": [
    "X_train_s"
   ]
  },
  {
   "cell_type": "code",
   "execution_count": 26,
   "id": "0f4febf2",
   "metadata": {
    "scrolled": true
   },
   "outputs": [
    {
     "data": {
      "text/plain": [
       "0.999978280549002"
      ]
     },
     "execution_count": 26,
     "metadata": {},
     "output_type": "execute_result"
    }
   ],
   "source": [
    "dt_base_model.score(X_train_s, y_train)"
   ]
  },
  {
   "cell_type": "code",
   "execution_count": 27,
   "id": "9eb19e48",
   "metadata": {},
   "outputs": [
    {
     "data": {
      "text/plain": [
       "{'ccp_alpha': 0.0,\n",
       " 'criterion': 'mse',\n",
       " 'max_depth': None,\n",
       " 'max_features': None,\n",
       " 'max_leaf_nodes': None,\n",
       " 'min_impurity_decrease': 0.0,\n",
       " 'min_impurity_split': None,\n",
       " 'min_samples_leaf': 1,\n",
       " 'min_samples_split': 2,\n",
       " 'min_weight_fraction_leaf': 0.0,\n",
       " 'random_state': None,\n",
       " 'splitter': 'best'}"
      ]
     },
     "execution_count": 27,
     "metadata": {},
     "output_type": "execute_result"
    }
   ],
   "source": [
    "dt_base_model.get_params()"
   ]
  },
  {
   "cell_type": "code",
   "execution_count": 28,
   "id": "6ea943dd",
   "metadata": {},
   "outputs": [
    {
     "data": {
      "text/plain": [
       "array([195.,  45., 145., ..., 119.,  99., 159.])"
      ]
     },
     "execution_count": 28,
     "metadata": {},
     "output_type": "execute_result"
    }
   ],
   "source": [
    "y_pred_base_model = dt_base_model.predict(X_test_s) \n",
    "y_pred_base_model"
   ]
  },
  {
   "cell_type": "code",
   "execution_count": 29,
   "id": "714b338e",
   "metadata": {},
   "outputs": [
    {
     "data": {
      "text/html": [
       "<div>\n",
       "<style scoped>\n",
       "    .dataframe tbody tr th:only-of-type {\n",
       "        vertical-align: middle;\n",
       "    }\n",
       "\n",
       "    .dataframe tbody tr th {\n",
       "        vertical-align: top;\n",
       "    }\n",
       "\n",
       "    .dataframe thead th {\n",
       "        text-align: right;\n",
       "    }\n",
       "</style>\n",
       "<table border=\"1\" class=\"dataframe\">\n",
       "  <thead>\n",
       "    <tr style=\"text-align: right;\">\n",
       "      <th></th>\n",
       "      <th>Actual</th>\n",
       "      <th>Predicted</th>\n",
       "    </tr>\n",
       "  </thead>\n",
       "  <tbody>\n",
       "    <tr>\n",
       "      <th>215775</th>\n",
       "      <td>112</td>\n",
       "      <td>195.0</td>\n",
       "    </tr>\n",
       "    <tr>\n",
       "      <th>940970</th>\n",
       "      <td>66</td>\n",
       "      <td>45.0</td>\n",
       "    </tr>\n",
       "    <tr>\n",
       "      <th>127087</th>\n",
       "      <td>121</td>\n",
       "      <td>145.0</td>\n",
       "    </tr>\n",
       "    <tr>\n",
       "      <th>32234</th>\n",
       "      <td>107</td>\n",
       "      <td>158.0</td>\n",
       "    </tr>\n",
       "    <tr>\n",
       "      <th>645600</th>\n",
       "      <td>40</td>\n",
       "      <td>43.0</td>\n",
       "    </tr>\n",
       "  </tbody>\n",
       "</table>\n",
       "</div>"
      ],
      "text/plain": [
       "        Actual  Predicted\n",
       "215775     112      195.0\n",
       "940970      66       45.0\n",
       "127087     121      145.0\n",
       "32234      107      158.0\n",
       "645600      40       43.0"
      ]
     },
     "execution_count": 29,
     "metadata": {},
     "output_type": "execute_result"
    }
   ],
   "source": [
    "# Actual vs Predicted values\n",
    "pd.DataFrame({'Actual':y_test, 'Predicted':y_pred_base_model}).head()"
   ]
  },
  {
   "cell_type": "code",
   "execution_count": 30,
   "id": "046ab2a0",
   "metadata": {},
   "outputs": [
    {
     "data": {
      "text/plain": [
       "0.999978280549002"
      ]
     },
     "execution_count": 30,
     "metadata": {},
     "output_type": "execute_result"
    }
   ],
   "source": [
    "# train accuracy score\n",
    "dt_base_model.score(X_train_s, y_train)"
   ]
  },
  {
   "cell_type": "code",
   "execution_count": 31,
   "id": "08cc8a9f",
   "metadata": {
    "scrolled": true
   },
   "outputs": [
    {
     "data": {
      "text/plain": [
       "0.41996974853107094"
      ]
     },
     "execution_count": 31,
     "metadata": {},
     "output_type": "execute_result"
    }
   ],
   "source": [
    "# test accuracy score\n",
    "dt_base_model.score(X_test_s, y_test)"
   ]
  },
  {
   "cell_type": "markdown",
   "id": "4b128b45",
   "metadata": {},
   "source": [
    "- The decisionTreeRegressor resulted in a high training score and a very low test score which means the base model overfitted. It did not generalise on the test data."
   ]
  },
  {
   "cell_type": "markdown",
   "id": "e758c255",
   "metadata": {},
   "source": [
    "### Hyperparameter tuning in DecisonTreeRegressor with RandomizedSearchCV"
   ]
  },
  {
   "cell_type": "code",
   "execution_count": 32,
   "id": "5dbea74c",
   "metadata": {},
   "outputs": [],
   "source": [
    "# import GridSearchCv \n",
    "from sklearn.model_selection import GridSearchCV \n",
    "from sklearn.model_selection import KFold\n",
    "from sklearn.model_selection import RandomizedSearchCV \n",
    "\n",
    "# instatiate \n",
    "dt_reg = DecisionTreeRegressor()"
   ]
  },
  {
   "cell_type": "code",
   "execution_count": 33,
   "id": "440c50b2",
   "metadata": {},
   "outputs": [],
   "source": [
    "# hyperparamters\n",
    "criterion=['mse', \"mae\"] \n",
    "max_depth = np.arange(7, 15)\n",
    "max_leaf_nodes = np.arange(12, 18) \n",
    "min_samples_split = np.arange(5, 14)"
   ]
  },
  {
   "cell_type": "code",
   "execution_count": 34,
   "id": "0d7e5002",
   "metadata": {},
   "outputs": [],
   "source": [
    "# kfold\n",
    "fold =KFold(n_splits=5, shuffle=True, random_state=1)"
   ]
  },
  {
   "cell_type": "code",
   "execution_count": 35,
   "id": "cb17c7a9",
   "metadata": {},
   "outputs": [],
   "source": [
    "# dictionary of paramters\n",
    "param = dict(criterion=criterion, max_depth=max_depth, min_samples_split=min_samples_split)"
   ]
  },
  {
   "cell_type": "code",
   "execution_count": 36,
   "id": "9def5874",
   "metadata": {},
   "outputs": [],
   "source": [
    "# randomized tuning\n",
    "rand = RandomizedSearchCV(dt_reg, param_distributions=param, n_iter = 40, cv=fold, n_jobs=-1, random_state=25)"
   ]
  },
  {
   "cell_type": "code",
   "execution_count": 37,
   "id": "a387f446",
   "metadata": {
    "scrolled": true
   },
   "outputs": [
    {
     "data": {
      "text/plain": [
       "RandomizedSearchCV(cv=KFold(n_splits=5, random_state=1, shuffle=True),\n",
       "                   estimator=DecisionTreeRegressor(), n_iter=40, n_jobs=-1,\n",
       "                   param_distributions={'criterion': ['mse', 'mae'],\n",
       "                                        'max_depth': array([ 7,  8,  9, 10, 11, 12, 13, 14]),\n",
       "                                        'min_samples_split': array([ 5,  6,  7,  8,  9, 10, 11, 12, 13])},\n",
       "                   random_state=25)"
      ]
     },
     "execution_count": 37,
     "metadata": {},
     "output_type": "execute_result"
    }
   ],
   "source": [
    "rand"
   ]
  },
  {
   "cell_type": "code",
   "execution_count": 38,
   "id": "bf603cea",
   "metadata": {},
   "outputs": [
    {
     "data": {
      "text/plain": [
       "RandomizedSearchCV(cv=KFold(n_splits=5, random_state=1, shuffle=True),\n",
       "                   estimator=DecisionTreeRegressor(), n_iter=40, n_jobs=-1,\n",
       "                   param_distributions={'criterion': ['mse', 'mae'],\n",
       "                                        'max_depth': array([ 7,  8,  9, 10, 11, 12, 13, 14]),\n",
       "                                        'min_samples_split': array([ 5,  6,  7,  8,  9, 10, 11, 12, 13])},\n",
       "                   random_state=25)"
      ]
     },
     "execution_count": 38,
     "metadata": {},
     "output_type": "execute_result"
    }
   ],
   "source": [
    "rand.fit(X_train_s, y_train)"
   ]
  },
  {
   "cell_type": "code",
   "execution_count": 39,
   "id": "2908715e",
   "metadata": {},
   "outputs": [
    {
     "data": {
      "text/html": [
       "<div>\n",
       "<style scoped>\n",
       "    .dataframe tbody tr th:only-of-type {\n",
       "        vertical-align: middle;\n",
       "    }\n",
       "\n",
       "    .dataframe tbody tr th {\n",
       "        vertical-align: top;\n",
       "    }\n",
       "\n",
       "    .dataframe thead th {\n",
       "        text-align: right;\n",
       "    }\n",
       "</style>\n",
       "<table border=\"1\" class=\"dataframe\">\n",
       "  <thead>\n",
       "    <tr style=\"text-align: right;\">\n",
       "      <th></th>\n",
       "      <th>mean_fit_time</th>\n",
       "      <th>std_fit_time</th>\n",
       "      <th>mean_score_time</th>\n",
       "      <th>std_score_time</th>\n",
       "      <th>param_min_samples_split</th>\n",
       "      <th>param_max_depth</th>\n",
       "      <th>param_criterion</th>\n",
       "      <th>params</th>\n",
       "      <th>split0_test_score</th>\n",
       "      <th>split1_test_score</th>\n",
       "      <th>split2_test_score</th>\n",
       "      <th>split3_test_score</th>\n",
       "      <th>split4_test_score</th>\n",
       "      <th>mean_test_score</th>\n",
       "      <th>std_test_score</th>\n",
       "      <th>rank_test_score</th>\n",
       "    </tr>\n",
       "  </thead>\n",
       "  <tbody>\n",
       "    <tr>\n",
       "      <th>14</th>\n",
       "      <td>0.040395</td>\n",
       "      <td>0.004410</td>\n",
       "      <td>0.002105</td>\n",
       "      <td>2.077350e-04</td>\n",
       "      <td>13</td>\n",
       "      <td>9</td>\n",
       "      <td>mse</td>\n",
       "      <td>{'min_samples_split': 13, 'max_depth': 9, 'cri...</td>\n",
       "      <td>0.634784</td>\n",
       "      <td>0.650112</td>\n",
       "      <td>0.636839</td>\n",
       "      <td>0.642664</td>\n",
       "      <td>0.631548</td>\n",
       "      <td>0.639189</td>\n",
       "      <td>0.006553</td>\n",
       "      <td>1</td>\n",
       "    </tr>\n",
       "    <tr>\n",
       "      <th>35</th>\n",
       "      <td>0.052400</td>\n",
       "      <td>0.007334</td>\n",
       "      <td>0.001801</td>\n",
       "      <td>4.001860e-04</td>\n",
       "      <td>12</td>\n",
       "      <td>9</td>\n",
       "      <td>mse</td>\n",
       "      <td>{'min_samples_split': 12, 'max_depth': 9, 'cri...</td>\n",
       "      <td>0.634876</td>\n",
       "      <td>0.650104</td>\n",
       "      <td>0.634584</td>\n",
       "      <td>0.642444</td>\n",
       "      <td>0.629868</td>\n",
       "      <td>0.638375</td>\n",
       "      <td>0.007115</td>\n",
       "      <td>2</td>\n",
       "    </tr>\n",
       "    <tr>\n",
       "      <th>26</th>\n",
       "      <td>0.054596</td>\n",
       "      <td>0.005314</td>\n",
       "      <td>0.001601</td>\n",
       "      <td>4.899598e-04</td>\n",
       "      <td>13</td>\n",
       "      <td>10</td>\n",
       "      <td>mse</td>\n",
       "      <td>{'min_samples_split': 13, 'max_depth': 10, 'cr...</td>\n",
       "      <td>0.630970</td>\n",
       "      <td>0.649813</td>\n",
       "      <td>0.624769</td>\n",
       "      <td>0.642965</td>\n",
       "      <td>0.638027</td>\n",
       "      <td>0.637309</td>\n",
       "      <td>0.008790</td>\n",
       "      <td>3</td>\n",
       "    </tr>\n",
       "    <tr>\n",
       "      <th>30</th>\n",
       "      <td>0.042401</td>\n",
       "      <td>0.004073</td>\n",
       "      <td>0.002001</td>\n",
       "      <td>6.324098e-04</td>\n",
       "      <td>10</td>\n",
       "      <td>9</td>\n",
       "      <td>mse</td>\n",
       "      <td>{'min_samples_split': 10, 'max_depth': 9, 'cri...</td>\n",
       "      <td>0.632966</td>\n",
       "      <td>0.647195</td>\n",
       "      <td>0.634362</td>\n",
       "      <td>0.640946</td>\n",
       "      <td>0.630442</td>\n",
       "      <td>0.637182</td>\n",
       "      <td>0.006092</td>\n",
       "      <td>4</td>\n",
       "    </tr>\n",
       "    <tr>\n",
       "      <th>2</th>\n",
       "      <td>0.040801</td>\n",
       "      <td>0.002489</td>\n",
       "      <td>0.001401</td>\n",
       "      <td>4.901934e-04</td>\n",
       "      <td>8</td>\n",
       "      <td>9</td>\n",
       "      <td>mse</td>\n",
       "      <td>{'min_samples_split': 8, 'max_depth': 9, 'crit...</td>\n",
       "      <td>0.631759</td>\n",
       "      <td>0.645954</td>\n",
       "      <td>0.632837</td>\n",
       "      <td>0.641880</td>\n",
       "      <td>0.629640</td>\n",
       "      <td>0.636414</td>\n",
       "      <td>0.006344</td>\n",
       "      <td>5</td>\n",
       "    </tr>\n",
       "    <tr>\n",
       "      <th>3</th>\n",
       "      <td>0.046002</td>\n",
       "      <td>0.003996</td>\n",
       "      <td>0.001400</td>\n",
       "      <td>4.898626e-04</td>\n",
       "      <td>12</td>\n",
       "      <td>10</td>\n",
       "      <td>mse</td>\n",
       "      <td>{'min_samples_split': 12, 'max_depth': 10, 'cr...</td>\n",
       "      <td>0.628089</td>\n",
       "      <td>0.649247</td>\n",
       "      <td>0.619951</td>\n",
       "      <td>0.641928</td>\n",
       "      <td>0.636384</td>\n",
       "      <td>0.635120</td>\n",
       "      <td>0.010267</td>\n",
       "      <td>6</td>\n",
       "    </tr>\n",
       "    <tr>\n",
       "      <th>25</th>\n",
       "      <td>0.052196</td>\n",
       "      <td>0.009867</td>\n",
       "      <td>0.002001</td>\n",
       "      <td>6.325606e-04</td>\n",
       "      <td>7</td>\n",
       "      <td>9</td>\n",
       "      <td>mse</td>\n",
       "      <td>{'min_samples_split': 7, 'max_depth': 9, 'crit...</td>\n",
       "      <td>0.630611</td>\n",
       "      <td>0.645007</td>\n",
       "      <td>0.632449</td>\n",
       "      <td>0.637297</td>\n",
       "      <td>0.629061</td>\n",
       "      <td>0.634885</td>\n",
       "      <td>0.005769</td>\n",
       "      <td>7</td>\n",
       "    </tr>\n",
       "    <tr>\n",
       "      <th>38</th>\n",
       "      <td>0.047196</td>\n",
       "      <td>0.004020</td>\n",
       "      <td>0.001801</td>\n",
       "      <td>7.484685e-04</td>\n",
       "      <td>11</td>\n",
       "      <td>10</td>\n",
       "      <td>mse</td>\n",
       "      <td>{'min_samples_split': 11, 'max_depth': 10, 'cr...</td>\n",
       "      <td>0.627389</td>\n",
       "      <td>0.645751</td>\n",
       "      <td>0.617698</td>\n",
       "      <td>0.640407</td>\n",
       "      <td>0.634939</td>\n",
       "      <td>0.633237</td>\n",
       "      <td>0.009865</td>\n",
       "      <td>8</td>\n",
       "    </tr>\n",
       "    <tr>\n",
       "      <th>5</th>\n",
       "      <td>0.046200</td>\n",
       "      <td>0.004957</td>\n",
       "      <td>0.001601</td>\n",
       "      <td>4.900767e-04</td>\n",
       "      <td>6</td>\n",
       "      <td>10</td>\n",
       "      <td>mse</td>\n",
       "      <td>{'min_samples_split': 6, 'max_depth': 10, 'cri...</td>\n",
       "      <td>0.622979</td>\n",
       "      <td>0.636316</td>\n",
       "      <td>0.606449</td>\n",
       "      <td>0.632994</td>\n",
       "      <td>0.626698</td>\n",
       "      <td>0.625087</td>\n",
       "      <td>0.010421</td>\n",
       "      <td>9</td>\n",
       "    </tr>\n",
       "    <tr>\n",
       "      <th>39</th>\n",
       "      <td>0.045601</td>\n",
       "      <td>0.003718</td>\n",
       "      <td>0.002401</td>\n",
       "      <td>4.900378e-04</td>\n",
       "      <td>5</td>\n",
       "      <td>10</td>\n",
       "      <td>mse</td>\n",
       "      <td>{'min_samples_split': 5, 'max_depth': 10, 'cri...</td>\n",
       "      <td>0.622530</td>\n",
       "      <td>0.635876</td>\n",
       "      <td>0.603903</td>\n",
       "      <td>0.630684</td>\n",
       "      <td>0.627210</td>\n",
       "      <td>0.624041</td>\n",
       "      <td>0.010973</td>\n",
       "      <td>10</td>\n",
       "    </tr>\n",
       "    <tr>\n",
       "      <th>34</th>\n",
       "      <td>0.054395</td>\n",
       "      <td>0.034873</td>\n",
       "      <td>0.001801</td>\n",
       "      <td>7.479333e-04</td>\n",
       "      <td>13</td>\n",
       "      <td>7</td>\n",
       "      <td>mse</td>\n",
       "      <td>{'min_samples_split': 13, 'max_depth': 7, 'cri...</td>\n",
       "      <td>0.618281</td>\n",
       "      <td>0.629916</td>\n",
       "      <td>0.619258</td>\n",
       "      <td>0.622746</td>\n",
       "      <td>0.617513</td>\n",
       "      <td>0.621543</td>\n",
       "      <td>0.004553</td>\n",
       "      <td>11</td>\n",
       "    </tr>\n",
       "    <tr>\n",
       "      <th>9</th>\n",
       "      <td>0.033407</td>\n",
       "      <td>0.005824</td>\n",
       "      <td>0.001800</td>\n",
       "      <td>7.495018e-04</td>\n",
       "      <td>11</td>\n",
       "      <td>7</td>\n",
       "      <td>mse</td>\n",
       "      <td>{'min_samples_split': 11, 'max_depth': 7, 'cri...</td>\n",
       "      <td>0.618281</td>\n",
       "      <td>0.629162</td>\n",
       "      <td>0.619258</td>\n",
       "      <td>0.622746</td>\n",
       "      <td>0.617513</td>\n",
       "      <td>0.621392</td>\n",
       "      <td>0.004277</td>\n",
       "      <td>12</td>\n",
       "    </tr>\n",
       "    <tr>\n",
       "      <th>24</th>\n",
       "      <td>0.037197</td>\n",
       "      <td>0.003655</td>\n",
       "      <td>0.001401</td>\n",
       "      <td>4.899990e-04</td>\n",
       "      <td>9</td>\n",
       "      <td>7</td>\n",
       "      <td>mse</td>\n",
       "      <td>{'min_samples_split': 9, 'max_depth': 7, 'crit...</td>\n",
       "      <td>0.618201</td>\n",
       "      <td>0.629162</td>\n",
       "      <td>0.619258</td>\n",
       "      <td>0.622368</td>\n",
       "      <td>0.617513</td>\n",
       "      <td>0.621300</td>\n",
       "      <td>0.004268</td>\n",
       "      <td>13</td>\n",
       "    </tr>\n",
       "    <tr>\n",
       "      <th>33</th>\n",
       "      <td>0.049406</td>\n",
       "      <td>0.018653</td>\n",
       "      <td>0.020999</td>\n",
       "      <td>3.949951e-02</td>\n",
       "      <td>5</td>\n",
       "      <td>7</td>\n",
       "      <td>mse</td>\n",
       "      <td>{'min_samples_split': 5, 'max_depth': 7, 'crit...</td>\n",
       "      <td>0.618232</td>\n",
       "      <td>0.629162</td>\n",
       "      <td>0.619258</td>\n",
       "      <td>0.622238</td>\n",
       "      <td>0.617513</td>\n",
       "      <td>0.621281</td>\n",
       "      <td>0.004257</td>\n",
       "      <td>14</td>\n",
       "    </tr>\n",
       "    <tr>\n",
       "      <th>27</th>\n",
       "      <td>5.728940</td>\n",
       "      <td>0.472622</td>\n",
       "      <td>0.001801</td>\n",
       "      <td>4.000426e-04</td>\n",
       "      <td>10</td>\n",
       "      <td>9</td>\n",
       "      <td>mae</td>\n",
       "      <td>{'min_samples_split': 10, 'max_depth': 9, 'cri...</td>\n",
       "      <td>0.617116</td>\n",
       "      <td>0.632355</td>\n",
       "      <td>0.617908</td>\n",
       "      <td>0.616668</td>\n",
       "      <td>0.615503</td>\n",
       "      <td>0.619910</td>\n",
       "      <td>0.006271</td>\n",
       "      <td>15</td>\n",
       "    </tr>\n",
       "    <tr>\n",
       "      <th>1</th>\n",
       "      <td>5.601597</td>\n",
       "      <td>0.308947</td>\n",
       "      <td>0.001801</td>\n",
       "      <td>3.996612e-04</td>\n",
       "      <td>8</td>\n",
       "      <td>9</td>\n",
       "      <td>mae</td>\n",
       "      <td>{'min_samples_split': 8, 'max_depth': 9, 'crit...</td>\n",
       "      <td>0.615463</td>\n",
       "      <td>0.630518</td>\n",
       "      <td>0.617568</td>\n",
       "      <td>0.617775</td>\n",
       "      <td>0.614234</td>\n",
       "      <td>0.619112</td>\n",
       "      <td>0.005854</td>\n",
       "      <td>16</td>\n",
       "    </tr>\n",
       "    <tr>\n",
       "      <th>21</th>\n",
       "      <td>0.048004</td>\n",
       "      <td>0.003026</td>\n",
       "      <td>0.001201</td>\n",
       "      <td>3.998758e-04</td>\n",
       "      <td>11</td>\n",
       "      <td>11</td>\n",
       "      <td>mse</td>\n",
       "      <td>{'min_samples_split': 11, 'max_depth': 11, 'cr...</td>\n",
       "      <td>0.615726</td>\n",
       "      <td>0.622880</td>\n",
       "      <td>0.602053</td>\n",
       "      <td>0.622765</td>\n",
       "      <td>0.614666</td>\n",
       "      <td>0.615618</td>\n",
       "      <td>0.007599</td>\n",
       "      <td>17</td>\n",
       "    </tr>\n",
       "    <tr>\n",
       "      <th>18</th>\n",
       "      <td>0.049596</td>\n",
       "      <td>0.004842</td>\n",
       "      <td>0.002001</td>\n",
       "      <td>6.322590e-04</td>\n",
       "      <td>10</td>\n",
       "      <td>11</td>\n",
       "      <td>mse</td>\n",
       "      <td>{'min_samples_split': 10, 'max_depth': 11, 'cr...</td>\n",
       "      <td>0.612071</td>\n",
       "      <td>0.620616</td>\n",
       "      <td>0.598119</td>\n",
       "      <td>0.621162</td>\n",
       "      <td>0.612201</td>\n",
       "      <td>0.612834</td>\n",
       "      <td>0.008336</td>\n",
       "      <td>18</td>\n",
       "    </tr>\n",
       "    <tr>\n",
       "      <th>4</th>\n",
       "      <td>5.542402</td>\n",
       "      <td>0.237001</td>\n",
       "      <td>0.001601</td>\n",
       "      <td>7.996084e-04</td>\n",
       "      <td>10</td>\n",
       "      <td>7</td>\n",
       "      <td>mae</td>\n",
       "      <td>{'min_samples_split': 10, 'max_depth': 7, 'cri...</td>\n",
       "      <td>0.602728</td>\n",
       "      <td>0.617527</td>\n",
       "      <td>0.609248</td>\n",
       "      <td>0.613545</td>\n",
       "      <td>0.606218</td>\n",
       "      <td>0.609853</td>\n",
       "      <td>0.005232</td>\n",
       "      <td>19</td>\n",
       "    </tr>\n",
       "    <tr>\n",
       "      <th>13</th>\n",
       "      <td>5.489994</td>\n",
       "      <td>0.137632</td>\n",
       "      <td>0.001801</td>\n",
       "      <td>3.997089e-04</td>\n",
       "      <td>12</td>\n",
       "      <td>7</td>\n",
       "      <td>mae</td>\n",
       "      <td>{'min_samples_split': 12, 'max_depth': 7, 'cri...</td>\n",
       "      <td>0.602728</td>\n",
       "      <td>0.617534</td>\n",
       "      <td>0.608966</td>\n",
       "      <td>0.613545</td>\n",
       "      <td>0.606474</td>\n",
       "      <td>0.609849</td>\n",
       "      <td>0.005208</td>\n",
       "      <td>20</td>\n",
       "    </tr>\n",
       "    <tr>\n",
       "      <th>20</th>\n",
       "      <td>0.049600</td>\n",
       "      <td>0.003006</td>\n",
       "      <td>0.002201</td>\n",
       "      <td>7.485704e-04</td>\n",
       "      <td>9</td>\n",
       "      <td>11</td>\n",
       "      <td>mse</td>\n",
       "      <td>{'min_samples_split': 9, 'max_depth': 11, 'cri...</td>\n",
       "      <td>0.610539</td>\n",
       "      <td>0.616820</td>\n",
       "      <td>0.593922</td>\n",
       "      <td>0.620554</td>\n",
       "      <td>0.607342</td>\n",
       "      <td>0.609835</td>\n",
       "      <td>0.009204</td>\n",
       "      <td>21</td>\n",
       "    </tr>\n",
       "    <tr>\n",
       "      <th>22</th>\n",
       "      <td>6.059468</td>\n",
       "      <td>1.007158</td>\n",
       "      <td>0.002201</td>\n",
       "      <td>3.999475e-04</td>\n",
       "      <td>9</td>\n",
       "      <td>10</td>\n",
       "      <td>mae</td>\n",
       "      <td>{'min_samples_split': 9, 'max_depth': 10, 'cri...</td>\n",
       "      <td>0.600100</td>\n",
       "      <td>0.612023</td>\n",
       "      <td>0.593599</td>\n",
       "      <td>0.607784</td>\n",
       "      <td>0.609905</td>\n",
       "      <td>0.604682</td>\n",
       "      <td>0.006850</td>\n",
       "      <td>22</td>\n",
       "    </tr>\n",
       "    <tr>\n",
       "      <th>29</th>\n",
       "      <td>5.526798</td>\n",
       "      <td>0.048999</td>\n",
       "      <td>0.002001</td>\n",
       "      <td>4.370285e-07</td>\n",
       "      <td>6</td>\n",
       "      <td>10</td>\n",
       "      <td>mae</td>\n",
       "      <td>{'min_samples_split': 6, 'max_depth': 10, 'cri...</td>\n",
       "      <td>0.596944</td>\n",
       "      <td>0.609133</td>\n",
       "      <td>0.589508</td>\n",
       "      <td>0.602279</td>\n",
       "      <td>0.610091</td>\n",
       "      <td>0.601591</td>\n",
       "      <td>0.007710</td>\n",
       "      <td>23</td>\n",
       "    </tr>\n",
       "    <tr>\n",
       "      <th>23</th>\n",
       "      <td>0.071395</td>\n",
       "      <td>0.017635</td>\n",
       "      <td>0.001801</td>\n",
       "      <td>3.998757e-04</td>\n",
       "      <td>12</td>\n",
       "      <td>12</td>\n",
       "      <td>mse</td>\n",
       "      <td>{'min_samples_split': 12, 'max_depth': 12, 'cr...</td>\n",
       "      <td>0.604870</td>\n",
       "      <td>0.621146</td>\n",
       "      <td>0.581814</td>\n",
       "      <td>0.607927</td>\n",
       "      <td>0.588804</td>\n",
       "      <td>0.600912</td>\n",
       "      <td>0.014040</td>\n",
       "      <td>24</td>\n",
       "    </tr>\n",
       "    <tr>\n",
       "      <th>6</th>\n",
       "      <td>5.648992</td>\n",
       "      <td>0.152140</td>\n",
       "      <td>0.002207</td>\n",
       "      <td>7.547538e-04</td>\n",
       "      <td>5</td>\n",
       "      <td>10</td>\n",
       "      <td>mae</td>\n",
       "      <td>{'min_samples_split': 5, 'max_depth': 10, 'cri...</td>\n",
       "      <td>0.596005</td>\n",
       "      <td>0.604640</td>\n",
       "      <td>0.585963</td>\n",
       "      <td>0.602701</td>\n",
       "      <td>0.607667</td>\n",
       "      <td>0.599395</td>\n",
       "      <td>0.007730</td>\n",
       "      <td>25</td>\n",
       "    </tr>\n",
       "    <tr>\n",
       "      <th>7</th>\n",
       "      <td>5.579798</td>\n",
       "      <td>0.089357</td>\n",
       "      <td>0.001801</td>\n",
       "      <td>4.002333e-04</td>\n",
       "      <td>13</td>\n",
       "      <td>11</td>\n",
       "      <td>mae</td>\n",
       "      <td>{'min_samples_split': 13, 'max_depth': 11, 'cr...</td>\n",
       "      <td>0.589336</td>\n",
       "      <td>0.601700</td>\n",
       "      <td>0.581088</td>\n",
       "      <td>0.603803</td>\n",
       "      <td>0.596344</td>\n",
       "      <td>0.594454</td>\n",
       "      <td>0.008347</td>\n",
       "      <td>26</td>\n",
       "    </tr>\n",
       "    <tr>\n",
       "      <th>19</th>\n",
       "      <td>5.563198</td>\n",
       "      <td>0.081542</td>\n",
       "      <td>0.002001</td>\n",
       "      <td>2.611745e-07</td>\n",
       "      <td>12</td>\n",
       "      <td>11</td>\n",
       "      <td>mae</td>\n",
       "      <td>{'min_samples_split': 12, 'max_depth': 11, 'cr...</td>\n",
       "      <td>0.586982</td>\n",
       "      <td>0.599665</td>\n",
       "      <td>0.578624</td>\n",
       "      <td>0.602037</td>\n",
       "      <td>0.594321</td>\n",
       "      <td>0.592326</td>\n",
       "      <td>0.008584</td>\n",
       "      <td>27</td>\n",
       "    </tr>\n",
       "    <tr>\n",
       "      <th>11</th>\n",
       "      <td>5.563200</td>\n",
       "      <td>0.078844</td>\n",
       "      <td>0.002201</td>\n",
       "      <td>9.798612e-04</td>\n",
       "      <td>11</td>\n",
       "      <td>11</td>\n",
       "      <td>mae</td>\n",
       "      <td>{'min_samples_split': 11, 'max_depth': 11, 'cr...</td>\n",
       "      <td>0.583924</td>\n",
       "      <td>0.594293</td>\n",
       "      <td>0.575509</td>\n",
       "      <td>0.600667</td>\n",
       "      <td>0.594753</td>\n",
       "      <td>0.589829</td>\n",
       "      <td>0.008962</td>\n",
       "      <td>28</td>\n",
       "    </tr>\n",
       "    <tr>\n",
       "      <th>0</th>\n",
       "      <td>5.940361</td>\n",
       "      <td>1.097092</td>\n",
       "      <td>0.002401</td>\n",
       "      <td>4.900961e-04</td>\n",
       "      <td>8</td>\n",
       "      <td>11</td>\n",
       "      <td>mae</td>\n",
       "      <td>{'min_samples_split': 8, 'max_depth': 11, 'cri...</td>\n",
       "      <td>0.578973</td>\n",
       "      <td>0.584457</td>\n",
       "      <td>0.566059</td>\n",
       "      <td>0.588119</td>\n",
       "      <td>0.584483</td>\n",
       "      <td>0.580418</td>\n",
       "      <td>0.007751</td>\n",
       "      <td>29</td>\n",
       "    </tr>\n",
       "    <tr>\n",
       "      <th>15</th>\n",
       "      <td>0.057799</td>\n",
       "      <td>0.005188</td>\n",
       "      <td>0.002401</td>\n",
       "      <td>4.899602e-04</td>\n",
       "      <td>9</td>\n",
       "      <td>13</td>\n",
       "      <td>mse</td>\n",
       "      <td>{'min_samples_split': 9, 'max_depth': 13, 'cri...</td>\n",
       "      <td>0.574648</td>\n",
       "      <td>0.589504</td>\n",
       "      <td>0.553990</td>\n",
       "      <td>0.577680</td>\n",
       "      <td>0.553340</td>\n",
       "      <td>0.569832</td>\n",
       "      <td>0.014105</td>\n",
       "      <td>30</td>\n",
       "    </tr>\n",
       "    <tr>\n",
       "      <th>8</th>\n",
       "      <td>5.590601</td>\n",
       "      <td>0.065794</td>\n",
       "      <td>0.002001</td>\n",
       "      <td>6.327868e-04</td>\n",
       "      <td>10</td>\n",
       "      <td>12</td>\n",
       "      <td>mae</td>\n",
       "      <td>{'min_samples_split': 10, 'max_depth': 12, 'cr...</td>\n",
       "      <td>0.558876</td>\n",
       "      <td>0.582038</td>\n",
       "      <td>0.552529</td>\n",
       "      <td>0.585293</td>\n",
       "      <td>0.569543</td>\n",
       "      <td>0.569656</td>\n",
       "      <td>0.012707</td>\n",
       "      <td>31</td>\n",
       "    </tr>\n",
       "    <tr>\n",
       "      <th>36</th>\n",
       "      <td>6.478286</td>\n",
       "      <td>0.446999</td>\n",
       "      <td>0.002606</td>\n",
       "      <td>1.195639e-03</td>\n",
       "      <td>5</td>\n",
       "      <td>12</td>\n",
       "      <td>mae</td>\n",
       "      <td>{'min_samples_split': 5, 'max_depth': 12, 'cri...</td>\n",
       "      <td>0.541031</td>\n",
       "      <td>0.557014</td>\n",
       "      <td>0.533649</td>\n",
       "      <td>0.570033</td>\n",
       "      <td>0.552201</td>\n",
       "      <td>0.550786</td>\n",
       "      <td>0.012650</td>\n",
       "      <td>32</td>\n",
       "    </tr>\n",
       "    <tr>\n",
       "      <th>16</th>\n",
       "      <td>0.056006</td>\n",
       "      <td>0.002758</td>\n",
       "      <td>0.002201</td>\n",
       "      <td>7.483155e-04</td>\n",
       "      <td>7</td>\n",
       "      <td>13</td>\n",
       "      <td>mse</td>\n",
       "      <td>{'min_samples_split': 7, 'max_depth': 13, 'cri...</td>\n",
       "      <td>0.556872</td>\n",
       "      <td>0.566668</td>\n",
       "      <td>0.530458</td>\n",
       "      <td>0.563164</td>\n",
       "      <td>0.528152</td>\n",
       "      <td>0.549063</td>\n",
       "      <td>0.016451</td>\n",
       "      <td>33</td>\n",
       "    </tr>\n",
       "    <tr>\n",
       "      <th>12</th>\n",
       "      <td>0.059403</td>\n",
       "      <td>0.005459</td>\n",
       "      <td>0.003201</td>\n",
       "      <td>2.399898e-03</td>\n",
       "      <td>8</td>\n",
       "      <td>14</td>\n",
       "      <td>mse</td>\n",
       "      <td>{'min_samples_split': 8, 'max_depth': 14, 'cri...</td>\n",
       "      <td>0.549718</td>\n",
       "      <td>0.567646</td>\n",
       "      <td>0.526626</td>\n",
       "      <td>0.556662</td>\n",
       "      <td>0.525956</td>\n",
       "      <td>0.545321</td>\n",
       "      <td>0.016558</td>\n",
       "      <td>34</td>\n",
       "    </tr>\n",
       "    <tr>\n",
       "      <th>17</th>\n",
       "      <td>0.059795</td>\n",
       "      <td>0.003919</td>\n",
       "      <td>0.002201</td>\n",
       "      <td>3.999950e-04</td>\n",
       "      <td>6</td>\n",
       "      <td>13</td>\n",
       "      <td>mse</td>\n",
       "      <td>{'min_samples_split': 6, 'max_depth': 13, 'cri...</td>\n",
       "      <td>0.549963</td>\n",
       "      <td>0.558911</td>\n",
       "      <td>0.522137</td>\n",
       "      <td>0.550497</td>\n",
       "      <td>0.521620</td>\n",
       "      <td>0.540626</td>\n",
       "      <td>0.015634</td>\n",
       "      <td>35</td>\n",
       "    </tr>\n",
       "    <tr>\n",
       "      <th>37</th>\n",
       "      <td>6.633804</td>\n",
       "      <td>0.737686</td>\n",
       "      <td>0.002001</td>\n",
       "      <td>1.907349e-07</td>\n",
       "      <td>10</td>\n",
       "      <td>14</td>\n",
       "      <td>mae</td>\n",
       "      <td>{'min_samples_split': 10, 'max_depth': 14, 'cr...</td>\n",
       "      <td>0.529847</td>\n",
       "      <td>0.545813</td>\n",
       "      <td>0.526441</td>\n",
       "      <td>0.550769</td>\n",
       "      <td>0.528571</td>\n",
       "      <td>0.536288</td>\n",
       "      <td>0.009984</td>\n",
       "      <td>36</td>\n",
       "    </tr>\n",
       "    <tr>\n",
       "      <th>10</th>\n",
       "      <td>5.647992</td>\n",
       "      <td>0.079690</td>\n",
       "      <td>0.002001</td>\n",
       "      <td>4.156970e-07</td>\n",
       "      <td>9</td>\n",
       "      <td>14</td>\n",
       "      <td>mae</td>\n",
       "      <td>{'min_samples_split': 9, 'max_depth': 14, 'cri...</td>\n",
       "      <td>0.529781</td>\n",
       "      <td>0.538156</td>\n",
       "      <td>0.522572</td>\n",
       "      <td>0.546920</td>\n",
       "      <td>0.533063</td>\n",
       "      <td>0.534099</td>\n",
       "      <td>0.008166</td>\n",
       "      <td>37</td>\n",
       "    </tr>\n",
       "    <tr>\n",
       "      <th>31</th>\n",
       "      <td>0.057600</td>\n",
       "      <td>0.003506</td>\n",
       "      <td>0.002001</td>\n",
       "      <td>6.328621e-04</td>\n",
       "      <td>5</td>\n",
       "      <td>13</td>\n",
       "      <td>mse</td>\n",
       "      <td>{'min_samples_split': 5, 'max_depth': 13, 'cri...</td>\n",
       "      <td>0.543925</td>\n",
       "      <td>0.549650</td>\n",
       "      <td>0.515238</td>\n",
       "      <td>0.543087</td>\n",
       "      <td>0.513401</td>\n",
       "      <td>0.533060</td>\n",
       "      <td>0.015478</td>\n",
       "      <td>38</td>\n",
       "    </tr>\n",
       "    <tr>\n",
       "      <th>32</th>\n",
       "      <td>6.579800</td>\n",
       "      <td>0.726940</td>\n",
       "      <td>0.004401</td>\n",
       "      <td>3.825669e-03</td>\n",
       "      <td>5</td>\n",
       "      <td>13</td>\n",
       "      <td>mae</td>\n",
       "      <td>{'min_samples_split': 5, 'max_depth': 13, 'cri...</td>\n",
       "      <td>0.522212</td>\n",
       "      <td>0.538069</td>\n",
       "      <td>0.504726</td>\n",
       "      <td>0.544035</td>\n",
       "      <td>0.521349</td>\n",
       "      <td>0.526078</td>\n",
       "      <td>0.013852</td>\n",
       "      <td>39</td>\n",
       "    </tr>\n",
       "    <tr>\n",
       "      <th>28</th>\n",
       "      <td>0.065000</td>\n",
       "      <td>0.007136</td>\n",
       "      <td>0.002001</td>\n",
       "      <td>6.322589e-04</td>\n",
       "      <td>6</td>\n",
       "      <td>14</td>\n",
       "      <td>mse</td>\n",
       "      <td>{'min_samples_split': 6, 'max_depth': 14, 'cri...</td>\n",
       "      <td>0.531750</td>\n",
       "      <td>0.543546</td>\n",
       "      <td>0.498187</td>\n",
       "      <td>0.534919</td>\n",
       "      <td>0.498318</td>\n",
       "      <td>0.521344</td>\n",
       "      <td>0.019245</td>\n",
       "      <td>40</td>\n",
       "    </tr>\n",
       "  </tbody>\n",
       "</table>\n",
       "</div>"
      ],
      "text/plain": [
       "    mean_fit_time  std_fit_time  mean_score_time  std_score_time  \\\n",
       "14       0.040395      0.004410         0.002105    2.077350e-04   \n",
       "35       0.052400      0.007334         0.001801    4.001860e-04   \n",
       "26       0.054596      0.005314         0.001601    4.899598e-04   \n",
       "30       0.042401      0.004073         0.002001    6.324098e-04   \n",
       "2        0.040801      0.002489         0.001401    4.901934e-04   \n",
       "3        0.046002      0.003996         0.001400    4.898626e-04   \n",
       "25       0.052196      0.009867         0.002001    6.325606e-04   \n",
       "38       0.047196      0.004020         0.001801    7.484685e-04   \n",
       "5        0.046200      0.004957         0.001601    4.900767e-04   \n",
       "39       0.045601      0.003718         0.002401    4.900378e-04   \n",
       "34       0.054395      0.034873         0.001801    7.479333e-04   \n",
       "9        0.033407      0.005824         0.001800    7.495018e-04   \n",
       "24       0.037197      0.003655         0.001401    4.899990e-04   \n",
       "33       0.049406      0.018653         0.020999    3.949951e-02   \n",
       "27       5.728940      0.472622         0.001801    4.000426e-04   \n",
       "1        5.601597      0.308947         0.001801    3.996612e-04   \n",
       "21       0.048004      0.003026         0.001201    3.998758e-04   \n",
       "18       0.049596      0.004842         0.002001    6.322590e-04   \n",
       "4        5.542402      0.237001         0.001601    7.996084e-04   \n",
       "13       5.489994      0.137632         0.001801    3.997089e-04   \n",
       "20       0.049600      0.003006         0.002201    7.485704e-04   \n",
       "22       6.059468      1.007158         0.002201    3.999475e-04   \n",
       "29       5.526798      0.048999         0.002001    4.370285e-07   \n",
       "23       0.071395      0.017635         0.001801    3.998757e-04   \n",
       "6        5.648992      0.152140         0.002207    7.547538e-04   \n",
       "7        5.579798      0.089357         0.001801    4.002333e-04   \n",
       "19       5.563198      0.081542         0.002001    2.611745e-07   \n",
       "11       5.563200      0.078844         0.002201    9.798612e-04   \n",
       "0        5.940361      1.097092         0.002401    4.900961e-04   \n",
       "15       0.057799      0.005188         0.002401    4.899602e-04   \n",
       "8        5.590601      0.065794         0.002001    6.327868e-04   \n",
       "36       6.478286      0.446999         0.002606    1.195639e-03   \n",
       "16       0.056006      0.002758         0.002201    7.483155e-04   \n",
       "12       0.059403      0.005459         0.003201    2.399898e-03   \n",
       "17       0.059795      0.003919         0.002201    3.999950e-04   \n",
       "37       6.633804      0.737686         0.002001    1.907349e-07   \n",
       "10       5.647992      0.079690         0.002001    4.156970e-07   \n",
       "31       0.057600      0.003506         0.002001    6.328621e-04   \n",
       "32       6.579800      0.726940         0.004401    3.825669e-03   \n",
       "28       0.065000      0.007136         0.002001    6.322589e-04   \n",
       "\n",
       "   param_min_samples_split param_max_depth param_criterion  \\\n",
       "14                      13               9             mse   \n",
       "35                      12               9             mse   \n",
       "26                      13              10             mse   \n",
       "30                      10               9             mse   \n",
       "2                        8               9             mse   \n",
       "3                       12              10             mse   \n",
       "25                       7               9             mse   \n",
       "38                      11              10             mse   \n",
       "5                        6              10             mse   \n",
       "39                       5              10             mse   \n",
       "34                      13               7             mse   \n",
       "9                       11               7             mse   \n",
       "24                       9               7             mse   \n",
       "33                       5               7             mse   \n",
       "27                      10               9             mae   \n",
       "1                        8               9             mae   \n",
       "21                      11              11             mse   \n",
       "18                      10              11             mse   \n",
       "4                       10               7             mae   \n",
       "13                      12               7             mae   \n",
       "20                       9              11             mse   \n",
       "22                       9              10             mae   \n",
       "29                       6              10             mae   \n",
       "23                      12              12             mse   \n",
       "6                        5              10             mae   \n",
       "7                       13              11             mae   \n",
       "19                      12              11             mae   \n",
       "11                      11              11             mae   \n",
       "0                        8              11             mae   \n",
       "15                       9              13             mse   \n",
       "8                       10              12             mae   \n",
       "36                       5              12             mae   \n",
       "16                       7              13             mse   \n",
       "12                       8              14             mse   \n",
       "17                       6              13             mse   \n",
       "37                      10              14             mae   \n",
       "10                       9              14             mae   \n",
       "31                       5              13             mse   \n",
       "32                       5              13             mae   \n",
       "28                       6              14             mse   \n",
       "\n",
       "                                               params  split0_test_score  \\\n",
       "14  {'min_samples_split': 13, 'max_depth': 9, 'cri...           0.634784   \n",
       "35  {'min_samples_split': 12, 'max_depth': 9, 'cri...           0.634876   \n",
       "26  {'min_samples_split': 13, 'max_depth': 10, 'cr...           0.630970   \n",
       "30  {'min_samples_split': 10, 'max_depth': 9, 'cri...           0.632966   \n",
       "2   {'min_samples_split': 8, 'max_depth': 9, 'crit...           0.631759   \n",
       "3   {'min_samples_split': 12, 'max_depth': 10, 'cr...           0.628089   \n",
       "25  {'min_samples_split': 7, 'max_depth': 9, 'crit...           0.630611   \n",
       "38  {'min_samples_split': 11, 'max_depth': 10, 'cr...           0.627389   \n",
       "5   {'min_samples_split': 6, 'max_depth': 10, 'cri...           0.622979   \n",
       "39  {'min_samples_split': 5, 'max_depth': 10, 'cri...           0.622530   \n",
       "34  {'min_samples_split': 13, 'max_depth': 7, 'cri...           0.618281   \n",
       "9   {'min_samples_split': 11, 'max_depth': 7, 'cri...           0.618281   \n",
       "24  {'min_samples_split': 9, 'max_depth': 7, 'crit...           0.618201   \n",
       "33  {'min_samples_split': 5, 'max_depth': 7, 'crit...           0.618232   \n",
       "27  {'min_samples_split': 10, 'max_depth': 9, 'cri...           0.617116   \n",
       "1   {'min_samples_split': 8, 'max_depth': 9, 'crit...           0.615463   \n",
       "21  {'min_samples_split': 11, 'max_depth': 11, 'cr...           0.615726   \n",
       "18  {'min_samples_split': 10, 'max_depth': 11, 'cr...           0.612071   \n",
       "4   {'min_samples_split': 10, 'max_depth': 7, 'cri...           0.602728   \n",
       "13  {'min_samples_split': 12, 'max_depth': 7, 'cri...           0.602728   \n",
       "20  {'min_samples_split': 9, 'max_depth': 11, 'cri...           0.610539   \n",
       "22  {'min_samples_split': 9, 'max_depth': 10, 'cri...           0.600100   \n",
       "29  {'min_samples_split': 6, 'max_depth': 10, 'cri...           0.596944   \n",
       "23  {'min_samples_split': 12, 'max_depth': 12, 'cr...           0.604870   \n",
       "6   {'min_samples_split': 5, 'max_depth': 10, 'cri...           0.596005   \n",
       "7   {'min_samples_split': 13, 'max_depth': 11, 'cr...           0.589336   \n",
       "19  {'min_samples_split': 12, 'max_depth': 11, 'cr...           0.586982   \n",
       "11  {'min_samples_split': 11, 'max_depth': 11, 'cr...           0.583924   \n",
       "0   {'min_samples_split': 8, 'max_depth': 11, 'cri...           0.578973   \n",
       "15  {'min_samples_split': 9, 'max_depth': 13, 'cri...           0.574648   \n",
       "8   {'min_samples_split': 10, 'max_depth': 12, 'cr...           0.558876   \n",
       "36  {'min_samples_split': 5, 'max_depth': 12, 'cri...           0.541031   \n",
       "16  {'min_samples_split': 7, 'max_depth': 13, 'cri...           0.556872   \n",
       "12  {'min_samples_split': 8, 'max_depth': 14, 'cri...           0.549718   \n",
       "17  {'min_samples_split': 6, 'max_depth': 13, 'cri...           0.549963   \n",
       "37  {'min_samples_split': 10, 'max_depth': 14, 'cr...           0.529847   \n",
       "10  {'min_samples_split': 9, 'max_depth': 14, 'cri...           0.529781   \n",
       "31  {'min_samples_split': 5, 'max_depth': 13, 'cri...           0.543925   \n",
       "32  {'min_samples_split': 5, 'max_depth': 13, 'cri...           0.522212   \n",
       "28  {'min_samples_split': 6, 'max_depth': 14, 'cri...           0.531750   \n",
       "\n",
       "    split1_test_score  split2_test_score  split3_test_score  \\\n",
       "14           0.650112           0.636839           0.642664   \n",
       "35           0.650104           0.634584           0.642444   \n",
       "26           0.649813           0.624769           0.642965   \n",
       "30           0.647195           0.634362           0.640946   \n",
       "2            0.645954           0.632837           0.641880   \n",
       "3            0.649247           0.619951           0.641928   \n",
       "25           0.645007           0.632449           0.637297   \n",
       "38           0.645751           0.617698           0.640407   \n",
       "5            0.636316           0.606449           0.632994   \n",
       "39           0.635876           0.603903           0.630684   \n",
       "34           0.629916           0.619258           0.622746   \n",
       "9            0.629162           0.619258           0.622746   \n",
       "24           0.629162           0.619258           0.622368   \n",
       "33           0.629162           0.619258           0.622238   \n",
       "27           0.632355           0.617908           0.616668   \n",
       "1            0.630518           0.617568           0.617775   \n",
       "21           0.622880           0.602053           0.622765   \n",
       "18           0.620616           0.598119           0.621162   \n",
       "4            0.617527           0.609248           0.613545   \n",
       "13           0.617534           0.608966           0.613545   \n",
       "20           0.616820           0.593922           0.620554   \n",
       "22           0.612023           0.593599           0.607784   \n",
       "29           0.609133           0.589508           0.602279   \n",
       "23           0.621146           0.581814           0.607927   \n",
       "6            0.604640           0.585963           0.602701   \n",
       "7            0.601700           0.581088           0.603803   \n",
       "19           0.599665           0.578624           0.602037   \n",
       "11           0.594293           0.575509           0.600667   \n",
       "0            0.584457           0.566059           0.588119   \n",
       "15           0.589504           0.553990           0.577680   \n",
       "8            0.582038           0.552529           0.585293   \n",
       "36           0.557014           0.533649           0.570033   \n",
       "16           0.566668           0.530458           0.563164   \n",
       "12           0.567646           0.526626           0.556662   \n",
       "17           0.558911           0.522137           0.550497   \n",
       "37           0.545813           0.526441           0.550769   \n",
       "10           0.538156           0.522572           0.546920   \n",
       "31           0.549650           0.515238           0.543087   \n",
       "32           0.538069           0.504726           0.544035   \n",
       "28           0.543546           0.498187           0.534919   \n",
       "\n",
       "    split4_test_score  mean_test_score  std_test_score  rank_test_score  \n",
       "14           0.631548         0.639189        0.006553                1  \n",
       "35           0.629868         0.638375        0.007115                2  \n",
       "26           0.638027         0.637309        0.008790                3  \n",
       "30           0.630442         0.637182        0.006092                4  \n",
       "2            0.629640         0.636414        0.006344                5  \n",
       "3            0.636384         0.635120        0.010267                6  \n",
       "25           0.629061         0.634885        0.005769                7  \n",
       "38           0.634939         0.633237        0.009865                8  \n",
       "5            0.626698         0.625087        0.010421                9  \n",
       "39           0.627210         0.624041        0.010973               10  \n",
       "34           0.617513         0.621543        0.004553               11  \n",
       "9            0.617513         0.621392        0.004277               12  \n",
       "24           0.617513         0.621300        0.004268               13  \n",
       "33           0.617513         0.621281        0.004257               14  \n",
       "27           0.615503         0.619910        0.006271               15  \n",
       "1            0.614234         0.619112        0.005854               16  \n",
       "21           0.614666         0.615618        0.007599               17  \n",
       "18           0.612201         0.612834        0.008336               18  \n",
       "4            0.606218         0.609853        0.005232               19  \n",
       "13           0.606474         0.609849        0.005208               20  \n",
       "20           0.607342         0.609835        0.009204               21  \n",
       "22           0.609905         0.604682        0.006850               22  \n",
       "29           0.610091         0.601591        0.007710               23  \n",
       "23           0.588804         0.600912        0.014040               24  \n",
       "6            0.607667         0.599395        0.007730               25  \n",
       "7            0.596344         0.594454        0.008347               26  \n",
       "19           0.594321         0.592326        0.008584               27  \n",
       "11           0.594753         0.589829        0.008962               28  \n",
       "0            0.584483         0.580418        0.007751               29  \n",
       "15           0.553340         0.569832        0.014105               30  \n",
       "8            0.569543         0.569656        0.012707               31  \n",
       "36           0.552201         0.550786        0.012650               32  \n",
       "16           0.528152         0.549063        0.016451               33  \n",
       "12           0.525956         0.545321        0.016558               34  \n",
       "17           0.521620         0.540626        0.015634               35  \n",
       "37           0.528571         0.536288        0.009984               36  \n",
       "10           0.533063         0.534099        0.008166               37  \n",
       "31           0.513401         0.533060        0.015478               38  \n",
       "32           0.521349         0.526078        0.013852               39  \n",
       "28           0.498318         0.521344        0.019245               40  "
      ]
     },
     "execution_count": 39,
     "metadata": {},
     "output_type": "execute_result"
    }
   ],
   "source": [
    "results = pd.DataFrame(rand.cv_results_).sort_values('rank_test_score')\n",
    "results"
   ]
  },
  {
   "cell_type": "code",
   "execution_count": 40,
   "id": "b9670c12",
   "metadata": {
    "scrolled": true
   },
   "outputs": [
    {
     "data": {
      "text/plain": [
       "{'min_samples_split': 13, 'max_depth': 9, 'criterion': 'mse'}"
      ]
     },
     "execution_count": 40,
     "metadata": {},
     "output_type": "execute_result"
    }
   ],
   "source": [
    "rand.best_params_"
   ]
  },
  {
   "cell_type": "code",
   "execution_count": 41,
   "id": "8516fff3",
   "metadata": {},
   "outputs": [
    {
     "data": {
      "image/png": "[encoded data removed]",
      "text/plain": [
       "<Figure size 576x360 with 1 Axes>"
      ]
     },
     "metadata": {},
     "output_type": "display_data"
    }
   ],
   "source": [
    "# max depth graph \n",
    "plt.figure(figsize =(8, 5))\n",
    "plt.plot(results['param_max_depth'], results['mean_test_score'],color='red')\n",
    "plt.title('Max depth ean Score')\n",
    "plt.ylabel('Mean Score') \n",
    "plt.xlabel('Max depth')\n",
    "plt.show()"
   ]
  },
  {
   "cell_type": "code",
   "execution_count": 42,
   "id": "a41390a8",
   "metadata": {},
   "outputs": [
    {
     "data": {
      "image/png": "[encoded data removed]",
      "text/plain": [
       "<Figure size 576x360 with 1 Axes>"
      ]
     },
     "metadata": {},
     "output_type": "display_data"
    }
   ],
   "source": [
    "# min sample split graph \n",
    "plt.figure(figsize =(8, 5))\n",
    "plt.plot(results['param_min_samples_split'], results['mean_test_score'],color='red')\n",
    "plt.title('Min sample split mean Score')\n",
    "plt.ylabel('Mean Score') \n",
    "plt.xlabel('Min sample split')\n",
    "plt.show()"
   ]
  },
  {
   "cell_type": "code",
   "execution_count": 43,
   "id": "e911f0f6",
   "metadata": {},
   "outputs": [
    {
     "data": {
      "text/plain": [
       "array([121.3908046 ,  49.21212121, 124.5308642 , ..., 114.41525424,\n",
       "        83.93333333, 145.48387097])"
      ]
     },
     "execution_count": 43,
     "metadata": {},
     "output_type": "execute_result"
    }
   ],
   "source": [
    "y_pred_rand = rand.predict(X_test_s)\n",
    "y_pred_rand"
   ]
  },
  {
   "cell_type": "code",
   "execution_count": 44,
   "id": "45e24b15",
   "metadata": {
    "scrolled": true
   },
   "outputs": [
    {
     "data": {
      "text/plain": [
       "0.6573600051861581"
      ]
     },
     "execution_count": 44,
     "metadata": {},
     "output_type": "execute_result"
    }
   ],
   "source": [
    "rand.score(X_test_s, y_test)"
   ]
  },
  {
   "cell_type": "markdown",
   "id": "1827f319",
   "metadata": {},
   "source": [
    "### Modeling with the Optimal Hyperparameters"
   ]
  },
  {
   "cell_type": "code",
   "execution_count": 45,
   "id": "d35658b9",
   "metadata": {},
   "outputs": [
    {
     "data": {
      "text/plain": [
       "DecisionTreeRegressor(max_depth=8, min_samples_split=10)"
      ]
     },
     "execution_count": 45,
     "metadata": {},
     "output_type": "execute_result"
    }
   ],
   "source": [
    "# modelling\n",
    "dtr = DecisionTreeRegressor(criterion = 'mse', max_depth= 8, min_samples_split= 10) \n",
    "\n",
    "# fit\n",
    "dtr.fit(X_train_s, y_train)"
   ]
  },
  {
   "cell_type": "code",
   "execution_count": 46,
   "id": "7f8e3b57",
   "metadata": {},
   "outputs": [
    {
     "data": {
      "text/plain": [
       "0.6929978914164545"
      ]
     },
     "execution_count": 46,
     "metadata": {},
     "output_type": "execute_result"
    }
   ],
   "source": [
    "dtr.score(X_train_s, y_train)"
   ]
  },
  {
   "cell_type": "code",
   "execution_count": 47,
   "id": "1bfe997c",
   "metadata": {},
   "outputs": [
    {
     "data": {
      "text/plain": [
       "0.6533267868102401"
      ]
     },
     "execution_count": 47,
     "metadata": {},
     "output_type": "execute_result"
    }
   ],
   "source": [
    "dtr.score(X_test_s, y_test)"
   ]
  },
  {
   "cell_type": "code",
   "execution_count": 48,
   "id": "5e692f13",
   "metadata": {},
   "outputs": [
    {
     "data": {
      "text/plain": [
       "[Text(414.73933744635195, 513.4, 'degree <= 0.044\\nmse = 1504.987\\nsamples = 16000\\nvalue = 116.036'),\n",
       " Text(205.32094957081546, 453.0, 'yearsExperience <= -0.346\\nmse = 1254.237\\nsamples = 8378\\nvalue = 130.82'),\n",
       " Text(94.52172746781116, 392.6, 'jobType <= -1.256\\nmse = 906.946\\nsamples = 3318\\nvalue = 115.323'),\n",
       " Text(45.352467811158796, 332.2, 'milesFromMetropolis <= 0.178\\nmse = 817.122\\nsamples = 504\\nvalue = 137.28'),\n",
       " Text(24.696888412017167, 271.8, 'industry <= 0.298\\nmse = 790.392\\nsamples = 287\\nvalue = 145.93'),\n",
       " Text(13.471030042918455, 211.39999999999998, 'yearsExperience <= -1.181\\nmse = 726.4\\nsamples = 125\\nvalue = 156.2'),\n",
       " Text(7.184549356223176, 151.0, 'industry <= -1.512\\nmse = 526.489\\nsamples = 39\\nvalue = 145.846'),\n",
       " Text(3.592274678111588, 90.59999999999997, 'major <= -1.073\\nmse = 232.769\\nsamples = 13\\nvalue = 161.0'),\n",
       " Text(1.796137339055794, 30.199999999999932, 'mse = 114.531\\nsamples = 7\\nvalue = 170.571'),\n",
       " Text(5.388412017167382, 30.199999999999932, 'mse = 139.139\\nsamples = 6\\nvalue = 149.833'),\n",
       " Text(10.776824034334764, 90.59999999999997, 'yearsExperience <= -1.32\\nmse = 501.12\\nsamples = 26\\nvalue = 138.269'),\n",
       " Text(8.980686695278969, 30.199999999999932, 'mse = 496.127\\nsamples = 19\\nvalue = 143.632'),\n",
       " Text(12.572961373390559, 30.199999999999932, 'mse = 224.776\\nsamples = 7\\nvalue = 123.714'),\n",
       " Text(19.757510729613735, 151.0, 'milesFromMetropolis <= 0.074\\nmse = 746.396\\nsamples = 86\\nvalue = 160.895'),\n",
       " Text(17.961373390557938, 90.59999999999997, 'companyId <= -1.578\\nmse = 694.965\\nsamples = 81\\nvalue = 162.469'),\n",
       " Text(16.165236051502145, 30.199999999999932, 'mse = 95.688\\nsamples = 4\\nvalue = 134.25'),\n",
       " Text(19.757510729613735, 30.199999999999932, 'mse = 682.58\\nsamples = 77\\nvalue = 163.935'),\n",
       " Text(21.553648068669528, 90.59999999999997, 'mse = 889.44\\nsamples = 5\\nvalue = 135.4'),\n",
       " Text(35.922746781115876, 211.39999999999998, 'industry <= 0.807\\nmse = 695.599\\nsamples = 162\\nvalue = 138.006'),\n",
       " Text(28.738197424892704, 151.0, 'yearsExperience <= -0.763\\nmse = 525.29\\nsamples = 121\\nvalue = 132.76'),\n",
       " Text(25.145922746781117, 90.59999999999997, 'milesFromMetropolis <= -1.145\\nmse = 398.865\\nsamples = 73\\nvalue = 126.89'),\n",
       " Text(23.34978540772532, 30.199999999999932, 'mse = 268.615\\nsamples = 19\\nvalue = 135.263'),\n",
       " Text(26.94206008583691, 30.199999999999932, 'mse = 411.349\\nsamples = 54\\nvalue = 123.944'),\n",
       " Text(32.33047210300429, 90.59999999999997, 'major <= -0.063\\nmse = 585.465\\nsamples = 48\\nvalue = 141.688'),\n",
       " Text(30.534334763948497, 30.199999999999932, 'mse = 512.677\\nsamples = 43\\nvalue = 145.209'),\n",
       " Text(34.12660944206009, 30.199999999999932, 'mse = 187.44\\nsamples = 5\\nvalue = 111.4'),\n",
       " Text(43.107296137339056, 151.0, 'companyId <= 0.719\\nmse = 877.323\\nsamples = 41\\nvalue = 153.488'),\n",
       " Text(39.51502145922747, 90.59999999999997, 'major <= -1.076\\nmse = 697.996\\nsamples = 30\\nvalue = 145.067'),\n",
       " Text(37.71888412017167, 30.199999999999932, 'mse = 1.556\\nsamples = 3\\nvalue = 109.333'),\n",
       " Text(41.31115879828326, 30.199999999999932, 'mse = 617.739\\nsamples = 27\\nvalue = 149.037'),\n",
       " Text(46.69957081545064, 90.59999999999997, 'milesFromMetropolis <= -0.309\\nmse = 645.521\\nsamples = 11\\nvalue = 176.455'),\n",
       " Text(44.90343347639485, 30.199999999999932, 'mse = 229.609\\nsamples = 8\\nvalue = 189.125'),\n",
       " Text(48.49570815450644, 30.199999999999932, 'mse = 184.889\\nsamples = 3\\nvalue = 142.667'),\n",
       " Text(66.00804721030043, 271.8, 'industry <= 0.298\\nmse = 622.605\\nsamples = 217\\nvalue = 125.839'),\n",
       " Text(55.68025751072961, 211.39999999999998, 'companyId <= -1.523\\nmse = 651.685\\nsamples = 75\\nvalue = 135.093'),\n",
       " Text(53.88412017167382, 151.0, 'mse = 182.889\\nsamples = 3\\nvalue = 186.333'),\n",
       " Text(57.47639484978541, 151.0, 'yearsExperience <= -1.32\\nmse = 557.262\\nsamples = 72\\nvalue = 132.958'),\n",
       " Text(53.88412017167382, 90.59999999999997, 'degree <= -0.934\\nmse = 456.934\\nsamples = 25\\nvalue = 121.84'),\n",
       " Text(52.087982832618025, 30.199999999999932, 'mse = 399.778\\nsamples = 19\\nvalue = 115.895'),\n",
       " Text(55.68025751072961, 30.199999999999932, 'mse = 171.556\\nsamples = 6\\nvalue = 140.667'),\n",
       " Text(61.06866952789699, 90.59999999999997, 'major <= -1.073\\nmse = 509.899\\nsamples = 47\\nvalue = 138.872'),\n",
       " Text(59.272532188841204, 30.199999999999932, 'mse = 609.349\\nsamples = 18\\nvalue = 145.611'),\n",
       " Text(62.86480686695279, 30.199999999999932, 'mse = 402.49\\nsamples = 29\\nvalue = 134.69'),\n",
       " Text(76.33583690987125, 211.39999999999998, 'industry <= 0.807\\nmse = 538.117\\nsamples = 142\\nvalue = 120.951'),\n",
       " Text(71.84549356223175, 151.0, 'industry <= 0.581\\nmse = 482.869\\nsamples = 113\\nvalue = 117.496'),\n",
       " Text(68.25321888412017, 90.59999999999997, 'milesFromMetropolis <= 0.822\\nmse = 444.821\\nsamples = 42\\nvalue = 126.524'),\n",
       " Text(66.45708154506438, 30.199999999999932, 'mse = 375.905\\nsamples = 13\\nvalue = 138.692'),\n",
       " Text(70.04935622317596, 30.199999999999932, 'mse = 379.581\\nsamples = 29\\nvalue = 121.069'),\n",
       " Text(75.43776824034335, 90.59999999999997, 'companyId <= 0.414\\nmse = 428.638\\nsamples = 71\\nvalue = 112.155'),\n",
       " Text(73.64163090128756, 30.199999999999932, 'mse = 370.249\\nsamples = 45\\nvalue = 116.867'),\n",
       " Text(77.23390557939913, 30.199999999999932, 'mse = 424.769\\nsamples = 26\\nvalue = 104.0'),\n",
       " Text(80.82618025751073, 151.0, 'major <= -1.079\\nmse = 525.622\\nsamples = 29\\nvalue = 134.414'),\n",
       " Text(79.03004291845494, 90.59999999999997, 'mse = 463.25\\nsamples = 4\\nvalue = 165.5'),\n",
       " Text(82.62231759656652, 90.59999999999997, 'degree <= -0.966\\nmse = 356.246\\nsamples = 25\\nvalue = 129.44'),\n",
       " Text(80.82618025751073, 30.199999999999932, 'mse = 440.81\\nsamples = 11\\nvalue = 137.909'),\n",
       " Text(84.41845493562232, 30.199999999999932, 'mse = 189.168\\nsamples = 14\\nvalue = 122.786'),\n",
       " Text(143.6909871244635, 332.2, 'jobType <= -0.091\\nmse = 821.224\\nsamples = 2814\\nvalue = 111.391'),\n",
       " Text(114.95278969957081, 271.8, 'industry <= 0.298\\nmse = 570.457\\nsamples = 1388\\nvalue = 97.597'),\n",
       " Text(100.58369098712447, 211.39999999999998, 'milesFromMetropolis <= -0.588\\nmse = 528.174\\nsamples = 573\\nvalue = 106.665'),\n",
       " Text(93.39914163090128, 151.0, 'yearsExperience <= -1.32\\nmse = 559.815\\nsamples = 188\\nvalue = 116.404'),\n",
       " Text(89.8068669527897, 90.59999999999997, 'jobType <= -0.912\\nmse = 364.539\\nsamples = 46\\nvalue = 103.935'),\n",
       " Text(88.0107296137339, 30.199999999999932, 'mse = 162.622\\nsamples = 15\\nvalue = 89.667'),\n",
       " Text(91.6030042918455, 30.199999999999932, 'mse = 316.071\\nsamples = 31\\nvalue = 110.839'),\n",
       " Text(96.99141630901288, 90.59999999999997, 'industry <= -0.447\\nmse = 556.388\\nsamples = 142\\nvalue = 120.444'),\n",
       " Text(95.19527896995709, 30.199999999999932, 'mse = 531.227\\nsamples = 92\\nvalue = 115.891'),\n",
       " Text(98.78755364806867, 30.199999999999932, 'mse = 494.388\\nsamples = 50\\nvalue = 128.82'),\n",
       " Text(107.76824034334764, 151.0, 'jobType <= -0.912\\nmse = 443.787\\nsamples = 385\\nvalue = 101.909'),\n",
       " Text(104.17596566523605, 90.59999999999997, 'yearsExperience <= -0.903\\nmse = 406.183\\nsamples = 139\\nvalue = 93.655'),\n",
       " Text(102.37982832618026, 30.199999999999932, 'mse = 305.943\\nsamples = 76\\nvalue = 87.289'),\n",
       " Text(105.97210300429184, 30.199999999999932, 'mse = 419.27\\nsamples = 63\\nvalue = 101.333'),\n",
       " Text(111.36051502145922, 90.59999999999997, 'yearsExperience <= -1.181\\nmse = 404.781\\nsamples = 246\\nvalue = 106.573'),\n",
       " Text(109.56437768240343, 30.199999999999932, 'mse = 293.726\\nsamples = 104\\nvalue = 99.433'),\n",
       " Text(113.15665236051503, 30.199999999999932, 'mse = 421.426\\nsamples = 142\\nvalue = 111.803'),\n",
       " Text(129.32188841201716, 211.39999999999998, 'industry <= 0.807\\nmse = 501.718\\nsamples = 815\\nvalue = 91.221'),\n",
       " Text(122.13733905579399, 151.0, 'jobType <= -0.912\\nmse = 383.151\\nsamples = 584\\nvalue = 85.762'),\n",
       " Text(118.54506437768241, 90.59999999999997, 'yearsExperience <= -1.042\\nmse = 294.46\\nsamples = 197\\nvalue = 75.081'),\n",
       " Text(116.7489270386266, 30.199999999999932, 'mse = 185.121\\nsamples = 101\\nvalue = 68.515'),\n",
       " Text(120.3412017167382, 30.199999999999932, 'mse = 316.406\\nsamples = 96\\nvalue = 81.99'),\n",
       " Text(125.72961373390558, 90.59999999999997, 'milesFromMetropolis <= 0.004\\nmse = 340.666\\nsamples = 387\\nvalue = 91.199'),\n",
       " Text(123.93347639484979, 30.199999999999932, 'mse = 326.034\\nsamples = 191\\nvalue = 98.801'),\n",
       " Text(127.52575107296137, 30.199999999999932, 'mse = 243.727\\nsamples = 196\\nvalue = 83.791'),\n",
       " Text(136.50643776824035, 151.0, 'major <= -1.065\\nmse = 535.675\\nsamples = 231\\nvalue = 105.022'),\n",
       " Text(132.91416309012877, 90.59999999999997, 'jobType <= -0.912\\nmse = 470.211\\nsamples = 157\\nvalue = 111.338'),\n",
       " Text(131.11802575107296, 30.199999999999932, 'mse = 419.972\\nsamples = 43\\nvalue = 99.93'),\n",
       " Text(134.71030042918454, 30.199999999999932, 'mse = 421.564\\nsamples = 114\\nvalue = 115.64'),\n",
       " Text(140.09871244635193, 90.59999999999997, 'jobType <= -0.912\\nmse = 410.37\\nsamples = 74\\nvalue = 91.622'),\n",
       " Text(138.30257510729615, 30.199999999999932, 'mse = 399.151\\nsamples = 35\\nvalue = 83.143'),\n",
       " Text(141.89484978540773, 30.199999999999932, 'mse = 298.024\\nsamples = 39\\nvalue = 99.231'),\n",
       " Text(172.42918454935622, 271.8, 'industry <= 0.298\\nmse = 699.835\\nsamples = 1426\\nvalue = 124.817'),\n",
       " Text(158.06008583690988, 211.39999999999998, 'yearsExperience <= -1.042\\nmse = 596.026\\nsamples = 587\\nvalue = 134.908'),\n",
       " Text(150.8755364806867, 151.0, 'industry <= -1.512\\nmse = 578.791\\nsamples = 309\\nvalue = 129.547'),\n",
       " Text(147.2832618025751, 90.59999999999997, 'milesFromMetropolis <= -1.528\\nmse = 589.123\\nsamples = 115\\nvalue = 136.157'),\n",
       " Text(145.4871244635193, 30.199999999999932, 'mse = 1229.04\\nsamples = 5\\nvalue = 163.6'),\n",
       " Text(149.0793991416309, 30.199999999999932, 'mse = 524.246\\nsamples = 110\\nvalue = 134.909'),\n",
       " Text(154.46781115879827, 90.59999999999997, 'milesFromMetropolis <= 0.074\\nmse = 531.419\\nsamples = 194\\nvalue = 125.629'),\n",
       " Text(152.6716738197425, 30.199999999999932, 'mse = 505.325\\nsamples = 93\\nvalue = 131.516'),\n",
       " Text(156.26394849785407, 30.199999999999932, 'mse = 494.145\\nsamples = 101\\nvalue = 120.208'),\n",
       " Text(165.24463519313304, 151.0, 'milesFromMetropolis <= 0.37\\nmse = 547.727\\nsamples = 278\\nvalue = 140.867'),\n",
       " Text(161.65236051502146, 90.59999999999997, 'degree <= -0.934\\nmse = 544.921\\nsamples = 183\\nvalue = 144.885'),\n",
       " Text(159.85622317596565, 30.199999999999932, 'mse = 478.991\\nsamples = 126\\nvalue = 141.762'),\n",
       " Text(163.44849785407726, 30.199999999999932, 'mse = 621.429\\nsamples = 57\\nvalue = 151.789'),\n",
       " Text(168.83690987124464, 90.59999999999997, 'milesFromMetropolis <= 1.466\\nmse = 462.11\\nsamples = 95\\nvalue = 133.126'),\n",
       " Text(167.04077253218884, 30.199999999999932, 'mse = 426.257\\nsamples = 76\\nvalue = 136.079'),\n",
       " Text(170.63304721030042, 30.199999999999932, 'mse = 431.163\\nsamples = 19\\nvalue = 121.316'),\n",
       " Text(186.79828326180257, 211.39999999999998, 'industry <= 0.807\\nmse = 651.376\\nsamples = 839\\nvalue = 117.757'),\n",
       " Text(179.6137339055794, 151.0, 'milesFromMetropolis <= -1.388\\nmse = 530.291\\nsamples = 613\\nvalue = 111.863'),\n",
       " Text(176.0214592274678, 90.59999999999997, 'major <= -1.065\\nmse = 465.714\\nsamples = 65\\nvalue = 133.385'),\n",
       " Text(174.22532188841203, 30.199999999999932, 'mse = 451.332\\nsamples = 50\\nvalue = 128.22'),\n",
       " Text(177.8175965665236, 30.199999999999932, 'mse = 128.373\\nsamples = 15\\nvalue = 150.6'),\n",
       " Text(183.206008583691, 90.59999999999997, 'jobType <= 1.396\\nmse = 476.495\\nsamples = 548\\nvalue = 109.31'),\n",
       " Text(181.40987124463518, 30.199999999999932, 'mse = 470.111\\nsamples = 372\\nvalue = 113.296'),\n",
       " Text(185.0021459227468, 30.199999999999932, 'mse = 385.453\\nsamples = 176\\nvalue = 100.886'),\n",
       " Text(193.98283261802575, 151.0, 'yearsExperience <= -1.32\\nmse = 630.014\\nsamples = 226\\nvalue = 133.743'),\n",
       " Text(190.39055793991417, 90.59999999999997, 'major <= -1.079\\nmse = 500.623\\nsamples = 69\\nvalue = 122.014'),\n",
       " Text(188.59442060085837, 30.199999999999932, 'mse = 198.188\\nsamples = 4\\nvalue = 161.25'),\n",
       " Text(192.18669527896995, 30.199999999999932, 'mse = 418.671\\nsamples = 65\\nvalue = 119.6'),\n",
       " Text(197.57510729613733, 90.59999999999997, 'milesFromMetropolis <= 0.735\\nmse = 599.849\\nsamples = 157\\nvalue = 138.898'),\n",
       " Text(195.77896995708156, 30.199999999999932, 'mse = 656.02\\nsamples = 106\\nvalue = 143.868'),\n",
       " Text(199.37124463519314, 30.199999999999932, 'mse = 325.069\\nsamples = 51\\nvalue = 128.569'),\n",
       " Text(316.12017167381975, 392.6, 'milesFromMetropolis <= -0.031\\nmse = 1221.227\\nsamples = 5060\\nvalue = 140.982'),\n",
       " Text(258.6437768240343, 332.2, 'yearsExperience <= 0.627\\nmse = 1171.698\\nsamples = 2510\\nvalue = 152.982'),\n",
       " Text(229.90557939914163, 271.8, 'industry <= 0.298\\nmse = 1039.662\\nsamples = 1198\\nvalue = 143.311'),\n",
       " Text(215.53648068669528, 211.39999999999998, 'jobType <= -1.256\\nmse = 968.278\\nsamples = 518\\nvalue = 153.604'),\n",
       " Text(208.3519313304721, 151.0, 'milesFromMetropolis <= -1.319\\nmse = 1001.716\\nsamples = 78\\nvalue = 173.769'),\n",
       " Text(204.75965665236052, 90.59999999999997, 'industry <= -1.512\\nmse = 1492.215\\nsamples = 16\\nvalue = 192.312'),\n",
       " Text(202.96351931330472, 30.199999999999932, 'mse = 38.75\\nsamples = 4\\nvalue = 227.5'),\n",
       " Text(206.5557939914163, 30.199999999999932, 'mse = 1426.41\\nsamples = 12\\nvalue = 180.583'),\n",
       " Text(211.94420600858368, 90.59999999999997, 'companyId <= -1.246\\nmse = 763.5\\nsamples = 62\\nvalue = 168.984'),\n",
       " Text(210.1480686695279, 30.199999999999932, 'mse = 489.688\\nsamples = 12\\nvalue = 154.25'),\n",
       " Text(213.74034334763948, 30.199999999999932, 'mse = 764.61\\nsamples = 50\\nvalue = 172.52'),\n",
       " Text(222.72103004291844, 151.0, 'jobType <= -0.091\\nmse = 877.488\\nsamples = 440\\nvalue = 150.03'),\n",
       " Text(219.12875536480686, 90.59999999999997, 'degree <= -0.934\\nmse = 626.369\\nsamples = 214\\nvalue = 136.257'),\n",
       " Text(217.33261802575106, 30.199999999999932, 'mse = 600.114\\nsamples = 128\\nvalue = 131.945'),\n",
       " Text(220.92489270386267, 30.199999999999932, 'mse = 596.592\\nsamples = 86\\nvalue = 142.674'),\n",
       " Text(226.31330472103005, 90.59999999999997, 'milesFromMetropolis <= -0.936\\nmse = 765.588\\nsamples = 226\\nvalue = 163.071'),\n",
       " Text(224.51716738197425, 30.199999999999932, 'mse = 825.881\\nsamples = 110\\nvalue = 169.255'),\n",
       " Text(228.10944206008583, 30.199999999999932, 'mse = 637.768\\nsamples = 116\\nvalue = 157.207'),\n",
       " Text(244.27467811158797, 211.39999999999998, 'industry <= 0.807\\nmse = 951.834\\nsamples = 680\\nvalue = 135.469'),\n",
       " Text(237.09012875536482, 151.0, 'jobType <= -0.091\\nmse = 783.197\\nsamples = 493\\nvalue = 129.4'),\n",
       " Text(233.4978540772532, 90.59999999999997, 'jobType <= -1.256\\nmse = 805.958\\nsamples = 271\\nvalue = 121.074'),\n",
       " Text(231.70171673819743, 30.199999999999932, 'mse = 728.101\\nsamples = 69\\nvalue = 148.986'),\n",
       " Text(235.293991416309, 30.199999999999932, 'mse = 475.536\\nsamples = 202\\nvalue = 111.54'),\n",
       " Text(240.6824034334764, 90.59999999999997, 'milesFromMetropolis <= -1.005\\nmse = 567.498\\nsamples = 222\\nvalue = 139.563'),\n",
       " Text(238.8862660944206, 30.199999999999932, 'mse = 576.626\\nsamples = 94\\nvalue = 149.415'),\n",
       " Text(242.4785407725322, 30.199999999999932, 'mse = 437.174\\nsamples = 128\\nvalue = 132.328'),\n",
       " Text(251.45922746781116, 151.0, 'jobType <= -1.256\\nmse = 1043.254\\nsamples = 187\\nvalue = 151.471'),\n",
       " Text(247.86695278969958, 90.59999999999997, 'milesFromMetropolis <= -1.684\\nmse = 744.488\\nsamples = 20\\nvalue = 183.75'),\n",
       " Text(246.07081545064378, 30.199999999999932, 'mse = 6.25\\nsamples = 2\\nvalue = 220.5'),\n",
       " Text(249.66309012875536, 30.199999999999932, 'mse = 659.778\\nsamples = 18\\nvalue = 179.667'),\n",
       " Text(255.05150214592274, 90.59999999999997, 'jobType <= -0.091\\nmse = 939.305\\nsamples = 167\\nvalue = 147.605'),\n",
       " Text(253.25536480686696, 30.199999999999932, 'mse = 719.686\\nsamples = 82\\nvalue = 136.146'),\n",
       " Text(256.8476394849785, 30.199999999999932, 'mse = 902.319\\nsamples = 85\\nvalue = 158.659'),\n",
       " Text(287.381974248927, 271.8, 'jobType <= -1.256\\nmse = 1128.875\\nsamples = 1312\\nvalue = 161.812'),\n",
       " Text(273.0128755364807, 211.39999999999998, 'industry <= -1.512\\nmse = 1016.071\\nsamples = 192\\nvalue = 185.042'),\n",
       " Text(265.82832618025753, 151.0, 'major <= -1.068\\nmse = 1076.17\\nsamples = 23\\nvalue = 204.783'),\n",
       " Text(262.2360515021459, 90.59999999999997, 'major <= -1.076\\nmse = 660.694\\nsamples = 11\\nvalue = 228.818'),\n",
       " Text(260.4399141630901, 30.199999999999932, 'mse = 345.333\\nsamples = 6\\nvalue = 213.0'),\n",
       " Text(264.03218884120173, 30.199999999999932, 'mse = 378.56\\nsamples = 5\\nvalue = 247.8'),\n",
       " Text(269.4206008583691, 90.59999999999997, 'yearsExperience <= 1.184\\nmse = 442.021\\nsamples = 12\\nvalue = 182.75'),\n",
       " Text(267.6244635193133, 30.199999999999932, 'mse = 113.139\\nsamples = 6\\nvalue = 169.833'),\n",
       " Text(271.2167381974249, 30.199999999999932, 'mse = 437.222\\nsamples = 6\\nvalue = 195.667'),\n",
       " Text(280.19742489270385, 151.0, 'milesFromMetropolis <= -1.562\\nmse = 947.637\\nsamples = 169\\nvalue = 182.355'),\n",
       " Text(276.6051502145923, 90.59999999999997, 'industry <= 0.684\\nmse = 1342.007\\nsamples = 17\\nvalue = 204.412'),\n",
       " Text(274.8090128755365, 30.199999999999932, 'mse = 967.87\\nsamples = 13\\nvalue = 215.231'),\n",
       " Text(278.40128755364805, 30.199999999999932, 'mse = 941.188\\nsamples = 4\\nvalue = 169.25'),\n",
       " Text(283.78969957081546, 90.59999999999997, 'industry <= 0.807\\nmse = 843.034\\nsamples = 152\\nvalue = 179.888'),\n",
       " Text(281.99356223175965, 30.199999999999932, 'mse = 749.865\\nsamples = 122\\nvalue = 176.41'),\n",
       " Text(285.58583690987126, 30.199999999999932, 'mse = 972.632\\nsamples = 30\\nvalue = 194.033'),\n",
       " Text(301.7510729613734, 211.39999999999998, 'jobType <= -0.091\\nmse = 1039.853\\nsamples = 1120\\nvalue = 157.83'),\n",
       " Text(294.5665236051502, 151.0, 'milesFromMetropolis <= -1.04\\nmse = 860.82\\nsamples = 549\\nvalue = 146.135'),\n",
       " Text(290.9742489270386, 90.59999999999997, 'industry <= 0.298\\nmse = 839.837\\nsamples = 226\\nvalue = 157.58'),\n",
       " Text(289.1781115879828, 30.199999999999932, 'mse = 887.677\\nsamples = 96\\nvalue = 169.896'),\n",
       " Text(292.7703862660944, 30.199999999999932, 'mse = 609.773\\nsamples = 130\\nvalue = 148.485'),\n",
       " Text(298.1587982832618, 90.59999999999997, 'industry <= 0.298\\nmse = 719.727\\nsamples = 323\\nvalue = 138.127'),\n",
       " Text(296.362660944206, 30.199999999999932, 'mse = 689.485\\nsamples = 134\\nvalue = 147.194'),\n",
       " Text(299.9549356223176, 30.199999999999932, 'mse = 641.555\\nsamples = 189\\nvalue = 131.698'),\n",
       " Text(308.93562231759654, 151.0, 'milesFromMetropolis <= -0.901\\nmse = 954.024\\nsamples = 571\\nvalue = 169.075'),\n",
       " Text(305.343347639485, 90.59999999999997, 'industry <= 0.298\\nmse = 1039.327\\nsamples = 260\\nvalue = 176.715'),\n",
       " Text(303.5472103004292, 30.199999999999932, 'mse = 1115.3\\nsamples = 99\\nvalue = 187.485'),\n",
       " Text(307.1394849785408, 30.199999999999932, 'mse = 877.439\\nsamples = 161\\nvalue = 170.093'),\n",
       " Text(312.52789699570815, 90.59999999999997, 'jobType <= 1.396\\nmse = 793.115\\nsamples = 311\\nvalue = 162.688'),\n",
       " Text(310.73175965665234, 30.199999999999932, 'mse = 806.287\\nsamples = 200\\nvalue = 167.27'),\n",
       " Text(314.32403433476395, 30.199999999999932, 'mse = 663.399\\nsamples = 111\\nvalue = 154.432'),\n",
       " Text(373.59656652360513, 332.2, 'industry <= 0.298\\nmse = 988.727\\nsamples = 2550\\nvalue = 129.17'),\n",
       " Text(344.85836909871244, 271.8, 'jobType <= -0.091\\nmse = 972.739\\nsamples = 1122\\nvalue = 139.656'),\n",
       " Text(330.48927038626607, 211.39999999999998, 'jobType <= -1.256\\nmse = 995.005\\nsamples = 629\\nvalue = 132.076'),\n",
       " Text(323.3047210300429, 151.0, 'milesFromMetropolis <= 0.875\\nmse = 912.187\\nsamples = 160\\nvalue = 158.306'),\n",
       " Text(319.7124463519313, 90.59999999999997, 'companyId <= -1.274\\nmse = 918.526\\nsamples = 68\\nvalue = 169.941'),\n",
       " Text(317.91630901287556, 30.199999999999932, 'mse = 348.81\\nsamples = 10\\nvalue = 142.7'),\n",
       " Text(321.5085836909871, 30.199999999999932, 'mse = 866.748\\nsamples = 58\\nvalue = 174.638'),\n",
       " Text(326.8969957081545, 90.59999999999997, 'yearsExperience <= 1.045\\nmse = 733.49\\nsamples = 92\\nvalue = 149.707'),\n",
       " Text(325.1008583690987, 30.199999999999932, 'mse = 604.67\\nsamples = 59\\nvalue = 143.356'),\n",
       " Text(328.6931330472103, 30.199999999999932, 'mse = 762.784\\nsamples = 33\\nvalue = 161.061'),\n",
       " Text(337.6738197424893, 151.0, 'jobType <= -0.912\\nmse = 708.47\\nsamples = 469\\nvalue = 123.128'),\n",
       " Text(334.0815450643777, 90.59999999999997, 'milesFromMetropolis <= 0.77\\nmse = 547.512\\nsamples = 152\\nvalue = 111.467'),\n",
       " Text(332.2854077253219, 30.199999999999932, 'mse = 484.485\\nsamples = 68\\nvalue = 120.485'),\n",
       " Text(335.8776824034335, 30.199999999999932, 'mse = 479.401\\nsamples = 84\\nvalue = 104.167'),\n",
       " Text(341.26609442060084, 90.59999999999997, 'milesFromMetropolis <= 0.248\\nmse = 689.186\\nsamples = 317\\nvalue = 128.719'),\n",
       " Text(339.4699570815451, 30.199999999999932, 'mse = 797.562\\nsamples = 52\\nvalue = 144.231'),\n",
       " Text(343.06223175965664, 30.199999999999932, 'mse = 611.442\\nsamples = 265\\nvalue = 125.675'),\n",
       " Text(359.2274678111588, 211.39999999999998, 'milesFromMetropolis <= 0.457\\nmse = 777.51\\nsamples = 493\\nvalue = 149.327'),\n",
       " Text(352.0429184549356, 151.0, 'yearsExperience <= 1.184\\nmse = 809.079\\nsamples = 149\\nvalue = 159.832'),\n",
       " Text(348.45064377682405, 90.59999999999997, 'jobType <= 1.396\\nmse = 751.892\\nsamples = 112\\nvalue = 154.536'),\n",
       " Text(346.65450643776825, 30.199999999999932, 'mse = 747.886\\nsamples = 68\\nvalue = 159.397'),\n",
       " Text(350.2467811158798, 30.199999999999932, 'mse = 665.113\\nsamples = 44\\nvalue = 147.023'),\n",
       " Text(355.6351931330472, 90.59999999999997, 'companyId <= 1.411\\nmse = 640.225\\nsamples = 37\\nvalue = 175.865'),\n",
       " Text(353.8390557939914, 30.199999999999932, 'mse = 568.91\\nsamples = 36\\nvalue = 177.417'),\n",
       " Text(357.431330472103, 30.199999999999932, 'mse = 0.0\\nsamples = 1\\nvalue = 120.0'),\n",
       " Text(366.412017167382, 151.0, 'jobType <= 1.396\\nmse = 695.325\\nsamples = 344\\nvalue = 144.776'),\n",
       " Text(362.81974248927037, 90.59999999999997, 'yearsExperience <= 1.184\\nmse = 667.51\\nsamples = 227\\nvalue = 149.493'),\n",
       " Text(361.02360515021456, 30.199999999999932, 'mse = 626.285\\nsamples = 167\\nvalue = 145.79'),\n",
       " Text(364.6158798283262, 30.199999999999932, 'mse = 637.86\\nsamples = 60\\nvalue = 159.8'),\n",
       " Text(370.0042918454936, 90.59999999999997, 'yearsExperience <= 0.906\\nmse = 622.354\\nsamples = 117\\nvalue = 135.624'),\n",
       " Text(368.2081545064378, 30.199999999999932, 'mse = 517.911\\nsamples = 70\\nvalue = 130.786'),\n",
       " Text(371.80042918454933, 30.199999999999932, 'mse = 691.12\\nsamples = 47\\nvalue = 142.83'),\n",
       " Text(402.3347639484979, 271.8, 'jobType <= -0.091\\nmse = 847.021\\nsamples = 1428\\nvalue = 120.931'),\n",
       " Text(387.9656652360515, 211.39999999999998, 'jobType <= -1.256\\nmse = 854.776\\nsamples = 828\\nvalue = 113.709'),\n",
       " Text(380.78111587982835, 151.0, 'industry <= 0.807\\nmse = 734.725\\nsamples = 195\\nvalue = 141.154'),\n",
       " Text(377.18884120171674, 90.59999999999997, 'milesFromMetropolis <= 0.7\\nmse = 694.688\\nsamples = 147\\nvalue = 136.272'),\n",
       " Text(375.39270386266094, 30.199999999999932, 'mse = 706.729\\nsamples = 52\\nvalue = 147.962'),\n",
       " Text(378.98497854077254, 30.199999999999932, 'mse = 572.363\\nsamples = 95\\nvalue = 129.874'),\n",
       " Text(384.3733905579399, 90.59999999999997, 'major <= -0.063\\nmse = 560.843\\nsamples = 48\\nvalue = 156.104'),\n",
       " Text(382.5772532188841, 30.199999999999932, 'mse = 596.948\\nsamples = 41\\nvalue = 158.683'),\n",
       " Text(386.1695278969957, 30.199999999999932, 'mse = 82.286\\nsamples = 7\\nvalue = 141.0'),\n",
       " Text(395.15021459227466, 151.0, 'milesFromMetropolis <= 1.083\\nmse = 588.243\\nsamples = 633\\nvalue = 105.254'),\n",
       " Text(391.5579399141631, 90.59999999999997, 'industry <= 0.807\\nmse = 549.664\\nsamples = 403\\nvalue = 111.963'),\n",
       " Text(389.7618025751073, 30.199999999999932, 'mse = 440.018\\nsamples = 301\\nvalue = 107.196'),\n",
       " Text(393.35407725321886, 30.199999999999932, 'mse = 608.303\\nsamples = 102\\nvalue = 126.029'),\n",
       " Text(398.7424892703863, 90.59999999999997, 'industry <= 0.807\\nmse = 438.824\\nsamples = 230\\nvalue = 93.5'),\n",
       " Text(396.94635193133047, 30.199999999999932, 'mse = 318.524\\nsamples = 175\\nvalue = 88.954'),\n",
       " Text(400.5386266094421, 30.199999999999932, 'mse = 546.653\\nsamples = 55\\nvalue = 107.964'),\n",
       " Text(416.7038626609442, 211.39999999999998, 'industry <= 0.807\\nmse = 664.991\\nsamples = 600\\nvalue = 130.898'),\n",
       " Text(409.51931330472104, 151.0, 'yearsExperience <= 0.349\\nmse = 564.66\\nsamples = 451\\nvalue = 126.357'),\n",
       " Text(405.92703862660943, 90.59999999999997, 'jobType <= 1.396\\nmse = 391.318\\nsamples = 146\\nvalue = 114.486'),\n",
       " Text(404.1309012875536, 30.199999999999932, 'mse = 353.626\\nsamples = 99\\nvalue = 118.101'),\n",
       " Text(407.72317596566523, 30.199999999999932, 'mse = 385.218\\nsamples = 47\\nvalue = 106.872'),\n",
       " Text(413.1115879828326, 90.59999999999997, 'milesFromMetropolis <= 0.352\\nmse = 547.894\\nsamples = 305\\nvalue = 132.039'),\n",
       " Text(411.31545064377684, 30.199999999999932, 'mse = 575.249\\nsamples = 80\\nvalue = 145.225'),\n",
       " Text(414.9077253218884, 30.199999999999932, 'mse = 454.37\\nsamples = 225\\nvalue = 127.351'),\n",
       " Text(423.88841201716735, 151.0, 'yearsExperience <= 1.323\\nmse = 717.303\\nsamples = 149\\nvalue = 144.644'),\n",
       " Text(420.2961373390558, 90.59999999999997, 'milesFromMetropolis <= 0.561\\nmse = 718.469\\nsamples = 123\\nvalue = 141.228'),\n",
       " Text(418.5, 30.199999999999932, 'mse = 766.912\\nsamples = 42\\nvalue = 151.429'),\n",
       " Text(422.0922746781116, 30.199999999999932, 'mse = 611.416\\nsamples = 81\\nvalue = 135.938'),\n",
       " Text(427.48068669527896, 90.59999999999997, 'jobType <= 1.396\\nmse = 395.309\\nsamples = 26\\nvalue = 160.808'),\n",
       " Text(425.68454935622316, 30.199999999999932, 'mse = 357.889\\nsamples = 17\\nvalue = 168.412'),\n",
       " Text(429.27682403433477, 30.199999999999932, 'mse = 150.469\\nsamples = 9\\nvalue = 146.444'),\n",
       " Text(624.1577253218884, 453.0, 'yearsExperience <= 0.071\\nmse = 1276.284\\nsamples = 7622\\nvalue = 99.785'),\n",
       " Text(519.7572424892704, 392.6, 'jobType <= -1.256\\nmse = 924.743\\nsamples = 3981\\nvalue = 86.856'),\n",
       " Text(475.5273605150214, 332.2, 'milesFromMetropolis <= 0.387\\nmse = 576.935\\nsamples = 353\\nvalue = 120.054'),\n",
       " Text(457.11695278969955, 271.8, 'industry <= 0.298\\nmse = 586.434\\nsamples = 215\\nvalue = 126.451'),\n",
       " Text(445.4420600858369, 211.39999999999998, 'yearsExperience <= -0.485\\nmse = 628.422\\nsamples = 93\\nvalue = 137.484'),\n",
       " Text(438.2575107296137, 151.0, 'industry <= -1.512\\nmse = 526.336\\nsamples = 62\\nvalue = 131.774'),\n",
       " Text(434.6652360515021, 90.59999999999997, 'milesFromMetropolis <= -0.971\\nmse = 449.576\\nsamples = 24\\nvalue = 140.583'),\n",
       " Text(432.8690987124464, 30.199999999999932, 'mse = 500.13\\nsamples = 13\\nvalue = 133.846'),\n",
       " Text(436.4613733905579, 30.199999999999932, 'mse = 272.793\\nsamples = 11\\nvalue = 148.545'),\n",
       " Text(441.84978540772534, 90.59999999999997, 'industry <= -0.447\\nmse = 494.85\\nsamples = 38\\nvalue = 126.211'),\n",
       " Text(440.05364806866953, 30.199999999999932, 'mse = 364.948\\nsamples = 20\\nvalue = 120.55'),\n",
       " Text(443.64592274678114, 30.199999999999932, 'mse = 564.028\\nsamples = 18\\nvalue = 132.5'),\n",
       " Text(452.6266094420601, 151.0, 'industry <= -1.512\\nmse = 636.991\\nsamples = 31\\nvalue = 148.903'),\n",
       " Text(449.0343347639485, 90.59999999999997, 'milesFromMetropolis <= -1.458\\nmse = 434.083\\nsamples = 11\\nvalue = 158.909'),\n",
       " Text(447.2381974248927, 30.199999999999932, 'mse = 0.0\\nsamples = 1\\nvalue = 200.0'),\n",
       " Text(450.8304721030043, 30.199999999999932, 'mse = 291.76\\nsamples = 10\\nvalue = 154.8'),\n",
       " Text(456.21888412017165, 90.59999999999997, 'companyId <= -0.416\\nmse = 663.24\\nsamples = 20\\nvalue = 143.4'),\n",
       " Text(454.4227467811159, 30.199999999999932, 'mse = 715.806\\nsamples = 6\\nvalue = 128.833'),\n",
       " Text(458.01502145922746, 30.199999999999932, 'mse = 510.801\\nsamples = 14\\nvalue = 149.643'),\n",
       " Text(468.7918454935622, 211.39999999999998, 'yearsExperience <= -0.624\\nmse = 390.908\\nsamples = 122\\nvalue = 118.041'),\n",
       " Text(465.1995708154506, 151.0, 'companyId <= 1.632\\nmse = 304.497\\nsamples = 80\\nvalue = 113.45'),\n",
       " Text(463.40343347639487, 90.59999999999997, 'milesFromMetropolis <= -0.361\\nmse = 273.292\\nsamples = 77\\nvalue = 112.182'),\n",
       " Text(461.60729613733906, 30.199999999999932, 'mse = 212.442\\nsamples = 45\\nvalue = 117.044'),\n",
       " Text(465.1995708154506, 30.199999999999932, 'mse = 278.851\\nsamples = 32\\nvalue = 105.344'),\n",
       " Text(466.9957081545064, 90.59999999999997, 'mse = 4.667\\nsamples = 3\\nvalue = 146.0'),\n",
       " Text(472.3841201716738, 151.0, 'milesFromMetropolis <= -1.388\\nmse = 438.883\\nsamples = 42\\nvalue = 126.786'),\n",
       " Text(470.587982832618, 90.59999999999997, 'mse = 413.359\\nsamples = 8\\nvalue = 113.125'),\n",
       " Text(474.18025751072963, 90.59999999999997, 'milesFromMetropolis <= -1.319\\nmse = 390.647\\nsamples = 34\\nvalue = 130.0'),\n",
       " Text(472.3841201716738, 30.199999999999932, 'mse = 407.688\\nsamples = 4\\nvalue = 146.75'),\n",
       " Text(475.9763948497854, 30.199999999999932, 'mse = 345.979\\nsamples = 30\\nvalue = 127.767'),\n",
       " Text(493.93776824034336, 271.8, 'yearsExperience <= -0.624\\nmse = 399.036\\nsamples = 138\\nvalue = 110.087'),\n",
       " Text(486.75321888412014, 211.39999999999998, 'industry <= 0.298\\nmse = 416.223\\nsamples = 84\\nvalue = 105.726'),\n",
       " Text(483.1609442060086, 151.0, 'milesFromMetropolis <= 1.536\\nmse = 343.44\\nsamples = 40\\nvalue = 112.4'),\n",
       " Text(481.3648068669528, 90.59999999999997, 'milesFromMetropolis <= 0.753\\nmse = 329.588\\nsamples = 37\\nvalue = 114.081'),\n",
       " Text(479.568669527897, 30.199999999999932, 'mse = 118.209\\nsamples = 14\\nvalue = 108.071'),\n",
       " Text(483.1609442060086, 30.199999999999932, 'mse = 422.888\\nsamples = 23\\nvalue = 117.739'),\n",
       " Text(484.9570815450644, 90.59999999999997, 'mse = 49.556\\nsamples = 3\\nvalue = 91.667'),\n",
       " Text(490.34549356223175, 151.0, 'industry <= 0.807\\nmse = 405.088\\nsamples = 44\\nvalue = 99.659'),\n",
       " Text(488.54935622317595, 90.59999999999997, 'yearsExperience <= -1.459\\nmse = 303.665\\nsamples = 35\\nvalue = 94.857'),\n",
       " Text(486.75321888412014, 30.199999999999932, 'mse = 264.512\\nsamples = 11\\nvalue = 86.182'),\n",
       " Text(490.34549356223175, 30.199999999999932, 'mse = 271.306\\nsamples = 24\\nvalue = 98.833'),\n",
       " Text(492.14163090128756, 90.59999999999997, 'mse = 361.111\\nsamples = 9\\nvalue = 118.333'),\n",
       " Text(501.1223175965665, 211.39999999999998, 'industry <= -1.512\\nmse = 296.705\\nsamples = 54\\nvalue = 116.87'),\n",
       " Text(497.5300429184549, 151.0, 'degree <= 1.048\\nmse = 146.628\\nsamples = 11\\nvalue = 126.909'),\n",
       " Text(495.73390557939916, 90.59999999999997, 'mse = 87.347\\nsamples = 7\\nvalue = 132.714'),\n",
       " Text(499.3261802575107, 90.59999999999997, 'mse = 88.188\\nsamples = 4\\nvalue = 116.75'),\n",
       " Text(504.7145922746781, 151.0, 'industry <= 0.807\\nmse = 302.723\\nsamples = 43\\nvalue = 114.302'),\n",
       " Text(502.9184549356223, 90.59999999999997, 'degree <= 1.048\\nmse = 277.692\\nsamples = 34\\nvalue = 110.882'),\n",
       " Text(501.1223175965665, 30.199999999999932, 'mse = 326.26\\nsamples = 20\\nvalue = 106.2'),\n",
       " Text(504.7145922746781, 30.199999999999932, 'mse = 132.245\\nsamples = 14\\nvalue = 117.571'),\n",
       " Text(506.51072961373393, 90.59999999999997, 'mse = 186.173\\nsamples = 9\\nvalue = 127.222'),\n",
       " Text(563.9871244635193, 332.2, 'jobType <= 0.742\\nmse = 840.915\\nsamples = 3628\\nvalue = 83.625'),\n",
       " Text(535.2489270386266, 271.8, 'jobType <= 0.253\\nmse = 754.25\\nsamples = 2758\\nvalue = 77.102'),\n",
       " Text(520.8798283261802, 211.39999999999998, 'jobType <= -0.091\\nmse = 667.796\\nsamples = 1660\\nvalue = 88.93'),\n",
       " Text(513.695278969957, 151.0, 'milesFromMetropolis <= -0.205\\nmse = 456.96\\nsamples = 1226\\nvalue = 81.166'),\n",
       " Text(510.1030042918455, 90.59999999999997, 'yearsExperience <= -0.763\\nmse = 442.058\\nsamples = 543\\nvalue = 88.93'),\n",
       " Text(508.3068669527897, 30.199999999999932, 'mse = 364.972\\nsamples = 291\\nvalue = 81.832'),\n",
       " Text(511.8991416309013, 30.199999999999932, 'mse = 405.698\\nsamples = 252\\nvalue = 97.127'),\n",
       " Text(517.2875536480686, 90.59999999999997, 'industry <= 0.298\\nmse = 382.774\\nsamples = 683\\nvalue = 74.993'),\n",
       " Text(515.4914163090128, 30.199999999999932, 'mse = 392.621\\nsamples = 269\\nvalue = 83.788'),\n",
       " Text(519.0836909871244, 30.199999999999932, 'mse = 293.452\\nsamples = 414\\nvalue = 69.278'),\n",
       " Text(528.0643776824035, 151.0, 'industry <= 0.298\\nmse = 612.078\\nsamples = 434\\nvalue = 110.862'),\n",
       " Text(524.4721030042919, 90.59999999999997, 'milesFromMetropolis <= -0.657\\nmse = 579.512\\nsamples = 182\\nvalue = 122.654'),\n",
       " Text(522.675965665236, 30.199999999999932, 'mse = 608.176\\nsamples = 56\\nvalue = 135.696'),\n",
       " Text(526.2682403433477, 30.199999999999932, 'mse = 457.567\\nsamples = 126\\nvalue = 116.857'),\n",
       " Text(531.6566523605151, 90.59999999999997, 'milesFromMetropolis <= 0.387\\nmse = 462.639\\nsamples = 252\\nvalue = 102.345'),\n",
       " Text(529.8605150214593, 30.199999999999932, 'mse = 474.259\\nsamples = 152\\nvalue = 108.632'),\n",
       " Text(533.4527896995708, 30.199999999999932, 'mse = 293.606\\nsamples = 100\\nvalue = 92.79'),\n",
       " Text(549.618025751073, 211.39999999999998, 'industry <= 0.298\\nmse = 353.711\\nsamples = 1098\\nvalue = 59.22'),\n",
       " Text(542.4334763948498, 151.0, 'milesFromMetropolis <= 0.248\\nmse = 306.601\\nsamples = 470\\nvalue = 70.1'),\n",
       " Text(538.8412017167382, 90.59999999999997, 'yearsExperience <= -0.763\\nmse = 292.216\\nsamples = 258\\nvalue = 77.969'),\n",
       " Text(537.0450643776824, 30.199999999999932, 'mse = 168.167\\nsamples = 124\\nvalue = 69.637'),\n",
       " Text(540.637339055794, 30.199999999999932, 'mse = 283.322\\nsamples = 134\\nvalue = 85.679'),\n",
       " Text(546.0257510729614, 90.59999999999997, 'industry <= -0.447\\nmse = 157.042\\nsamples = 212\\nvalue = 60.524'),\n",
       " Text(544.2296137339056, 30.199999999999932, 'mse = 158.979\\nsamples = 138\\nvalue = 57.855'),\n",
       " Text(547.8218884120172, 30.199999999999932, 'mse = 115.385\\nsamples = 74\\nvalue = 65.5'),\n",
       " Text(556.8025751072961, 151.0, 'milesFromMetropolis <= 0.039\\nmse = 234.085\\nsamples = 628\\nvalue = 51.078'),\n",
       " Text(553.2103004291846, 90.59999999999997, 'yearsExperience <= -0.485\\nmse = 231.714\\nsamples = 312\\nvalue = 57.897'),\n",
       " Text(551.4141630901288, 30.199999999999932, 'mse = 156.648\\nsamples = 212\\nvalue = 52.368'),\n",
       " Text(555.0064377682403, 30.199999999999932, 'mse = 188.616\\nsamples = 100\\nvalue = 69.62'),\n",
       " Text(560.3948497854077, 90.59999999999997, 'industry <= 0.807\\nmse = 145.175\\nsamples = 316\\nvalue = 44.345'),\n",
       " Text(558.5987124463519, 30.199999999999932, 'mse = 105.369\\nsamples = 232\\nvalue = 40.461'),\n",
       " Text(562.1909871244635, 30.199999999999932, 'mse = 98.4\\nsamples = 84\\nvalue = 55.071'),\n",
       " Text(592.725321888412, 271.8, 'industry <= 0.298\\nmse = 553.07\\nsamples = 870\\nvalue = 104.306'),\n",
       " Text(578.3562231759656, 211.39999999999998, 'milesFromMetropolis <= -0.274\\nmse = 568.658\\nsamples = 375\\nvalue = 112.779'),\n",
       " Text(571.1716738197425, 151.0, 'yearsExperience <= -1.181\\nmse = 546.308\\nsamples = 159\\nvalue = 122.994'),\n",
       " Text(567.5793991416309, 90.59999999999997, 'industry <= -1.512\\nmse = 466.043\\nsamples = 54\\nvalue = 113.648'),\n",
       " Text(565.7832618025751, 30.199999999999932, 'mse = 296.582\\nsamples = 24\\nvalue = 123.458'),\n",
       " Text(569.3755364806867, 30.199999999999932, 'mse = 463.027\\nsamples = 30\\nvalue = 105.8'),\n",
       " Text(574.763948497854, 90.59999999999997, 'companyId <= 1.189\\nmse = 519.57\\nsamples = 105\\nvalue = 127.8'),\n",
       " Text(572.9678111587983, 30.199999999999932, 'mse = 534.617\\nsamples = 92\\nvalue = 129.761'),\n",
       " Text(576.5600858369098, 30.199999999999932, 'mse = 193.302\\nsamples = 13\\nvalue = 113.923'),\n",
       " Text(585.5407725321888, 151.0, 'yearsExperience <= -0.624\\nmse = 451.757\\nsamples = 216\\nvalue = 105.259'),\n",
       " Text(581.9484978540772, 90.59999999999997, 'jobType <= 1.396\\nmse = 373.837\\nsamples = 146\\nvalue = 100.329'),\n",
       " Text(580.1523605150214, 30.199999999999932, 'mse = 364.548\\nsamples = 62\\nvalue = 108.0'),\n",
       " Text(583.744635193133, 30.199999999999932, 'mse = 305.198\\nsamples = 84\\nvalue = 94.667'),\n",
       " Text(589.1330472103004, 90.59999999999997, 'companyId <= 0.968\\nmse = 457.82\\nsamples = 70\\nvalue = 115.543'),\n",
       " Text(587.3369098712446, 30.199999999999932, 'mse = 415.21\\nsamples = 58\\nvalue = 112.121'),\n",
       " Text(590.9291845493563, 30.199999999999932, 'mse = 333.576\\nsamples = 12\\nvalue = 132.083'),\n",
       " Text(607.0944206008584, 211.39999999999998, 'yearsExperience <= -0.763\\nmse = 445.672\\nsamples = 495\\nvalue = 97.887'),\n",
       " Text(599.9098712446352, 151.0, 'industry <= 0.807\\nmse = 340.944\\nsamples = 269\\nvalue = 91.015'),\n",
       " Text(596.3175965665235, 90.59999999999997, 'milesFromMetropolis <= -0.031\\nmse = 311.391\\nsamples = 213\\nvalue = 88.061'),\n",
       " Text(594.5214592274679, 30.199999999999932, 'mse = 325.799\\nsamples = 102\\nvalue = 94.49'),\n",
       " Text(598.1137339055794, 30.199999999999932, 'mse = 225.265\\nsamples = 111\\nvalue = 82.153'),\n",
       " Text(603.5021459227468, 90.59999999999997, 'jobType <= 1.396\\nmse = 293.938\\nsamples = 56\\nvalue = 102.25'),\n",
       " Text(601.706008583691, 30.199999999999932, 'mse = 238.268\\nsamples = 26\\nvalue = 110.962'),\n",
       " Text(605.2982832618026, 30.199999999999932, 'mse = 219.41\\nsamples = 30\\nvalue = 94.7'),\n",
       " Text(614.2789699570816, 151.0, 'milesFromMetropolis <= 0.805\\nmse = 447.212\\nsamples = 226\\nvalue = 106.066'),\n",
       " Text(610.68669527897, 90.59999999999997, 'milesFromMetropolis <= -0.657\\nmse = 405.544\\nsamples = 159\\nvalue = 111.465'),\n",
       " Text(608.8905579399142, 30.199999999999932, 'mse = 444.634\\nsamples = 57\\nvalue = 117.544'),\n",
       " Text(612.4828326180258, 30.199999999999932, 'mse = 351.515\\nsamples = 102\\nvalue = 108.069'),\n",
       " Text(617.8712446351931, 90.59999999999997, 'industry <= 0.807\\nmse = 312.757\\nsamples = 67\\nvalue = 93.254'),\n",
       " Text(616.0751072961374, 30.199999999999932, 'mse = 230.542\\nsamples = 53\\nvalue = 89.792'),\n",
       " Text(619.6673819742489, 30.199999999999932, 'mse = 406.944\\nsamples = 14\\nvalue = 106.357'),\n",
       " Text(728.5582081545065, 392.6, 'milesFromMetropolis <= 0.039\\nmse = 1277.993\\nsamples = 3641\\nvalue = 113.923'),\n",
       " Text(674.2250536480686, 332.2, 'jobType <= -1.256\\nmse = 1206.436\\nsamples = 1831\\nvalue = 127.361'),\n",
       " Text(647.9565450643777, 271.8, 'milesFromMetropolis <= -0.379\\nmse = 978.056\\nsamples = 188\\nvalue = 158.83'),\n",
       " Text(635.8326180257511, 211.39999999999998, 'industry <= 0.298\\nmse = 897.808\\nsamples = 135\\nvalue = 164.881'),\n",
       " Text(628.6480686695279, 151.0, 'milesFromMetropolis <= -1.005\\nmse = 793.122\\nsamples = 57\\nvalue = 174.702'),\n",
       " Text(625.0557939914163, 90.59999999999997, 'companyId <= 1.632\\nmse = 697.682\\nsamples = 27\\nvalue = 184.148'),\n",
       " Text(623.2596566523605, 30.199999999999932, 'mse = 590.84\\nsamples = 26\\nvalue = 181.923'),\n",
       " Text(626.8519313304721, 30.199999999999932, 'mse = 0.0\\nsamples = 1\\nvalue = 242.0'),\n",
       " Text(632.2403433476395, 90.59999999999997, 'yearsExperience <= 0.488\\nmse = 726.427\\nsamples = 30\\nvalue = 166.2'),\n",
       " Text(630.4442060085837, 30.199999999999932, 'mse = 603.21\\nsamples = 9\\nvalue = 152.111'),\n",
       " Text(634.0364806866953, 30.199999999999932, 'mse = 657.705\\nsamples = 21\\nvalue = 172.238'),\n",
       " Text(643.0171673819742, 151.0, 'industry <= 0.807\\nmse = 852.336\\nsamples = 78\\nvalue = 157.705'),\n",
       " Text(639.4248927038626, 90.59999999999997, 'yearsExperience <= 1.184\\nmse = 552.3\\nsamples = 58\\nvalue = 149.897'),\n",
       " Text(637.6287553648068, 30.199999999999932, 'mse = 386.89\\nsamples = 37\\nvalue = 143.595'),\n",
       " Text(641.2210300429184, 30.199999999999932, 'mse = 650.476\\nsamples = 21\\nvalue = 161.0'),\n",
       " Text(646.6094420600858, 90.59999999999997, 'yearsExperience <= 0.767\\nmse = 1032.827\\nsamples = 20\\nvalue = 180.35'),\n",
       " Text(644.81330472103, 30.199999999999932, 'mse = 816.188\\nsamples = 8\\nvalue = 155.25'),\n",
       " Text(648.4055793991416, 30.199999999999932, 'mse = 477.243\\nsamples = 12\\nvalue = 197.083'),\n",
       " Text(660.0804721030042, 211.39999999999998, 'industry <= 0.298\\nmse = 851.564\\nsamples = 53\\nvalue = 143.415'),\n",
       " Text(655.5901287553648, 151.0, 'industry <= -0.447\\nmse = 892.042\\nsamples = 23\\nvalue = 158.043'),\n",
       " Text(653.793991416309, 90.59999999999997, 'yearsExperience <= 1.462\\nmse = 740.277\\nsamples = 16\\nvalue = 148.188'),\n",
       " Text(651.9978540772532, 30.199999999999932, 'mse = 603.49\\nsamples = 14\\nvalue = 142.714'),\n",
       " Text(655.5901287553648, 30.199999999999932, 'mse = 20.25\\nsamples = 2\\nvalue = 186.5'),\n",
       " Text(657.3862660944206, 90.59999999999997, 'mse = 509.388\\nsamples = 7\\nvalue = 180.571'),\n",
       " Text(664.5708154506437, 151.0, 'yearsExperience <= 0.488\\nmse = 530.693\\nsamples = 30\\nvalue = 132.2'),\n",
       " Text(660.9785407725321, 90.59999999999997, 'industry <= 0.581\\nmse = 295.743\\nsamples = 12\\nvalue = 116.417'),\n",
       " Text(659.1824034334763, 30.199999999999932, 'mse = 181.556\\nsamples = 3\\nvalue = 128.667'),\n",
       " Text(662.774678111588, 30.199999999999932, 'mse = 267.111\\nsamples = 9\\nvalue = 112.333'),\n",
       " Text(668.1630901287554, 90.59999999999997, 'milesFromMetropolis <= -0.1\\nmse = 410.534\\nsamples = 18\\nvalue = 142.722'),\n",
       " Text(666.3669527896996, 30.199999999999932, 'mse = 462.909\\nsamples = 11\\nvalue = 149.0'),\n",
       " Text(669.9592274678112, 30.199999999999932, 'mse = 168.98\\nsamples = 7\\nvalue = 132.857'),\n",
       " Text(700.4935622317596, 271.8, 'jobType <= 0.742\\nmse = 1106.289\\nsamples = 1643\\nvalue = 123.76'),\n",
       " Text(686.1244635193133, 211.39999999999998, 'jobType <= 0.253\\nmse = 966.841\\nsamples = 1215\\nvalue = 116.048'),\n",
       " Text(678.9399141630902, 151.0, 'jobType <= -0.091\\nmse = 868.799\\nsamples = 756\\nvalue = 128.351'),\n",
       " Text(675.3476394849786, 90.59999999999997, 'yearsExperience <= 0.906\\nmse = 655.5\\nsamples = 571\\nvalue = 120.515'),\n",
       " Text(673.5515021459228, 30.199999999999932, 'mse = 550.753\\nsamples = 291\\nvalue = 112.577'),\n",
       " Text(677.1437768240344, 30.199999999999932, 'mse = 630.83\\nsamples = 280\\nvalue = 128.764'),\n",
       " Text(682.5321888412017, 90.59999999999997, 'industry <= 0.298\\nmse = 752.746\\nsamples = 185\\nvalue = 152.535'),\n",
       " Text(680.7360515021459, 30.199999999999932, 'mse = 635.042\\nsamples = 92\\nvalue = 160.315'),\n",
       " Text(684.3283261802575, 30.199999999999932, 'mse = 750.071\\nsamples = 93\\nvalue = 144.839'),\n",
       " Text(693.3090128755365, 151.0, 'industry <= 0.298\\nmse = 468.418\\nsamples = 459\\nvalue = 95.784'),\n",
       " Text(689.7167381974249, 90.59999999999997, 'yearsExperience <= 0.906\\nmse = 479.167\\nsamples = 188\\nvalue = 107.213'),\n",
       " Text(687.9206008583691, 30.199999999999932, 'mse = 401.09\\nsamples = 84\\nvalue = 97.869'),\n",
       " Text(691.5128755364807, 30.199999999999932, 'mse = 414.76\\nsamples = 104\\nvalue = 114.76'),\n",
       " Text(696.9012875536481, 90.59999999999997, 'yearsExperience <= 0.767\\nmse = 307.496\\nsamples = 271\\nvalue = 87.856'),\n",
       " Text(695.1051502145923, 30.199999999999932, 'mse = 196.724\\nsamples = 118\\nvalue = 79.068'),\n",
       " Text(698.6974248927039, 30.199999999999932, 'mse = 287.422\\nsamples = 153\\nvalue = 94.634'),\n",
       " Text(714.862660944206, 211.39999999999998, 'yearsExperience <= 1.045\\nmse = 853.951\\nsamples = 428\\nvalue = 145.654'),\n",
       " Text(707.6781115879828, 151.0, 'milesFromMetropolis <= -0.936\\nmse = 780.242\\nsamples = 252\\nvalue = 138.179'),\n",
       " Text(704.0858369098712, 90.59999999999997, 'industry <= 0.581\\nmse = 760.415\\nsamples = 113\\nvalue = 149.212'),\n",
       " Text(702.2896995708154, 30.199999999999932, 'mse = 803.319\\nsamples = 63\\nvalue = 155.603'),\n",
       " Text(705.881974248927, 30.199999999999932, 'mse = 590.054\\nsamples = 50\\nvalue = 141.16'),\n",
       " Text(711.2703862660944, 90.59999999999997, 'industry <= 0.298\\nmse = 616.928\\nsamples = 139\\nvalue = 129.209'),\n",
       " Text(709.4742489270386, 30.199999999999932, 'mse = 578.147\\nsamples = 59\\nvalue = 137.458'),\n",
       " Text(713.0665236051502, 30.199999999999932, 'mse = 558.334\\nsamples = 80\\nvalue = 123.125'),\n",
       " Text(722.0472103004291, 151.0, 'industry <= 0.298\\nmse = 764.9\\nsamples = 176\\nvalue = 156.358'),\n",
       " Text(718.4549356223176, 90.59999999999997, 'milesFromMetropolis <= -1.214\\nmse = 885.639\\nsamples = 72\\nvalue = 165.514'),\n",
       " Text(716.6587982832618, 30.199999999999932, 'mse = 877.13\\nsamples = 25\\nvalue = 179.48'),\n",
       " Text(720.2510729613734, 30.199999999999932, 'mse = 731.227\\nsamples = 47\\nvalue = 158.085'),\n",
       " Text(725.6394849785407, 90.59999999999997, 'milesFromMetropolis <= -1.632\\nmse = 583.096\\nsamples = 104\\nvalue = 150.019'),\n",
       " Text(723.8433476394849, 30.199999999999932, 'mse = 797.837\\nsamples = 7\\nvalue = 172.857'),\n",
       " Text(727.4356223175965, 30.199999999999932, 'mse = 527.244\\nsamples = 97\\nvalue = 148.371'),\n",
       " Text(782.8913626609442, 332.2, 'jobType <= -1.256\\nmse = 982.901\\nsamples = 1810\\nvalue = 100.329'),\n",
       " Text(757.5209227467811, 271.8, 'industry <= 0.298\\nmse = 787.074\\nsamples = 191\\nvalue = 134.445'),\n",
       " Text(743.6008583690987, 211.39999999999998, 'yearsExperience <= 1.045\\nmse = 838.056\\nsamples = 74\\nvalue = 148.432'),\n",
       " Text(736.4163090128756, 151.0, 'degree <= 1.048\\nmse = 732.31\\nsamples = 33\\nvalue = 135.152'),\n",
       " Text(732.824034334764, 90.59999999999997, 'milesFromMetropolis <= 1.379\\nmse = 394.667\\nsamples = 18\\nvalue = 121.333'),\n",
       " Text(731.0278969957081, 30.199999999999932, 'mse = 221.785\\nsamples = 11\\nvalue = 132.182'),\n",
       " Text(734.6201716738198, 30.199999999999932, 'mse = 190.776\\nsamples = 7\\nvalue = 104.286'),\n",
       " Text(740.0085836909872, 90.59999999999997, 'milesFromMetropolis <= 0.109\\nmse = 633.396\\nsamples = 15\\nvalue = 151.733'),\n",
       " Text(738.2124463519314, 30.199999999999932, 'mse = 184.667\\nsamples = 3\\nvalue = 189.0'),\n",
       " Text(741.804721030043, 30.199999999999932, 'mse = 311.576\\nsamples = 12\\nvalue = 142.417'),\n",
       " Text(750.7854077253219, 151.0, 'industry <= -0.447\\nmse = 666.936\\nsamples = 41\\nvalue = 159.122'),\n",
       " Text(747.1931330472103, 90.59999999999997, 'companyId <= 0.802\\nmse = 595.222\\nsamples = 24\\nvalue = 151.333'),\n",
       " Text(745.3969957081545, 30.199999999999932, 'mse = 358.089\\nsamples = 19\\nvalue = 145.263'),\n",
       " Text(748.9892703862661, 30.199999999999932, 'mse = 824.24\\nsamples = 5\\nvalue = 174.4'),\n",
       " Text(754.3776824034335, 90.59999999999997, 'milesFromMetropolis <= 0.213\\nmse = 561.633\\nsamples = 17\\nvalue = 170.118'),\n",
       " Text(752.5815450643777, 30.199999999999932, 'mse = 0.0\\nsamples = 2\\nvalue = 211.0'),\n",
       " Text(756.1738197424893, 30.199999999999932, 'mse = 383.956\\nsamples = 15\\nvalue = 164.667'),\n",
       " Text(771.4409871244635, 211.39999999999998, 'industry <= 0.807\\nmse = 552.822\\nsamples = 117\\nvalue = 125.598'),\n",
       " Text(765.1545064377682, 151.0, 'milesFromMetropolis <= 0.318\\nmse = 465.852\\nsamples = 85\\nvalue = 120.647'),\n",
       " Text(761.5622317596567, 90.59999999999997, 'companyId <= 0.165\\nmse = 317.479\\nsamples = 19\\nvalue = 136.316'),\n",
       " Text(759.7660944206009, 30.199999999999932, 'mse = 261.603\\nsamples = 11\\nvalue = 128.182'),\n",
       " Text(763.3583690987124, 30.199999999999932, 'mse = 178.25\\nsamples = 8\\nvalue = 147.5'),\n",
       " Text(768.7467811158798, 90.59999999999997, 'yearsExperience <= 1.045\\nmse = 417.542\\nsamples = 66\\nvalue = 116.136'),\n",
       " Text(766.950643776824, 30.199999999999932, 'mse = 294.254\\nsamples = 39\\nvalue = 108.051'),\n",
       " Text(770.5429184549356, 30.199999999999932, 'mse = 364.818\\nsamples = 27\\nvalue = 127.815'),\n",
       " Text(777.7274678111588, 151.0, 'milesFromMetropolis <= 1.327\\nmse = 545.75\\nsamples = 32\\nvalue = 138.75'),\n",
       " Text(775.931330472103, 90.59999999999997, 'companyId <= -1.412\\nmse = 515.318\\nsamples = 25\\nvalue = 143.04'),\n",
       " Text(774.1351931330472, 30.199999999999932, 'mse = 0.0\\nsamples = 1\\nvalue = 204.0'),\n",
       " Text(777.7274678111588, 30.199999999999932, 'mse = 375.5\\nsamples = 24\\nvalue = 140.5'),\n",
       " Text(779.5236051502146, 90.59999999999997, 'mse = 353.959\\nsamples = 7\\nvalue = 123.429'),\n",
       " Text(808.2618025751073, 271.8, 'jobType <= 0.742\\nmse = 852.492\\nsamples = 1619\\nvalue = 96.304'),\n",
       " Text(793.8927038626609, 211.39999999999998, 'jobType <= 0.253\\nmse = 781.562\\nsamples = 1234\\nvalue = 90.256'),\n",
       " Text(786.7081545064377, 151.0, 'jobType <= -0.091\\nmse = 688.736\\nsamples = 762\\nvalue = 102.088'),\n",
       " Text(783.1158798283262, 90.59999999999997, 'industry <= 0.298\\nmse = 495.004\\nsamples = 566\\nvalue = 94.664'),\n",
       " Text(781.3197424892704, 30.199999999999932, 'mse = 526.311\\nsamples = 223\\nvalue = 104.265'),\n",
       " Text(784.9120171673819, 30.199999999999932, 'mse = 375.772\\nsamples = 343\\nvalue = 88.423'),\n",
       " Text(790.3004291845493, 90.59999999999997, 'industry <= -1.512\\nmse = 629.474\\nsamples = 196\\nvalue = 123.526'),\n",
       " Text(788.5042918454935, 30.199999999999932, 'mse = 696.934\\nsamples = 31\\nvalue = 145.032'),\n",
       " Text(792.0965665236051, 30.199999999999932, 'mse = 513.571\\nsamples = 165\\nvalue = 119.485'),\n",
       " Text(801.0772532188842, 151.0, 'industry <= 0.298\\nmse = 340.55\\nsamples = 472\\nvalue = 71.155'),\n",
       " Text(797.4849785407725, 90.59999999999997, 'yearsExperience <= 1.045\\nmse = 274.411\\nsamples = 190\\nvalue = 82.584'),\n",
       " Text(795.6888412017167, 30.199999999999932, 'mse = 207.269\\nsamples = 101\\nvalue = 76.604'),\n",
       " Text(799.2811158798283, 30.199999999999932, 'mse = 263.964\\nsamples = 89\\nvalue = 89.371'),\n",
       " Text(804.6695278969958, 90.59999999999997, 'milesFromMetropolis <= 0.875\\nmse = 237.794\\nsamples = 282\\nvalue = 63.454'),\n",
       " Text(802.87339055794, 30.199999999999932, 'mse = 233.824\\nsamples = 154\\nvalue = 69.981'),\n",
       " Text(806.4656652360514, 30.199999999999932, 'mse = 129.662\\nsamples = 128\\nvalue = 55.602'),\n",
       " Text(822.6309012875537, 211.39999999999998, 'industry <= 0.298\\nmse = 586.848\\nsamples = 385\\nvalue = 115.688'),\n",
       " Text(815.4463519313305, 151.0, 'milesFromMetropolis <= 0.596\\nmse = 616.019\\nsamples = 137\\nvalue = 127.051'),\n",
       " Text(811.8540772532189, 90.59999999999997, 'yearsExperience <= 1.601\\nmse = 650.834\\nsamples = 46\\nvalue = 139.239'),\n",
       " Text(810.0579399141631, 30.199999999999932, 'mse = 587.049\\nsamples = 40\\nvalue = 135.275'),\n",
       " Text(813.6502145922747, 30.199999999999932, 'mse = 272.889\\nsamples = 6\\nvalue = 165.667'),\n",
       " Text(819.0386266094421, 90.59999999999997, 'jobType <= 1.396\\nmse = 485.373\\nsamples = 91\\nvalue = 120.89'),\n",
       " Text(817.2424892703863, 30.199999999999932, 'mse = 498.548\\nsamples = 41\\nvalue = 129.293'),\n",
       " Text(820.8347639484979, 30.199999999999932, 'mse = 369.2\\nsamples = 50\\nvalue = 114.0'),\n",
       " Text(829.8154506437768, 151.0, 'milesFromMetropolis <= 0.457\\nmse = 460.008\\nsamples = 248\\nvalue = 109.411'),\n",
       " Text(826.2231759656652, 90.59999999999997, 'companyId <= 0.387\\nmse = 508.821\\nsamples = 61\\nvalue = 122.639'),\n",
       " Text(824.4270386266095, 30.199999999999932, 'mse = 259.046\\nsamples = 34\\nvalue = 113.794'),\n",
       " Text(828.019313304721, 30.199999999999932, 'mse = 600.765\\nsamples = 27\\nvalue = 133.778'),\n",
       " Text(833.4077253218884, 90.59999999999997, 'industry <= 0.807\\nmse = 368.386\\nsamples = 187\\nvalue = 105.096'),\n",
       " Text(831.6115879828326, 30.199999999999932, 'mse = 341.375\\nsamples = 147\\nvalue = 102.837'),\n",
       " Text(835.2038626609442, 30.199999999999932, 'mse = 379.94\\nsamples = 40\\nvalue = 113.4')]"
      ]
     },
     "execution_count": 48,
     "metadata": {},
     "output_type": "execute_result"
    },
    {
     "data": {
      "image/png": "[encoded data removed]",
      "text/plain": [
       "<Figure size 1080x720 with 1 Axes>"
      ]
     },
     "metadata": {},
     "output_type": "display_data"
    }
   ],
   "source": [
    "# plot decision tree \n",
    "from sklearn.tree import plot_tree \n",
    "\n",
    "plt.figure(figsize=(15, 10))\n",
    "plot_tree(dtr, feature_names = X_train.columns, filled=True)"
   ]
  },
  {
   "cell_type": "markdown",
   "id": "0df6fe75",
   "metadata": {},
   "source": [
    "### Modelling - Random Forest Regressor"
   ]
  },
  {
   "cell_type": "code",
   "execution_count": 49,
   "id": "ae5e118f",
   "metadata": {},
   "outputs": [
    {
     "data": {
      "text/plain": [
       "RandomForestRegressor()"
      ]
     },
     "execution_count": 49,
     "metadata": {},
     "output_type": "execute_result"
    }
   ],
   "source": [
    "# import RandomForestRegressor \n",
    "from sklearn.ensemble import RandomForestRegressor \n",
    "\n",
    "# instantiate \n",
    "rfr_base_model = RandomForestRegressor()\n",
    "\n",
    "# fit \n",
    "rfr_base_model.fit(X_train_s, y_train)"
   ]
  },
  {
   "cell_type": "code",
   "execution_count": 50,
   "id": "b6f7fbc5",
   "metadata": {},
   "outputs": [
    {
     "data": {
      "text/plain": [
       "array([118.83,  52.98, 127.12, ..., 121.15,  88.42, 149.67])"
      ]
     },
     "execution_count": 50,
     "metadata": {},
     "output_type": "execute_result"
    }
   ],
   "source": [
    "y_pred_rfr = rfr_base_model.predict(X_test_s) \n",
    "y_pred_rfr"
   ]
  },
  {
   "cell_type": "code",
   "execution_count": 51,
   "id": "e9869022",
   "metadata": {},
   "outputs": [
    {
     "data": {
      "text/html": [
       "<div>\n",
       "<style scoped>\n",
       "    .dataframe tbody tr th:only-of-type {\n",
       "        vertical-align: middle;\n",
       "    }\n",
       "\n",
       "    .dataframe tbody tr th {\n",
       "        vertical-align: top;\n",
       "    }\n",
       "\n",
       "    .dataframe thead th {\n",
       "        text-align: right;\n",
       "    }\n",
       "</style>\n",
       "<table border=\"1\" class=\"dataframe\">\n",
       "  <thead>\n",
       "    <tr style=\"text-align: right;\">\n",
       "      <th></th>\n",
       "      <th>Actual</th>\n",
       "      <th>Predicted</th>\n",
       "    </tr>\n",
       "  </thead>\n",
       "  <tbody>\n",
       "    <tr>\n",
       "      <th>215775</th>\n",
       "      <td>112</td>\n",
       "      <td>118.83</td>\n",
       "    </tr>\n",
       "    <tr>\n",
       "      <th>940970</th>\n",
       "      <td>66</td>\n",
       "      <td>52.98</td>\n",
       "    </tr>\n",
       "    <tr>\n",
       "      <th>127087</th>\n",
       "      <td>121</td>\n",
       "      <td>127.12</td>\n",
       "    </tr>\n",
       "    <tr>\n",
       "      <th>32234</th>\n",
       "      <td>107</td>\n",
       "      <td>128.63</td>\n",
       "    </tr>\n",
       "    <tr>\n",
       "      <th>645600</th>\n",
       "      <td>40</td>\n",
       "      <td>41.49</td>\n",
       "    </tr>\n",
       "  </tbody>\n",
       "</table>\n",
       "</div>"
      ],
      "text/plain": [
       "        Actual  Predicted\n",
       "215775     112     118.83\n",
       "940970      66      52.98\n",
       "127087     121     127.12\n",
       "32234      107     128.63\n",
       "645600      40      41.49"
      ]
     },
     "execution_count": 51,
     "metadata": {},
     "output_type": "execute_result"
    }
   ],
   "source": [
    "# Actual vs Predicted values\n",
    "pd.DataFrame({'Actual':y_test, 'Predicted':y_pred_rfr}).head()"
   ]
  },
  {
   "cell_type": "code",
   "execution_count": 52,
   "id": "5d19ac1e",
   "metadata": {},
   "outputs": [
    {
     "data": {
      "text/plain": [
       "0.9587991192534657"
      ]
     },
     "execution_count": 52,
     "metadata": {},
     "output_type": "execute_result"
    }
   ],
   "source": [
    "rfr_base_model.score(X_train_s, y_train)"
   ]
  },
  {
   "cell_type": "code",
   "execution_count": 53,
   "id": "d4d203b7",
   "metadata": {},
   "outputs": [
    {
     "data": {
      "text/plain": [
       "0.7141134552333028"
      ]
     },
     "execution_count": 53,
     "metadata": {},
     "output_type": "execute_result"
    }
   ],
   "source": [
    "rfr_base_model.score(X_test_s, y_test)"
   ]
  },
  {
   "cell_type": "markdown",
   "id": "5631e898",
   "metadata": {},
   "source": [
    "- The RandomForestRegressor model resulted in a high training score and a considerable low score for the  test data, which means the base model overfitted. It did not generalise on the test data."
   ]
  },
  {
   "cell_type": "markdown",
   "id": "f2dcb6f7",
   "metadata": {},
   "source": [
    "### Hyperparameter tuning in RandomForestRegressor with RandomizedSearchCV"
   ]
  },
  {
   "cell_type": "code",
   "execution_count": 54,
   "id": "fda40438",
   "metadata": {},
   "outputs": [],
   "source": [
    "# parameters\n",
    "n_estimators = [100, 200, 300, 500, 1000]\n",
    "max_features = np.arange(1, 4) \n",
    "max_depth = np.arange(4, 7) "
   ]
  },
  {
   "cell_type": "code",
   "execution_count": 55,
   "id": "704e9c30",
   "metadata": {},
   "outputs": [
    {
     "data": {
      "text/plain": [
       "[100, 200, 300, 500, 1000]"
      ]
     },
     "execution_count": 55,
     "metadata": {},
     "output_type": "execute_result"
    }
   ],
   "source": [
    "n_estimators"
   ]
  },
  {
   "cell_type": "code",
   "execution_count": 56,
   "id": "cc62f3ff",
   "metadata": {},
   "outputs": [],
   "source": [
    "# cross validation \n",
    "rf_fold = KFold(n_splits=6, shuffle=True, random_state=5)"
   ]
  },
  {
   "cell_type": "code",
   "execution_count": 57,
   "id": "32c1e8e9",
   "metadata": {},
   "outputs": [],
   "source": [
    "# dictionary of parameters\n",
    "parameters = dict(n_estimators=n_estimators, max_features=max_features)"
   ]
  },
  {
   "cell_type": "code",
   "execution_count": 58,
   "id": "c0d203b6",
   "metadata": {},
   "outputs": [],
   "source": [
    "# instatiate model \n",
    "rf_reg = RandomForestRegressor()"
   ]
  },
  {
   "cell_type": "code",
   "execution_count": 59,
   "id": "f58abb5e",
   "metadata": {},
   "outputs": [
    {
     "data": {
      "text/plain": [
       "RandomizedSearchCV(cv=KFold(n_splits=6, random_state=5, shuffle=True),\n",
       "                   estimator=RandomForestRegressor(), n_jobs=-1,\n",
       "                   param_distributions={'max_features': array([1, 2, 3]),\n",
       "                                        'n_estimators': [100, 200, 300, 500,\n",
       "                                                         1000]},\n",
       "                   random_state=25)"
      ]
     },
     "execution_count": 59,
     "metadata": {},
     "output_type": "execute_result"
    }
   ],
   "source": [
    "rf_rand =RandomizedSearchCV(rf_reg, parameters, n_iter=10, cv=rf_fold, \n",
    "                            random_state=25, n_jobs = -1)\n",
    "rf_rand"
   ]
  },
  {
   "cell_type": "markdown",
   "id": "640023c9",
   "metadata": {},
   "source": [
    "### Modelling RandomForestRegressore with optimal Hyperparameter tuning"
   ]
  },
  {
   "cell_type": "code",
   "execution_count": 60,
   "id": "9f23fc21",
   "metadata": {},
   "outputs": [
    {
     "data": {
      "text/plain": [
       "RandomizedSearchCV(cv=KFold(n_splits=6, random_state=5, shuffle=True),\n",
       "                   estimator=RandomForestRegressor(), n_jobs=-1,\n",
       "                   param_distributions={'max_features': array([1, 2, 3]),\n",
       "                                        'n_estimators': [100, 200, 300, 500,\n",
       "                                                         1000]},\n",
       "                   random_state=25)"
      ]
     },
     "execution_count": 60,
     "metadata": {},
     "output_type": "execute_result"
    }
   ],
   "source": [
    "rf_rand.fit(X_train_s, y_train)"
   ]
  },
  {
   "cell_type": "code",
   "execution_count": 61,
   "id": "6efefede",
   "metadata": {},
   "outputs": [
    {
     "data": {
      "text/html": [
       "<div>\n",
       "<style scoped>\n",
       "    .dataframe tbody tr th:only-of-type {\n",
       "        vertical-align: middle;\n",
       "    }\n",
       "\n",
       "    .dataframe tbody tr th {\n",
       "        vertical-align: top;\n",
       "    }\n",
       "\n",
       "    .dataframe thead th {\n",
       "        text-align: right;\n",
       "    }\n",
       "</style>\n",
       "<table border=\"1\" class=\"dataframe\">\n",
       "  <thead>\n",
       "    <tr style=\"text-align: right;\">\n",
       "      <th></th>\n",
       "      <th>mean_fit_time</th>\n",
       "      <th>std_fit_time</th>\n",
       "      <th>mean_score_time</th>\n",
       "      <th>std_score_time</th>\n",
       "      <th>param_n_estimators</th>\n",
       "      <th>param_max_features</th>\n",
       "      <th>params</th>\n",
       "      <th>split0_test_score</th>\n",
       "      <th>split1_test_score</th>\n",
       "      <th>split2_test_score</th>\n",
       "      <th>split3_test_score</th>\n",
       "      <th>split4_test_score</th>\n",
       "      <th>split5_test_score</th>\n",
       "      <th>mean_test_score</th>\n",
       "      <th>std_test_score</th>\n",
       "      <th>rank_test_score</th>\n",
       "    </tr>\n",
       "  </thead>\n",
       "  <tbody>\n",
       "    <tr>\n",
       "      <th>0</th>\n",
       "      <td>20.479789</td>\n",
       "      <td>2.389758</td>\n",
       "      <td>0.784804</td>\n",
       "      <td>0.071323</td>\n",
       "      <td>500</td>\n",
       "      <td>3</td>\n",
       "      <td>{'n_estimators': 500, 'max_features': 3}</td>\n",
       "      <td>0.706975</td>\n",
       "      <td>0.713062</td>\n",
       "      <td>0.713250</td>\n",
       "      <td>0.711203</td>\n",
       "      <td>0.715858</td>\n",
       "      <td>0.719309</td>\n",
       "      <td>0.713276</td>\n",
       "      <td>0.003810</td>\n",
       "      <td>2</td>\n",
       "    </tr>\n",
       "    <tr>\n",
       "      <th>1</th>\n",
       "      <td>10.729142</td>\n",
       "      <td>0.193446</td>\n",
       "      <td>0.434654</td>\n",
       "      <td>0.028974</td>\n",
       "      <td>300</td>\n",
       "      <td>3</td>\n",
       "      <td>{'n_estimators': 300, 'max_features': 3}</td>\n",
       "      <td>0.705275</td>\n",
       "      <td>0.713079</td>\n",
       "      <td>0.712895</td>\n",
       "      <td>0.710495</td>\n",
       "      <td>0.715225</td>\n",
       "      <td>0.717695</td>\n",
       "      <td>0.712444</td>\n",
       "      <td>0.003897</td>\n",
       "      <td>4</td>\n",
       "    </tr>\n",
       "    <tr>\n",
       "      <th>2</th>\n",
       "      <td>2.268433</td>\n",
       "      <td>0.042117</td>\n",
       "      <td>0.146505</td>\n",
       "      <td>0.005793</td>\n",
       "      <td>100</td>\n",
       "      <td>1</td>\n",
       "      <td>{'n_estimators': 100, 'max_features': 1}</td>\n",
       "      <td>0.668478</td>\n",
       "      <td>0.675091</td>\n",
       "      <td>0.684342</td>\n",
       "      <td>0.668560</td>\n",
       "      <td>0.673774</td>\n",
       "      <td>0.676489</td>\n",
       "      <td>0.674456</td>\n",
       "      <td>0.005373</td>\n",
       "      <td>10</td>\n",
       "    </tr>\n",
       "    <tr>\n",
       "      <th>3</th>\n",
       "      <td>11.531106</td>\n",
       "      <td>0.073173</td>\n",
       "      <td>0.713185</td>\n",
       "      <td>0.004702</td>\n",
       "      <td>500</td>\n",
       "      <td>1</td>\n",
       "      <td>{'n_estimators': 500, 'max_features': 1}</td>\n",
       "      <td>0.671980</td>\n",
       "      <td>0.679257</td>\n",
       "      <td>0.684409</td>\n",
       "      <td>0.672327</td>\n",
       "      <td>0.681675</td>\n",
       "      <td>0.680077</td>\n",
       "      <td>0.678288</td>\n",
       "      <td>0.004626</td>\n",
       "      <td>8</td>\n",
       "    </tr>\n",
       "    <tr>\n",
       "      <th>4</th>\n",
       "      <td>6.999086</td>\n",
       "      <td>0.156781</td>\n",
       "      <td>0.285680</td>\n",
       "      <td>0.014563</td>\n",
       "      <td>200</td>\n",
       "      <td>3</td>\n",
       "      <td>{'n_estimators': 200, 'max_features': 3}</td>\n",
       "      <td>0.705748</td>\n",
       "      <td>0.713026</td>\n",
       "      <td>0.713841</td>\n",
       "      <td>0.711943</td>\n",
       "      <td>0.715732</td>\n",
       "      <td>0.717239</td>\n",
       "      <td>0.712921</td>\n",
       "      <td>0.003647</td>\n",
       "      <td>3</td>\n",
       "    </tr>\n",
       "    <tr>\n",
       "      <th>5</th>\n",
       "      <td>31.447102</td>\n",
       "      <td>1.691088</td>\n",
       "      <td>1.842954</td>\n",
       "      <td>0.627214</td>\n",
       "      <td>1000</td>\n",
       "      <td>2</td>\n",
       "      <td>{'n_estimators': 1000, 'max_features': 2}</td>\n",
       "      <td>0.701460</td>\n",
       "      <td>0.705265</td>\n",
       "      <td>0.711743</td>\n",
       "      <td>0.703728</td>\n",
       "      <td>0.707283</td>\n",
       "      <td>0.711685</td>\n",
       "      <td>0.706861</td>\n",
       "      <td>0.003848</td>\n",
       "      <td>5</td>\n",
       "    </tr>\n",
       "    <tr>\n",
       "      <th>6</th>\n",
       "      <td>2.890084</td>\n",
       "      <td>0.029252</td>\n",
       "      <td>0.147158</td>\n",
       "      <td>0.006668</td>\n",
       "      <td>100</td>\n",
       "      <td>2</td>\n",
       "      <td>{'n_estimators': 100, 'max_features': 2}</td>\n",
       "      <td>0.696848</td>\n",
       "      <td>0.704516</td>\n",
       "      <td>0.707080</td>\n",
       "      <td>0.703425</td>\n",
       "      <td>0.705928</td>\n",
       "      <td>0.706074</td>\n",
       "      <td>0.703978</td>\n",
       "      <td>0.003397</td>\n",
       "      <td>7</td>\n",
       "    </tr>\n",
       "    <tr>\n",
       "      <th>7</th>\n",
       "      <td>4.724717</td>\n",
       "      <td>0.015480</td>\n",
       "      <td>0.298649</td>\n",
       "      <td>0.033278</td>\n",
       "      <td>200</td>\n",
       "      <td>1</td>\n",
       "      <td>{'n_estimators': 200, 'max_features': 1}</td>\n",
       "      <td>0.670880</td>\n",
       "      <td>0.674488</td>\n",
       "      <td>0.685761</td>\n",
       "      <td>0.669732</td>\n",
       "      <td>0.674895</td>\n",
       "      <td>0.677496</td>\n",
       "      <td>0.675542</td>\n",
       "      <td>0.005248</td>\n",
       "      <td>9</td>\n",
       "    </tr>\n",
       "    <tr>\n",
       "      <th>8</th>\n",
       "      <td>38.726046</td>\n",
       "      <td>4.417447</td>\n",
       "      <td>1.696602</td>\n",
       "      <td>0.227591</td>\n",
       "      <td>1000</td>\n",
       "      <td>3</td>\n",
       "      <td>{'n_estimators': 1000, 'max_features': 3}</td>\n",
       "      <td>0.707827</td>\n",
       "      <td>0.714111</td>\n",
       "      <td>0.714533</td>\n",
       "      <td>0.712258</td>\n",
       "      <td>0.715703</td>\n",
       "      <td>0.718441</td>\n",
       "      <td>0.713812</td>\n",
       "      <td>0.003262</td>\n",
       "      <td>1</td>\n",
       "    </tr>\n",
       "    <tr>\n",
       "      <th>9</th>\n",
       "      <td>18.646334</td>\n",
       "      <td>4.655385</td>\n",
       "      <td>0.906521</td>\n",
       "      <td>0.215706</td>\n",
       "      <td>500</td>\n",
       "      <td>2</td>\n",
       "      <td>{'n_estimators': 500, 'max_features': 2}</td>\n",
       "      <td>0.700822</td>\n",
       "      <td>0.705383</td>\n",
       "      <td>0.710428</td>\n",
       "      <td>0.703382</td>\n",
       "      <td>0.705391</td>\n",
       "      <td>0.709558</td>\n",
       "      <td>0.705828</td>\n",
       "      <td>0.003329</td>\n",
       "      <td>6</td>\n",
       "    </tr>\n",
       "  </tbody>\n",
       "</table>\n",
       "</div>"
      ],
      "text/plain": [
       "   mean_fit_time  std_fit_time  mean_score_time  std_score_time  \\\n",
       "0      20.479789      2.389758         0.784804        0.071323   \n",
       "1      10.729142      0.193446         0.434654        0.028974   \n",
       "2       2.268433      0.042117         0.146505        0.005793   \n",
       "3      11.531106      0.073173         0.713185        0.004702   \n",
       "4       6.999086      0.156781         0.285680        0.014563   \n",
       "5      31.447102      1.691088         1.842954        0.627214   \n",
       "6       2.890084      0.029252         0.147158        0.006668   \n",
       "7       4.724717      0.015480         0.298649        0.033278   \n",
       "8      38.726046      4.417447         1.696602        0.227591   \n",
       "9      18.646334      4.655385         0.906521        0.215706   \n",
       "\n",
       "  param_n_estimators param_max_features  \\\n",
       "0                500                  3   \n",
       "1                300                  3   \n",
       "2                100                  1   \n",
       "3                500                  1   \n",
       "4                200                  3   \n",
       "5               1000                  2   \n",
       "6                100                  2   \n",
       "7                200                  1   \n",
       "8               1000                  3   \n",
       "9                500                  2   \n",
       "\n",
       "                                      params  split0_test_score  \\\n",
       "0   {'n_estimators': 500, 'max_features': 3}           0.706975   \n",
       "1   {'n_estimators': 300, 'max_features': 3}           0.705275   \n",
       "2   {'n_estimators': 100, 'max_features': 1}           0.668478   \n",
       "3   {'n_estimators': 500, 'max_features': 1}           0.671980   \n",
       "4   {'n_estimators': 200, 'max_features': 3}           0.705748   \n",
       "5  {'n_estimators': 1000, 'max_features': 2}           0.701460   \n",
       "6   {'n_estimators': 100, 'max_features': 2}           0.696848   \n",
       "7   {'n_estimators': 200, 'max_features': 1}           0.670880   \n",
       "8  {'n_estimators': 1000, 'max_features': 3}           0.707827   \n",
       "9   {'n_estimators': 500, 'max_features': 2}           0.700822   \n",
       "\n",
       "   split1_test_score  split2_test_score  split3_test_score  split4_test_score  \\\n",
       "0           0.713062           0.713250           0.711203           0.715858   \n",
       "1           0.713079           0.712895           0.710495           0.715225   \n",
       "2           0.675091           0.684342           0.668560           0.673774   \n",
       "3           0.679257           0.684409           0.672327           0.681675   \n",
       "4           0.713026           0.713841           0.711943           0.715732   \n",
       "5           0.705265           0.711743           0.703728           0.707283   \n",
       "6           0.704516           0.707080           0.703425           0.705928   \n",
       "7           0.674488           0.685761           0.669732           0.674895   \n",
       "8           0.714111           0.714533           0.712258           0.715703   \n",
       "9           0.705383           0.710428           0.703382           0.705391   \n",
       "\n",
       "   split5_test_score  mean_test_score  std_test_score  rank_test_score  \n",
       "0           0.719309         0.713276        0.003810                2  \n",
       "1           0.717695         0.712444        0.003897                4  \n",
       "2           0.676489         0.674456        0.005373               10  \n",
       "3           0.680077         0.678288        0.004626                8  \n",
       "4           0.717239         0.712921        0.003647                3  \n",
       "5           0.711685         0.706861        0.003848                5  \n",
       "6           0.706074         0.703978        0.003397                7  \n",
       "7           0.677496         0.675542        0.005248                9  \n",
       "8           0.718441         0.713812        0.003262                1  \n",
       "9           0.709558         0.705828        0.003329                6  "
      ]
     },
     "execution_count": 61,
     "metadata": {},
     "output_type": "execute_result"
    }
   ],
   "source": [
    "pd.DataFrame(rf_rand.cv_results_)"
   ]
  },
  {
   "cell_type": "code",
   "execution_count": 62,
   "id": "9e246df4",
   "metadata": {},
   "outputs": [
    {
     "data": {
      "text/plain": [
       "{'n_estimators': 1000, 'max_features': 3}"
      ]
     },
     "execution_count": 62,
     "metadata": {},
     "output_type": "execute_result"
    }
   ],
   "source": [
    "rf_rand.best_params_"
   ]
  },
  {
   "cell_type": "code",
   "execution_count": 63,
   "id": "373a5c77",
   "metadata": {},
   "outputs": [
    {
     "data": {
      "text/plain": [
       "array([122.608,  53.415, 128.75 , ..., 113.42 ,  89.193, 150.369])"
      ]
     },
     "execution_count": 63,
     "metadata": {},
     "output_type": "execute_result"
    }
   ],
   "source": [
    "y_pred_rand = rf_rand.predict(X_test_s)\n",
    "y_pred_rand"
   ]
  },
  {
   "cell_type": "code",
   "execution_count": 64,
   "id": "4d4007f6",
   "metadata": {},
   "outputs": [
    {
     "data": {
      "text/html": [
       "<div>\n",
       "<style scoped>\n",
       "    .dataframe tbody tr th:only-of-type {\n",
       "        vertical-align: middle;\n",
       "    }\n",
       "\n",
       "    .dataframe tbody tr th {\n",
       "        vertical-align: top;\n",
       "    }\n",
       "\n",
       "    .dataframe thead th {\n",
       "        text-align: right;\n",
       "    }\n",
       "</style>\n",
       "<table border=\"1\" class=\"dataframe\">\n",
       "  <thead>\n",
       "    <tr style=\"text-align: right;\">\n",
       "      <th></th>\n",
       "      <th>Actual</th>\n",
       "      <th>Predicted</th>\n",
       "    </tr>\n",
       "  </thead>\n",
       "  <tbody>\n",
       "    <tr>\n",
       "      <th>215775</th>\n",
       "      <td>112</td>\n",
       "      <td>122.608</td>\n",
       "    </tr>\n",
       "    <tr>\n",
       "      <th>940970</th>\n",
       "      <td>66</td>\n",
       "      <td>53.415</td>\n",
       "    </tr>\n",
       "    <tr>\n",
       "      <th>127087</th>\n",
       "      <td>121</td>\n",
       "      <td>128.750</td>\n",
       "    </tr>\n",
       "    <tr>\n",
       "      <th>32234</th>\n",
       "      <td>107</td>\n",
       "      <td>130.648</td>\n",
       "    </tr>\n",
       "    <tr>\n",
       "      <th>645600</th>\n",
       "      <td>40</td>\n",
       "      <td>41.122</td>\n",
       "    </tr>\n",
       "  </tbody>\n",
       "</table>\n",
       "</div>"
      ],
      "text/plain": [
       "        Actual  Predicted\n",
       "215775     112    122.608\n",
       "940970      66     53.415\n",
       "127087     121    128.750\n",
       "32234      107    130.648\n",
       "645600      40     41.122"
      ]
     },
     "execution_count": 64,
     "metadata": {},
     "output_type": "execute_result"
    }
   ],
   "source": [
    "# Actual vs Predicted values\n",
    "pd.DataFrame({'Actual':y_test, 'Predicted':y_pred_rand}).head()"
   ]
  },
  {
   "cell_type": "code",
   "execution_count": 65,
   "id": "f7747cf2",
   "metadata": {},
   "outputs": [
    {
     "data": {
      "text/plain": [
       "0.9615958382354599"
      ]
     },
     "execution_count": 65,
     "metadata": {},
     "output_type": "execute_result"
    }
   ],
   "source": [
    "rf_rand.score(X_train_s, y_train)"
   ]
  },
  {
   "cell_type": "code",
   "execution_count": 66,
   "id": "a686ed8a",
   "metadata": {},
   "outputs": [
    {
     "data": {
      "text/plain": [
       "0.7230225780329584"
      ]
     },
     "execution_count": 66,
     "metadata": {},
     "output_type": "execute_result"
    }
   ],
   "source": [
    "rf_rand.score(X_test_s, y_test)"
   ]
  },
  {
   "cell_type": "markdown",
   "id": "19ec9f27",
   "metadata": {},
   "source": [
    "- There is a low bias with the training data, and a high variance with the test data. Though there is an increase in the generalisation to the test data, but there is still a level of overfitting in the model"
   ]
  },
  {
   "cell_type": "markdown",
   "id": "19876202",
   "metadata": {},
   "source": [
    "### Modelling: AdaBoost Regressor"
   ]
  },
  {
   "cell_type": "code",
   "execution_count": 89,
   "id": "1e106cec",
   "metadata": {},
   "outputs": [],
   "source": [
    "# import AdaBoost Regressor \n",
    "from sklearn.ensemble import AdaBoostRegressor \n",
    "\n",
    "# instatiate \n",
    "ab_reg = AdaBoostRegressor()\n",
    "\n",
    "# fit \n",
    "ab_reg.fit(X_train_s, y_train)\n",
    "\n",
    "# predict \n",
    "y_pred_ab_reg = ab_reg.predict(X_test_s)"
   ]
  },
  {
   "cell_type": "code",
   "execution_count": 90,
   "id": "515c433e",
   "metadata": {},
   "outputs": [
    {
     "data": {
      "text/plain": [
       "0.5454700877650944"
      ]
     },
     "execution_count": 90,
     "metadata": {},
     "output_type": "execute_result"
    }
   ],
   "source": [
    "# train score\n",
    "ab_reg.score(X_train_s, y_train)"
   ]
  },
  {
   "cell_type": "code",
   "execution_count": 91,
   "id": "379f6292",
   "metadata": {},
   "outputs": [
    {
     "data": {
      "text/plain": [
       "0.5369136861219888"
      ]
     },
     "execution_count": 91,
     "metadata": {},
     "output_type": "execute_result"
    }
   ],
   "source": [
    "# test score\n",
    "ab_reg.score(X_test_s, y_test)"
   ]
  },
  {
   "cell_type": "code",
   "execution_count": 92,
   "id": "7b48422d",
   "metadata": {},
   "outputs": [],
   "source": [
    "# import module\n",
    "from sklearn.metrics import mean_absolute_error, mean_squared_error"
   ]
  },
  {
   "cell_type": "code",
   "execution_count": 93,
   "id": "664380c6",
   "metadata": {},
   "outputs": [],
   "source": [
    "# metrics\n",
    "mae = mean_absolute_error(y_test, y_pred_ab_reg) \n",
    "mse = mean_squared_error(y_test, y_pred_ab_reg) \n",
    "rmse = np.sqrt(mse)"
   ]
  },
  {
   "cell_type": "code",
   "execution_count": 94,
   "id": "a70e2238",
   "metadata": {},
   "outputs": [
    {
     "name": "stdout",
     "output_type": "stream",
     "text": [
      "Mean absolute error:  21.936924\n",
      "Mean squared error:  686.343351\n",
      "Root Mean squared error:  26.198155\n"
     ]
    }
   ],
   "source": [
    "print(f'Mean absolute error: {mae: 2f}')\n",
    "print(f'Mean squared error: {mse: 2f}')\n",
    "print(f'Root Mean squared error: {rmse: 2f}')"
   ]
  },
  {
   "cell_type": "code",
   "execution_count": null,
   "id": "acdea464",
   "metadata": {},
   "outputs": [],
   "source": []
  },
  {
   "cell_type": "code",
   "execution_count": null,
   "id": "c86e700d",
   "metadata": {},
   "outputs": [],
   "source": []
  },
  {
   "cell_type": "markdown",
   "id": "01e447af",
   "metadata": {},
   "source": [
    "### Modelling: GradientBoostingRegresssor"
   ]
  },
  {
   "cell_type": "code",
   "execution_count": 73,
   "id": "c344130c",
   "metadata": {},
   "outputs": [],
   "source": [
    "# import GradientBoosting Regressor \n",
    "from sklearn.ensemble import GradientBoostingRegressor \n",
    "\n",
    "# instatiate \n",
    "gbr_reg_base = GradientBoostingRegressor()\n",
    "\n",
    "# fit \n",
    "gbr_reg_base.fit(X_train_s, y_train)\n",
    "\n",
    "# predict \n",
    "y_pred_gbc = gbr_reg_base.predict(X_test_s)"
   ]
  },
  {
   "cell_type": "code",
   "execution_count": 74,
   "id": "75b5f505",
   "metadata": {},
   "outputs": [
    {
     "data": {
      "text/plain": [
       "0.7488435396681881"
      ]
     },
     "execution_count": 74,
     "metadata": {},
     "output_type": "execute_result"
    }
   ],
   "source": [
    "# train score\n",
    "gbr_reg_base.score(X_train_s, y_train)"
   ]
  },
  {
   "cell_type": "code",
   "execution_count": 75,
   "id": "081b5ca6",
   "metadata": {},
   "outputs": [
    {
     "data": {
      "text/plain": [
       "0.74572224483455"
      ]
     },
     "execution_count": 75,
     "metadata": {},
     "output_type": "execute_result"
    }
   ],
   "source": [
    "# test score\n",
    "gbr_reg_base.score(X_test_s, y_test)"
   ]
  },
  {
   "cell_type": "code",
   "execution_count": 77,
   "id": "d0acfcab",
   "metadata": {},
   "outputs": [],
   "source": [
    "paramters = {'n_estimators': [100, 200, 300, 400]}"
   ]
  },
  {
   "cell_type": "code",
   "execution_count": 79,
   "id": "578f97b4",
   "metadata": {},
   "outputs": [
    {
     "data": {
      "text/plain": [
       "GridSearchCV(cv=6, estimator=GradientBoostingRegressor(), n_jobs=-1,\n",
       "             param_grid={'max_features': array([1, 2, 3]),\n",
       "                         'n_estimators': [100, 200, 300, 500, 1000]})"
      ]
     },
     "execution_count": 79,
     "metadata": {},
     "output_type": "execute_result"
    }
   ],
   "source": [
    "from sklearn.model_selection import GridSearchCV \n",
    "\n",
    "grid_gbc = GridSearchCV(gbr_reg_base, param_grid=parameters, n_jobs=-1, cv=6, )\n",
    "\n",
    "grid_gbc.fit(X_train_s, y_train)"
   ]
  },
  {
   "cell_type": "code",
   "execution_count": 85,
   "id": "cb1e5522",
   "metadata": {
    "scrolled": true
   },
   "outputs": [
    {
     "data": {
      "text/html": [
       "<div>\n",
       "<style scoped>\n",
       "    .dataframe tbody tr th:only-of-type {\n",
       "        vertical-align: middle;\n",
       "    }\n",
       "\n",
       "    .dataframe tbody tr th {\n",
       "        vertical-align: top;\n",
       "    }\n",
       "\n",
       "    .dataframe thead th {\n",
       "        text-align: right;\n",
       "    }\n",
       "</style>\n",
       "<table border=\"1\" class=\"dataframe\">\n",
       "  <thead>\n",
       "    <tr style=\"text-align: right;\">\n",
       "      <th></th>\n",
       "      <th>mean_fit_time</th>\n",
       "      <th>std_fit_time</th>\n",
       "      <th>mean_score_time</th>\n",
       "      <th>std_score_time</th>\n",
       "      <th>param_max_features</th>\n",
       "      <th>param_n_estimators</th>\n",
       "      <th>params</th>\n",
       "      <th>split0_test_score</th>\n",
       "      <th>split1_test_score</th>\n",
       "      <th>split2_test_score</th>\n",
       "      <th>split3_test_score</th>\n",
       "      <th>split4_test_score</th>\n",
       "      <th>split5_test_score</th>\n",
       "      <th>mean_test_score</th>\n",
       "      <th>std_test_score</th>\n",
       "      <th>rank_test_score</th>\n",
       "    </tr>\n",
       "  </thead>\n",
       "  <tbody>\n",
       "    <tr>\n",
       "      <th>0</th>\n",
       "      <td>0.785453</td>\n",
       "      <td>0.212651</td>\n",
       "      <td>0.017999</td>\n",
       "      <td>0.004163</td>\n",
       "      <td>1</td>\n",
       "      <td>100</td>\n",
       "      <td>{'max_features': 1, 'n_estimators': 100}</td>\n",
       "      <td>0.642927</td>\n",
       "      <td>0.645321</td>\n",
       "      <td>0.641187</td>\n",
       "      <td>0.651911</td>\n",
       "      <td>0.654838</td>\n",
       "      <td>0.643756</td>\n",
       "      <td>0.646657</td>\n",
       "      <td>0.004976</td>\n",
       "      <td>15</td>\n",
       "    </tr>\n",
       "    <tr>\n",
       "      <th>1</th>\n",
       "      <td>0.877280</td>\n",
       "      <td>0.076338</td>\n",
       "      <td>0.020499</td>\n",
       "      <td>0.002986</td>\n",
       "      <td>1</td>\n",
       "      <td>200</td>\n",
       "      <td>{'max_features': 1, 'n_estimators': 200}</td>\n",
       "      <td>0.718832</td>\n",
       "      <td>0.701185</td>\n",
       "      <td>0.693074</td>\n",
       "      <td>0.707899</td>\n",
       "      <td>0.719843</td>\n",
       "      <td>0.704495</td>\n",
       "      <td>0.707555</td>\n",
       "      <td>0.009469</td>\n",
       "      <td>14</td>\n",
       "    </tr>\n",
       "    <tr>\n",
       "      <th>2</th>\n",
       "      <td>1.242092</td>\n",
       "      <td>0.049519</td>\n",
       "      <td>0.027999</td>\n",
       "      <td>0.003000</td>\n",
       "      <td>1</td>\n",
       "      <td>300</td>\n",
       "      <td>{'max_features': 1, 'n_estimators': 300}</td>\n",
       "      <td>0.732957</td>\n",
       "      <td>0.733922</td>\n",
       "      <td>0.719033</td>\n",
       "      <td>0.725652</td>\n",
       "      <td>0.729193</td>\n",
       "      <td>0.728933</td>\n",
       "      <td>0.728282</td>\n",
       "      <td>0.004956</td>\n",
       "      <td>12</td>\n",
       "    </tr>\n",
       "    <tr>\n",
       "      <th>3</th>\n",
       "      <td>2.060543</td>\n",
       "      <td>0.026061</td>\n",
       "      <td>0.049497</td>\n",
       "      <td>0.014659</td>\n",
       "      <td>1</td>\n",
       "      <td>500</td>\n",
       "      <td>{'max_features': 1, 'n_estimators': 500}</td>\n",
       "      <td>0.746177</td>\n",
       "      <td>0.748288</td>\n",
       "      <td>0.728885</td>\n",
       "      <td>0.742409</td>\n",
       "      <td>0.744100</td>\n",
       "      <td>0.743419</td>\n",
       "      <td>0.742213</td>\n",
       "      <td>0.006262</td>\n",
       "      <td>10</td>\n",
       "    </tr>\n",
       "    <tr>\n",
       "      <th>4</th>\n",
       "      <td>5.690714</td>\n",
       "      <td>1.070400</td>\n",
       "      <td>0.171490</td>\n",
       "      <td>0.101007</td>\n",
       "      <td>1</td>\n",
       "      <td>1000</td>\n",
       "      <td>{'max_features': 1, 'n_estimators': 1000}</td>\n",
       "      <td>0.748855</td>\n",
       "      <td>0.751689</td>\n",
       "      <td>0.733971</td>\n",
       "      <td>0.744481</td>\n",
       "      <td>0.748926</td>\n",
       "      <td>0.750259</td>\n",
       "      <td>0.746364</td>\n",
       "      <td>0.005964</td>\n",
       "      <td>7</td>\n",
       "    </tr>\n",
       "    <tr>\n",
       "      <th>5</th>\n",
       "      <td>0.716957</td>\n",
       "      <td>0.064528</td>\n",
       "      <td>0.014666</td>\n",
       "      <td>0.004749</td>\n",
       "      <td>2</td>\n",
       "      <td>100</td>\n",
       "      <td>{'max_features': 2, 'n_estimators': 100}</td>\n",
       "      <td>0.707765</td>\n",
       "      <td>0.721914</td>\n",
       "      <td>0.692472</td>\n",
       "      <td>0.715923</td>\n",
       "      <td>0.709069</td>\n",
       "      <td>0.715599</td>\n",
       "      <td>0.710457</td>\n",
       "      <td>0.009311</td>\n",
       "      <td>13</td>\n",
       "    </tr>\n",
       "    <tr>\n",
       "      <th>6</th>\n",
       "      <td>1.563239</td>\n",
       "      <td>0.219165</td>\n",
       "      <td>0.031332</td>\n",
       "      <td>0.018453</td>\n",
       "      <td>2</td>\n",
       "      <td>200</td>\n",
       "      <td>{'max_features': 2, 'n_estimators': 200}</td>\n",
       "      <td>0.751295</td>\n",
       "      <td>0.748085</td>\n",
       "      <td>0.731257</td>\n",
       "      <td>0.739382</td>\n",
       "      <td>0.744678</td>\n",
       "      <td>0.741098</td>\n",
       "      <td>0.742632</td>\n",
       "      <td>0.006471</td>\n",
       "      <td>9</td>\n",
       "    </tr>\n",
       "    <tr>\n",
       "      <th>7</th>\n",
       "      <td>2.012380</td>\n",
       "      <td>0.128820</td>\n",
       "      <td>0.036331</td>\n",
       "      <td>0.014636</td>\n",
       "      <td>2</td>\n",
       "      <td>300</td>\n",
       "      <td>{'max_features': 2, 'n_estimators': 300}</td>\n",
       "      <td>0.751534</td>\n",
       "      <td>0.752863</td>\n",
       "      <td>0.737241</td>\n",
       "      <td>0.745935</td>\n",
       "      <td>0.750175</td>\n",
       "      <td>0.748272</td>\n",
       "      <td>0.747670</td>\n",
       "      <td>0.005169</td>\n",
       "      <td>5</td>\n",
       "    </tr>\n",
       "    <tr>\n",
       "      <th>8</th>\n",
       "      <td>4.391238</td>\n",
       "      <td>1.166119</td>\n",
       "      <td>0.054391</td>\n",
       "      <td>0.012875</td>\n",
       "      <td>2</td>\n",
       "      <td>500</td>\n",
       "      <td>{'max_features': 2, 'n_estimators': 500}</td>\n",
       "      <td>0.755228</td>\n",
       "      <td>0.756582</td>\n",
       "      <td>0.736162</td>\n",
       "      <td>0.746945</td>\n",
       "      <td>0.752362</td>\n",
       "      <td>0.750168</td>\n",
       "      <td>0.749574</td>\n",
       "      <td>0.006782</td>\n",
       "      <td>1</td>\n",
       "    </tr>\n",
       "    <tr>\n",
       "      <th>9</th>\n",
       "      <td>7.367225</td>\n",
       "      <td>0.891954</td>\n",
       "      <td>0.105827</td>\n",
       "      <td>0.026747</td>\n",
       "      <td>2</td>\n",
       "      <td>1000</td>\n",
       "      <td>{'max_features': 2, 'n_estimators': 1000}</td>\n",
       "      <td>0.750479</td>\n",
       "      <td>0.753758</td>\n",
       "      <td>0.733699</td>\n",
       "      <td>0.745936</td>\n",
       "      <td>0.747089</td>\n",
       "      <td>0.749240</td>\n",
       "      <td>0.746700</td>\n",
       "      <td>0.006328</td>\n",
       "      <td>6</td>\n",
       "    </tr>\n",
       "    <tr>\n",
       "      <th>10</th>\n",
       "      <td>0.850116</td>\n",
       "      <td>0.057342</td>\n",
       "      <td>0.011499</td>\n",
       "      <td>0.002566</td>\n",
       "      <td>3</td>\n",
       "      <td>100</td>\n",
       "      <td>{'max_features': 3, 'n_estimators': 100}</td>\n",
       "      <td>0.731777</td>\n",
       "      <td>0.729583</td>\n",
       "      <td>0.718809</td>\n",
       "      <td>0.727513</td>\n",
       "      <td>0.735104</td>\n",
       "      <td>0.732194</td>\n",
       "      <td>0.729163</td>\n",
       "      <td>0.005187</td>\n",
       "      <td>11</td>\n",
       "    </tr>\n",
       "    <tr>\n",
       "      <th>11</th>\n",
       "      <td>1.665760</td>\n",
       "      <td>0.078235</td>\n",
       "      <td>0.019166</td>\n",
       "      <td>0.000898</td>\n",
       "      <td>3</td>\n",
       "      <td>200</td>\n",
       "      <td>{'max_features': 3, 'n_estimators': 200}</td>\n",
       "      <td>0.752349</td>\n",
       "      <td>0.754119</td>\n",
       "      <td>0.735764</td>\n",
       "      <td>0.746114</td>\n",
       "      <td>0.750772</td>\n",
       "      <td>0.749542</td>\n",
       "      <td>0.748110</td>\n",
       "      <td>0.006050</td>\n",
       "      <td>4</td>\n",
       "    </tr>\n",
       "    <tr>\n",
       "      <th>12</th>\n",
       "      <td>2.442834</td>\n",
       "      <td>0.027741</td>\n",
       "      <td>0.026672</td>\n",
       "      <td>0.003147</td>\n",
       "      <td>3</td>\n",
       "      <td>300</td>\n",
       "      <td>{'max_features': 3, 'n_estimators': 300}</td>\n",
       "      <td>0.752637</td>\n",
       "      <td>0.755167</td>\n",
       "      <td>0.738393</td>\n",
       "      <td>0.749136</td>\n",
       "      <td>0.750776</td>\n",
       "      <td>0.751294</td>\n",
       "      <td>0.749567</td>\n",
       "      <td>0.005327</td>\n",
       "      <td>2</td>\n",
       "    </tr>\n",
       "    <tr>\n",
       "      <th>13</th>\n",
       "      <td>4.135000</td>\n",
       "      <td>0.158167</td>\n",
       "      <td>0.041498</td>\n",
       "      <td>0.000500</td>\n",
       "      <td>3</td>\n",
       "      <td>500</td>\n",
       "      <td>{'max_features': 3, 'n_estimators': 500}</td>\n",
       "      <td>0.753418</td>\n",
       "      <td>0.755725</td>\n",
       "      <td>0.737022</td>\n",
       "      <td>0.746499</td>\n",
       "      <td>0.750024</td>\n",
       "      <td>0.752886</td>\n",
       "      <td>0.749262</td>\n",
       "      <td>0.006194</td>\n",
       "      <td>3</td>\n",
       "    </tr>\n",
       "    <tr>\n",
       "      <th>14</th>\n",
       "      <td>8.153333</td>\n",
       "      <td>0.188358</td>\n",
       "      <td>0.085172</td>\n",
       "      <td>0.004669</td>\n",
       "      <td>3</td>\n",
       "      <td>1000</td>\n",
       "      <td>{'max_features': 3, 'n_estimators': 1000}</td>\n",
       "      <td>0.749087</td>\n",
       "      <td>0.753373</td>\n",
       "      <td>0.733128</td>\n",
       "      <td>0.741975</td>\n",
       "      <td>0.748030</td>\n",
       "      <td>0.748331</td>\n",
       "      <td>0.745654</td>\n",
       "      <td>0.006514</td>\n",
       "      <td>8</td>\n",
       "    </tr>\n",
       "  </tbody>\n",
       "</table>\n",
       "</div>"
      ],
      "text/plain": [
       "    mean_fit_time  std_fit_time  mean_score_time  std_score_time  \\\n",
       "0        0.785453      0.212651         0.017999        0.004163   \n",
       "1        0.877280      0.076338         0.020499        0.002986   \n",
       "2        1.242092      0.049519         0.027999        0.003000   \n",
       "3        2.060543      0.026061         0.049497        0.014659   \n",
       "4        5.690714      1.070400         0.171490        0.101007   \n",
       "5        0.716957      0.064528         0.014666        0.004749   \n",
       "6        1.563239      0.219165         0.031332        0.018453   \n",
       "7        2.012380      0.128820         0.036331        0.014636   \n",
       "8        4.391238      1.166119         0.054391        0.012875   \n",
       "9        7.367225      0.891954         0.105827        0.026747   \n",
       "10       0.850116      0.057342         0.011499        0.002566   \n",
       "11       1.665760      0.078235         0.019166        0.000898   \n",
       "12       2.442834      0.027741         0.026672        0.003147   \n",
       "13       4.135000      0.158167         0.041498        0.000500   \n",
       "14       8.153333      0.188358         0.085172        0.004669   \n",
       "\n",
       "   param_max_features param_n_estimators  \\\n",
       "0                   1                100   \n",
       "1                   1                200   \n",
       "2                   1                300   \n",
       "3                   1                500   \n",
       "4                   1               1000   \n",
       "5                   2                100   \n",
       "6                   2                200   \n",
       "7                   2                300   \n",
       "8                   2                500   \n",
       "9                   2               1000   \n",
       "10                  3                100   \n",
       "11                  3                200   \n",
       "12                  3                300   \n",
       "13                  3                500   \n",
       "14                  3               1000   \n",
       "\n",
       "                                       params  split0_test_score  \\\n",
       "0    {'max_features': 1, 'n_estimators': 100}           0.642927   \n",
       "1    {'max_features': 1, 'n_estimators': 200}           0.718832   \n",
       "2    {'max_features': 1, 'n_estimators': 300}           0.732957   \n",
       "3    {'max_features': 1, 'n_estimators': 500}           0.746177   \n",
       "4   {'max_features': 1, 'n_estimators': 1000}           0.748855   \n",
       "5    {'max_features': 2, 'n_estimators': 100}           0.707765   \n",
       "6    {'max_features': 2, 'n_estimators': 200}           0.751295   \n",
       "7    {'max_features': 2, 'n_estimators': 300}           0.751534   \n",
       "8    {'max_features': 2, 'n_estimators': 500}           0.755228   \n",
       "9   {'max_features': 2, 'n_estimators': 1000}           0.750479   \n",
       "10   {'max_features': 3, 'n_estimators': 100}           0.731777   \n",
       "11   {'max_features': 3, 'n_estimators': 200}           0.752349   \n",
       "12   {'max_features': 3, 'n_estimators': 300}           0.752637   \n",
       "13   {'max_features': 3, 'n_estimators': 500}           0.753418   \n",
       "14  {'max_features': 3, 'n_estimators': 1000}           0.749087   \n",
       "\n",
       "    split1_test_score  split2_test_score  split3_test_score  \\\n",
       "0            0.645321           0.641187           0.651911   \n",
       "1            0.701185           0.693074           0.707899   \n",
       "2            0.733922           0.719033           0.725652   \n",
       "3            0.748288           0.728885           0.742409   \n",
       "4            0.751689           0.733971           0.744481   \n",
       "5            0.721914           0.692472           0.715923   \n",
       "6            0.748085           0.731257           0.739382   \n",
       "7            0.752863           0.737241           0.745935   \n",
       "8            0.756582           0.736162           0.746945   \n",
       "9            0.753758           0.733699           0.745936   \n",
       "10           0.729583           0.718809           0.727513   \n",
       "11           0.754119           0.735764           0.746114   \n",
       "12           0.755167           0.738393           0.749136   \n",
       "13           0.755725           0.737022           0.746499   \n",
       "14           0.753373           0.733128           0.741975   \n",
       "\n",
       "    split4_test_score  split5_test_score  mean_test_score  std_test_score  \\\n",
       "0            0.654838           0.643756         0.646657        0.004976   \n",
       "1            0.719843           0.704495         0.707555        0.009469   \n",
       "2            0.729193           0.728933         0.728282        0.004956   \n",
       "3            0.744100           0.743419         0.742213        0.006262   \n",
       "4            0.748926           0.750259         0.746364        0.005964   \n",
       "5            0.709069           0.715599         0.710457        0.009311   \n",
       "6            0.744678           0.741098         0.742632        0.006471   \n",
       "7            0.750175           0.748272         0.747670        0.005169   \n",
       "8            0.752362           0.750168         0.749574        0.006782   \n",
       "9            0.747089           0.749240         0.746700        0.006328   \n",
       "10           0.735104           0.732194         0.729163        0.005187   \n",
       "11           0.750772           0.749542         0.748110        0.006050   \n",
       "12           0.750776           0.751294         0.749567        0.005327   \n",
       "13           0.750024           0.752886         0.749262        0.006194   \n",
       "14           0.748030           0.748331         0.745654        0.006514   \n",
       "\n",
       "    rank_test_score  \n",
       "0                15  \n",
       "1                14  \n",
       "2                12  \n",
       "3                10  \n",
       "4                 7  \n",
       "5                13  \n",
       "6                 9  \n",
       "7                 5  \n",
       "8                 1  \n",
       "9                 6  \n",
       "10               11  \n",
       "11                4  \n",
       "12                2  \n",
       "13                3  \n",
       "14                8  "
      ]
     },
     "execution_count": 85,
     "metadata": {},
     "output_type": "execute_result"
    }
   ],
   "source": [
    "pd.DataFrame(grid_gbc.cv_results_)"
   ]
  },
  {
   "cell_type": "code",
   "execution_count": 95,
   "id": "8b922982",
   "metadata": {},
   "outputs": [
    {
     "data": {
      "text/plain": [
       "{'max_features': 2, 'n_estimators': 500}"
      ]
     },
     "execution_count": 95,
     "metadata": {},
     "output_type": "execute_result"
    }
   ],
   "source": [
    "grid_gbc.best_params_"
   ]
  },
  {
   "cell_type": "code",
   "execution_count": 96,
   "id": "5f423255",
   "metadata": {},
   "outputs": [
    {
     "data": {
      "text/plain": [
       "0.7495743953797797"
      ]
     },
     "execution_count": 96,
     "metadata": {},
     "output_type": "execute_result"
    }
   ],
   "source": [
    "grid_gbc.best_score_"
   ]
  },
  {
   "cell_type": "code",
   "execution_count": 82,
   "id": "6c73abdd",
   "metadata": {},
   "outputs": [],
   "source": [
    "# predict\n",
    "y_pred_gbc_base = grid_gbc.predict(X_test_s)"
   ]
  },
  {
   "cell_type": "code",
   "execution_count": 84,
   "id": "7c175865",
   "metadata": {},
   "outputs": [
    {
     "data": {
      "text/plain": [
       "0.7708730691540142"
      ]
     },
     "execution_count": 84,
     "metadata": {},
     "output_type": "execute_result"
    }
   ],
   "source": [
    "# train\n",
    "grid_gbc.score(X_train_s, y_train)"
   ]
  },
  {
   "cell_type": "code",
   "execution_count": 86,
   "id": "116ef43c",
   "metadata": {},
   "outputs": [
    {
     "data": {
      "text/plain": [
       "0.7561749742347721"
      ]
     },
     "execution_count": 86,
     "metadata": {},
     "output_type": "execute_result"
    }
   ],
   "source": [
    "# test score\n",
    "grid_gbc.score(X_test_s, y_test)"
   ]
  },
  {
   "cell_type": "code",
   "execution_count": 80,
   "id": "bd46481a",
   "metadata": {},
   "outputs": [],
   "source": [
    "# import module\n",
    "from sklearn.metrics import mean_absolute_error, mean_squared_error"
   ]
  },
  {
   "cell_type": "code",
   "execution_count": 87,
   "id": "fe68f2f1",
   "metadata": {},
   "outputs": [],
   "source": [
    "# metrics\n",
    "mae = mean_absolute_error(y_test, y_pred_gbc_base) \n",
    "mse = mean_squared_error(y_test, y_pred_gbc_base) \n",
    "rmse = np.sqrt(mse)"
   ]
  },
  {
   "cell_type": "code",
   "execution_count": 88,
   "id": "5107b76c",
   "metadata": {},
   "outputs": [
    {
     "name": "stdout",
     "output_type": "stream",
     "text": [
      "Mean absolute error:  15.374580\n",
      "Mean squared error:  361.374716\n",
      "Root Mean squared error:  19.009858\n"
     ]
    }
   ],
   "source": [
    "print(f'Mean absolute error: {mae: 2f}')\n",
    "print(f'Mean squared error: {mse: 2f}')\n",
    "print(f'Root Mean squared error: {rmse: 2f}')"
   ]
  },
  {
   "cell_type": "code",
   "execution_count": null,
   "id": "9dcedc54",
   "metadata": {},
   "outputs": [],
   "source": []
  }
 ],
 "metadata": {
  "kernelspec": {
   "display_name": "Python 3",
   "language": "python",
   "name": "python3"
  },
  "language_info": {
   "codemirror_mode": {
    "name": "ipython",
    "version": 3
   },
   "file_extension": ".py",
   "mimetype": "text/x-python",
   "name": "python",
   "nbconvert_exporter": "python",
   "pygments_lexer": "ipython3",
   "version": "3.8.8"
  }
 },
 "nbformat": 4,
 "nbformat_minor": 5
}

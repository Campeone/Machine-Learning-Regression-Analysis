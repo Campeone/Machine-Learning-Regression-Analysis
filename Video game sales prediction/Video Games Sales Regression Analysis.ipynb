{
 "cells": [
  {
   "cell_type": "code",
   "execution_count": 1,
   "id": "f9f8dc88",
   "metadata": {},
   "outputs": [],
   "source": [
    "# import necessary libraries \n",
    "import numpy as np \n",
    "import pandas as pd \n",
    "import matplotlib.pyplot as plt \n",
    "import seaborn as sns \n",
    "sns.set()\n",
    "\n",
    "# view all columns in the dataframe \n",
    "pd.set_option('display.max_columns', None)"
   ]
  },
  {
   "cell_type": "code",
   "execution_count": 2,
   "id": "91912539",
   "metadata": {},
   "outputs": [],
   "source": [
    "# load the dataset \n",
    "vga = pd.read_csv(r'C:\\Users\\OJO Timilehin\\Desktop\\dataset/vgsales.csv')"
   ]
  },
  {
   "cell_type": "code",
   "execution_count": 3,
   "id": "aaf9fefd",
   "metadata": {},
   "outputs": [
    {
     "data": {
      "text/html": [
       "<div>\n",
       "<style scoped>\n",
       "    .dataframe tbody tr th:only-of-type {\n",
       "        vertical-align: middle;\n",
       "    }\n",
       "\n",
       "    .dataframe tbody tr th {\n",
       "        vertical-align: top;\n",
       "    }\n",
       "\n",
       "    .dataframe thead th {\n",
       "        text-align: right;\n",
       "    }\n",
       "</style>\n",
       "<table border=\"1\" class=\"dataframe\">\n",
       "  <thead>\n",
       "    <tr style=\"text-align: right;\">\n",
       "      <th></th>\n",
       "      <th>Rank</th>\n",
       "      <th>Name</th>\n",
       "      <th>Platform</th>\n",
       "      <th>Year</th>\n",
       "      <th>Genre</th>\n",
       "      <th>Publisher</th>\n",
       "      <th>NA_Sales</th>\n",
       "      <th>EU_Sales</th>\n",
       "      <th>JP_Sales</th>\n",
       "      <th>Other_Sales</th>\n",
       "      <th>Global_Sales</th>\n",
       "    </tr>\n",
       "  </thead>\n",
       "  <tbody>\n",
       "    <tr>\n",
       "      <th>0</th>\n",
       "      <td>1</td>\n",
       "      <td>Wii Sports</td>\n",
       "      <td>Wii</td>\n",
       "      <td>2006.0</td>\n",
       "      <td>Sports</td>\n",
       "      <td>Nintendo</td>\n",
       "      <td>41.49</td>\n",
       "      <td>29.02</td>\n",
       "      <td>3.77</td>\n",
       "      <td>8.46</td>\n",
       "      <td>82.74</td>\n",
       "    </tr>\n",
       "    <tr>\n",
       "      <th>1</th>\n",
       "      <td>2</td>\n",
       "      <td>Super Mario Bros.</td>\n",
       "      <td>NES</td>\n",
       "      <td>1985.0</td>\n",
       "      <td>Platform</td>\n",
       "      <td>Nintendo</td>\n",
       "      <td>29.08</td>\n",
       "      <td>3.58</td>\n",
       "      <td>6.81</td>\n",
       "      <td>0.77</td>\n",
       "      <td>40.24</td>\n",
       "    </tr>\n",
       "    <tr>\n",
       "      <th>2</th>\n",
       "      <td>3</td>\n",
       "      <td>Mario Kart Wii</td>\n",
       "      <td>Wii</td>\n",
       "      <td>2008.0</td>\n",
       "      <td>Racing</td>\n",
       "      <td>Nintendo</td>\n",
       "      <td>15.85</td>\n",
       "      <td>12.88</td>\n",
       "      <td>3.79</td>\n",
       "      <td>3.31</td>\n",
       "      <td>35.82</td>\n",
       "    </tr>\n",
       "    <tr>\n",
       "      <th>3</th>\n",
       "      <td>4</td>\n",
       "      <td>Wii Sports Resort</td>\n",
       "      <td>Wii</td>\n",
       "      <td>2009.0</td>\n",
       "      <td>Sports</td>\n",
       "      <td>Nintendo</td>\n",
       "      <td>15.75</td>\n",
       "      <td>11.01</td>\n",
       "      <td>3.28</td>\n",
       "      <td>2.96</td>\n",
       "      <td>33.00</td>\n",
       "    </tr>\n",
       "    <tr>\n",
       "      <th>4</th>\n",
       "      <td>5</td>\n",
       "      <td>Pokemon Red/Pokemon Blue</td>\n",
       "      <td>GB</td>\n",
       "      <td>1996.0</td>\n",
       "      <td>Role-Playing</td>\n",
       "      <td>Nintendo</td>\n",
       "      <td>11.27</td>\n",
       "      <td>8.89</td>\n",
       "      <td>10.22</td>\n",
       "      <td>1.00</td>\n",
       "      <td>31.37</td>\n",
       "    </tr>\n",
       "  </tbody>\n",
       "</table>\n",
       "</div>"
      ],
      "text/plain": [
       "   Rank                      Name Platform    Year         Genre Publisher  \\\n",
       "0     1                Wii Sports      Wii  2006.0        Sports  Nintendo   \n",
       "1     2         Super Mario Bros.      NES  1985.0      Platform  Nintendo   \n",
       "2     3            Mario Kart Wii      Wii  2008.0        Racing  Nintendo   \n",
       "3     4         Wii Sports Resort      Wii  2009.0        Sports  Nintendo   \n",
       "4     5  Pokemon Red/Pokemon Blue       GB  1996.0  Role-Playing  Nintendo   \n",
       "\n",
       "   NA_Sales  EU_Sales  JP_Sales  Other_Sales  Global_Sales  \n",
       "0     41.49     29.02      3.77         8.46         82.74  \n",
       "1     29.08      3.58      6.81         0.77         40.24  \n",
       "2     15.85     12.88      3.79         3.31         35.82  \n",
       "3     15.75     11.01      3.28         2.96         33.00  \n",
       "4     11.27      8.89     10.22         1.00         31.37  "
      ]
     },
     "execution_count": 3,
     "metadata": {},
     "output_type": "execute_result"
    }
   ],
   "source": [
    "vga.head()"
   ]
  },
  {
   "cell_type": "code",
   "execution_count": 4,
   "id": "e645b24d",
   "metadata": {},
   "outputs": [
    {
     "data": {
      "text/plain": [
       "(16598, 11)"
      ]
     },
     "execution_count": 4,
     "metadata": {},
     "output_type": "execute_result"
    }
   ],
   "source": [
    "# shape \n",
    "vga.shape"
   ]
  },
  {
   "cell_type": "code",
   "execution_count": 5,
   "id": "54c358b7",
   "metadata": {},
   "outputs": [
    {
     "data": {
      "text/plain": [
       "Rank              0\n",
       "Name              0\n",
       "Platform          0\n",
       "Year            271\n",
       "Genre             0\n",
       "Publisher        58\n",
       "NA_Sales          0\n",
       "EU_Sales          0\n",
       "JP_Sales          0\n",
       "Other_Sales       0\n",
       "Global_Sales      0\n",
       "dtype: int64"
      ]
     },
     "execution_count": 5,
     "metadata": {},
     "output_type": "execute_result"
    }
   ],
   "source": [
    "# null values \n",
    "vga.isnull().sum()"
   ]
  },
  {
   "cell_type": "code",
   "execution_count": 6,
   "id": "e635df0a",
   "metadata": {
    "scrolled": true
   },
   "outputs": [
    {
     "name": "stdout",
     "output_type": "stream",
     "text": [
      "feature with NaN values:  ['Year', 'Publisher']\n",
      "Year : 271 ,  0.016 % missing NaN values\n",
      "Publisher : 58 ,  0.003 % missing NaN values\n"
     ]
    }
   ],
   "source": [
    "# feature with NaN values\n",
    "feature_NaN = [feature for feature in vga.columns if vga[feature].isnull().sum()>1] \n",
    "print('feature with NaN values: ',feature_NaN)\n",
    "# sum and percentage of NaN values \n",
    "for feature in feature_NaN: \n",
    "    print(feature, ':', vga[feature].isnull().sum(), ', ', round(vga[feature].isnull().mean(), 3), '% missing NaN values' )"
   ]
  },
  {
   "cell_type": "code",
   "execution_count": 7,
   "id": "4dc7e97a",
   "metadata": {},
   "outputs": [
    {
     "data": {
      "text/plain": [
       "array(['Nintendo', 'Microsoft Game Studios', 'Take-Two Interactive',\n",
       "       'Sony Computer Entertainment', 'Activision', 'Ubisoft',\n",
       "       'Bethesda Softworks', 'Electronic Arts', 'Sega', 'SquareSoft',\n",
       "       'Atari', '505 Games', 'Capcom', 'GT Interactive',\n",
       "       'Konami Digital Entertainment',\n",
       "       'Sony Computer Entertainment Europe', 'Square Enix', 'LucasArts',\n",
       "       'Virgin Interactive', 'Warner Bros. Interactive Entertainment',\n",
       "       'Universal Interactive', 'Eidos Interactive', 'RedOctane',\n",
       "       'Vivendi Games', 'Enix Corporation', 'Namco Bandai Games',\n",
       "       'Palcom', 'Hasbro Interactive', 'THQ', 'Fox Interactive',\n",
       "       'Acclaim Entertainment', 'MTV Games', 'Disney Interactive Studios',\n",
       "       'Missing', 'Majesco Entertainment', 'Codemasters', 'Red Orb',\n",
       "       'Level 5', 'Arena Entertainment', 'Midway Games', 'JVC',\n",
       "       'Deep Silver', '989 Studios', 'NCSoft', 'UEP Systems',\n",
       "       'Parker Bros.', 'Maxis', 'Imagic', 'Tecmo Koei', 'Valve Software',\n",
       "       'ASCII Entertainment', 'Mindscape', 'Infogrames', 'Unknown',\n",
       "       'Square', 'Valve', 'Activision Value', 'Banpresto', 'D3Publisher',\n",
       "       'Oxygen Interactive', 'Red Storm Entertainment', 'Video System',\n",
       "       'Hello Games', 'Global Star', 'Gotham Games', 'Westwood Studios',\n",
       "       'GungHo', 'Crave Entertainment', 'Hudson Soft', 'Coleco',\n",
       "       'Rising Star Games', 'Atlus', 'TDK Mediactive', 'ASC Games',\n",
       "       'Zoo Games', 'Accolade', 'Sony Online Entertainment', '3DO', 'RTL',\n",
       "       'Natsume', 'Focus Home Interactive', 'Alchemist',\n",
       "       'Black Label Games', 'SouthPeak Games', 'Mastertronic', 'Ocean',\n",
       "       'Zoo Digital Publishing', 'Psygnosis', 'City Interactive',\n",
       "       'Empire Interactive', 'Success', 'Compile', 'Russel', 'Taito',\n",
       "       'Agetec', 'GSP', 'Microprose', 'Play It', 'Slightly Mad Studios',\n",
       "       'Tomy Corporation', 'Sammy Corporation', 'Koch Media',\n",
       "       'Game Factory', 'Titus', 'Marvelous Entertainment', 'Genki',\n",
       "       'Mojang', 'Pinnacle', 'CTO SpA', 'TalonSoft', 'Crystal Dynamics',\n",
       "       'SCi', 'Quelle', 'mixi, Inc', 'Rage Software', 'Ubisoft Annecy',\n",
       "       'Scholastic Inc.', 'Interplay', 'Mystique', 'ChunSoft',\n",
       "       'Square EA', '20th Century Fox Video Games', 'Avanquest Software',\n",
       "       'Hudson Entertainment', 'Nordic Games', 'Men-A-Vision', 'Nobilis',\n",
       "       'Big Ben Interactive', 'Touchstone', 'Spike', 'Jester Interactive',\n",
       "       'Nippon Ichi Software', 'LEGO Media', 'Quest',\n",
       "       'Illusion Softworks', 'Tigervision', 'Funbox Media',\n",
       "       'Rocket Company', 'Metro 3D', 'Mattel Interactive', 'IE Institute',\n",
       "       'Rondomedia', 'Sony Computer Entertainment America',\n",
       "       'Universal Gamex', 'Ghostlight', 'Wizard Video Games',\n",
       "       'BMG Interactive Entertainment', 'PQube', 'Trion Worlds', 'Laguna',\n",
       "       'Ignition Entertainment', 'Takara', 'Kadokawa Shoten', 'Destineer',\n",
       "       'Enterbrain', 'Xseed Games', 'Imagineer',\n",
       "       'System 3 Arcade Software', 'CPG Products', 'Aruze Corp',\n",
       "       'Gamebridge', 'Midas Interactive Entertainment', 'Jaleco',\n",
       "       'Answer Software', 'XS Games', 'Activision Blizzard',\n",
       "       'Pack In Soft', 'Rebellion', 'Xplosiv', 'Ultravision',\n",
       "       'GameMill Entertainment', 'Wanadoo', 'NovaLogic', 'Telltale Games',\n",
       "       'Epoch', 'BAM! Entertainment', 'Knowledge Adventure', 'Mastiff',\n",
       "       'Tetris Online', 'Harmonix Music Systems', 'ESP', 'TYO',\n",
       "       'Telegames', 'Mud Duck Productions', 'Screenlife', 'Pioneer LDC',\n",
       "       'Magical Company', 'Mentor Interactive', 'Kemco',\n",
       "       'Human Entertainment', 'Avanquest', 'Data Age',\n",
       "       'Electronic Arts Victor', 'Black Bean Games', 'Jack of All Games',\n",
       "       '989 Sports', 'Takara Tomy', 'Media Rings', 'Elf', 'Kalypso Media',\n",
       "       'Starfish', 'Zushi Games', 'Jorudan', 'Destination Software, Inc',\n",
       "       'New', 'Brash Entertainment', 'ITT Family Games', 'PopCap Games',\n",
       "       'Home Entertainment Suppliers', 'Ackkstudios', 'Starpath Corp.',\n",
       "       'P2 Games', 'BPS', 'Gathering of Developers', 'NewKidCo',\n",
       "       'Storm City Games', 'CokeM Interactive', 'CBS Electronics',\n",
       "       'Magix', 'Marvelous Interactive', 'Nihon Falcom Corporation',\n",
       "       'Wargaming.net', 'Angel Studios', 'Arc System Works', 'Playmates',\n",
       "       'SNK Playmore', 'Hamster Corporation', 'From Software',\n",
       "       'Nippon Columbia', 'Nichibutsu', 'Little Orbit',\n",
       "       'Conspiracy Entertainment', 'DTP Entertainment', 'Hect',\n",
       "       'Mumbo Jumbo', 'Pacific Century Cyber Works', 'Indie Games',\n",
       "       'Liquid Games', 'NEC', 'Axela', 'ArtDink', 'Sunsoft', 'Gust',\n",
       "       'SNK', 'NEC Interchannel', 'FuRyu', 'Xing Entertainment',\n",
       "       'ValuSoft', 'Victor Interactive', 'Detn8 Games',\n",
       "       'American Softworks', 'Nordcurrent', 'Bomb', 'Falcom Corporation',\n",
       "       'AQ Interactive', 'CCP', 'Milestone S.r.l.', 'Sears',\n",
       "       'JoWood Productions', 'Seta Corporation', 'On Demand', 'NCS',\n",
       "       'Aspyr', 'Gremlin Interactive Ltd', 'Agatsuma Entertainment',\n",
       "       'Compile Heart', 'Culture Brain', 'Mad Catz', 'Shogakukan',\n",
       "       'Merscom LLC', 'Rebellion Developments', 'Nippon Telenet',\n",
       "       'TDK Core', 'bitComposer Games', 'Foreign Media Games', 'Astragon',\n",
       "       'SSI', 'Kadokawa Games', 'Idea Factory',\n",
       "       'Performance Designed Products', 'Asylum Entertainment',\n",
       "       'Core Design Ltd.', 'PlayV', 'UFO Interactive',\n",
       "       'Idea Factory International', 'Playlogic Game Factory',\n",
       "       'Essential Games', 'Adeline Software', 'Funcom',\n",
       "       'Panther Software', 'Blast! Entertainment Ltd', 'Game Life',\n",
       "       'DSI Games', 'Avalon Interactive', 'Popcorn Arcade',\n",
       "       'Neko Entertainment', 'Vir2L Studios', 'Aques', 'Syscom',\n",
       "       'White Park Bay Software', 'System 3', 'Vatical Entertainment',\n",
       "       'Daedalic', 'EA Games', 'Media Factory', 'Vic Tokai',\n",
       "       'The Adventure Company', 'Game Arts', 'Broccoli', 'Acquire',\n",
       "       'General Entertainment', 'Excalibur Publishing', 'Imadio',\n",
       "       'Swing! Entertainment', 'Sony Music Entertainment', 'Aqua Plus',\n",
       "       'Paradox Interactive', 'Hip Interactive',\n",
       "       'DreamCatcher Interactive', 'Tripwire Interactive', 'Sting',\n",
       "       'Yacht Club Games', 'SCS Software', 'Bigben Interactive',\n",
       "       'Havas Interactive', 'Slitherine Software', 'Graffiti', 'Funsta',\n",
       "       'Telstar', 'U.S. Gold', 'DreamWorks Interactive',\n",
       "       'Data Design Interactive', 'MTO', 'DHM Interactive', 'FunSoft',\n",
       "       'SPS', 'Bohemia Interactive', 'Reef Entertainment',\n",
       "       'Tru Blu Entertainment', 'Moss', 'T&E Soft', 'O-Games',\n",
       "       'Aksys Games', 'NDA Productions', 'Data East',\n",
       "       'Time Warner Interactive', 'Gainax Network Systems', 'Daito',\n",
       "       'O3 Entertainment', 'Gameloft', 'Xicat Interactive',\n",
       "       'Simon & Schuster Interactive', 'Valcon Games', 'PopTop Software',\n",
       "       'TOHO', 'HMH Interactive', '5pb', 'Cave',\n",
       "       'CDV Software Entertainment', 'Microids', 'PM Studios', 'Paon',\n",
       "       'Micro Cabin', 'GameTek', 'Benesse', 'Type-Moon',\n",
       "       'Enjoy Gaming ltd.', 'Asmik Corp', 'Interplay Productions',\n",
       "       'Asmik Ace Entertainment', 'inXile Entertainment', 'Image Epoch',\n",
       "       'Phantom EFX', 'Evolved Games', 'responDESIGN',\n",
       "       'Culture Publishers', 'Griffin International', 'Hackberry',\n",
       "       'Hearty Robin', 'Nippon Amuse', 'Origin Systems', 'Seventh Chord',\n",
       "       'Mitsui', 'Milestone', 'Abylight', 'Flight-Plan', 'Glams', 'Locus',\n",
       "       'Warp', 'Daedalic Entertainment', 'Alternative Software',\n",
       "       'Myelin Media', 'Mercury Games', 'Irem Software Engineering',\n",
       "       'Sunrise Interactive', 'Elite', 'Evolution Games', 'Tivola',\n",
       "       'Global A Entertainment', 'Edia', 'Athena', 'Aria', 'Gamecock',\n",
       "       'Tommo', 'Altron', 'Happinet', 'iWin', 'Media Works', 'Fortyfive',\n",
       "       'Revolution Software', 'Imax', 'Crimson Cow', '10TACLE Studios',\n",
       "       'Groove Games', 'Pack-In-Video', 'Insomniac Games',\n",
       "       'Ascaron Entertainment GmbH', 'Asgard', 'Ecole', 'Yumedia',\n",
       "       'Phenomedia', 'HAL Laboratory', 'Grand Prix Games', 'DigiCube',\n",
       "       'Creative Core', 'Kaga Create', 'WayForward Technologies',\n",
       "       'LSP Games', 'ASCII Media Works', 'Coconuts Japan', 'Arika',\n",
       "       'Ertain', 'Marvel Entertainment', 'Prototype',\n",
       "       'TopWare Interactive', 'Phantagram', '1C Company',\n",
       "       'The Learning Company', 'TechnoSoft', 'Vap', 'Misawa', 'Tradewest',\n",
       "       'Team17 Software', 'Yeti', 'Pow', 'Navarre Corp', 'MediaQuest',\n",
       "       'Max Five', 'Comfort', 'Monte Christo Multimedia', 'Pony Canyon',\n",
       "       'Riverhillsoft', 'Summitsoft', 'Milestone S.r.l', 'Playmore',\n",
       "       'MLB.com', 'Kool Kizz', 'Flashpoint Games', '49Games',\n",
       "       'Legacy Interactive', 'Alawar Entertainment', 'CyberFront',\n",
       "       'Cloud Imperium Games Corporation', 'Societa',\n",
       "       'Virtual Play Games', 'Interchannel', 'Sonnet', 'Experience Inc.',\n",
       "       'Zenrin', 'Iceberg Interactive', 'Ivolgamus', '2D Boy',\n",
       "       'MC2 Entertainment', 'Kando Games', 'Just Flight', 'Office Create',\n",
       "       'Mamba Games', 'Fields', 'Princess Soft', 'Maximum Family Games',\n",
       "       'Berkeley', 'Fuji', 'Dusenberry Martin Racing', 'imageepoch Inc.',\n",
       "       'Big Fish Games', 'Her Interactive', 'Kamui', 'ASK',\n",
       "       'Headup Games', 'KSS', 'Cygames', 'KID', 'Quinrose', 'Sunflowers',\n",
       "       'dramatic create', 'TGL', 'Encore', 'Extreme Entertainment Group',\n",
       "       'Intergrow', 'G.Rev', 'Sweets', 'Kokopeli Digital Studios',\n",
       "       'Number None', 'Nexon', 'id Software', 'BushiRoad', 'Tryfirst',\n",
       "       'Strategy First', '7G//AMES', 'GN Software', \"Yuke's\",\n",
       "       'Easy Interactive', 'Licensed 4U', 'FuRyu Corporation',\n",
       "       'Lexicon Entertainment', 'Paon Corporation', 'Kids Station', 'GOA',\n",
       "       'Graphsim Entertainment', 'King Records', 'Introversion Software',\n",
       "       'Minato Station', 'Devolver Digital', 'Blue Byte', 'Gaga',\n",
       "       'Yamasa Entertainment', 'Plenty', 'Views', 'fonfun', 'NetRevo',\n",
       "       'Codemasters Online', 'Quintet', 'Phoenix Games', 'Dorart',\n",
       "       'Marvelous Games', 'Focus Multimedia', 'Imageworks',\n",
       "       'Karin Entertainment', 'Aerosoft', 'Technos Japan Corporation',\n",
       "       'Gakken', 'Mirai Shounen', 'Datam Polystar', 'Saurus', 'HuneX',\n",
       "       'Revolution (Japan)', 'Giza10', 'Visco', 'Alvion', 'Mycom', 'Giga',\n",
       "       'Warashi', 'System Soft', 'Sold Out', 'Lighthouse Interactive',\n",
       "       'Masque Publishing', 'RED Entertainment', 'Michaelsoft',\n",
       "       'Media Entertainment', 'New World Computing', 'Genterprise',\n",
       "       'Interworks Unlimited, Inc.', 'Boost On', 'Stainless Games',\n",
       "       'EON Digital Entertainment', 'Epic Games', 'Naxat Soft',\n",
       "       'Ascaron Entertainment', 'Piacci', 'Nitroplus',\n",
       "       'Paradox Development', 'Otomate', 'Ongakukan', 'Commseed',\n",
       "       'Inti Creates', 'Takuyo', 'Interchannel-Holon', 'Rain Games',\n",
       "       'UIG Entertainment'], dtype=object)"
      ]
     },
     "execution_count": 7,
     "metadata": {},
     "output_type": "execute_result"
    }
   ],
   "source": [
    "# fill NaN values\n",
    "vga['Publisher'] = vga['Publisher'].fillna('Missing') \n",
    "vga['Publisher'].unique()"
   ]
  },
  {
   "cell_type": "code",
   "execution_count": 8,
   "id": "010ca134",
   "metadata": {
    "scrolled": true
   },
   "outputs": [
    {
     "data": {
      "text/plain": [
       "Rank              int64\n",
       "Name             object\n",
       "Platform         object\n",
       "Year            float64\n",
       "Genre            object\n",
       "Publisher        object\n",
       "NA_Sales        float64\n",
       "EU_Sales        float64\n",
       "JP_Sales        float64\n",
       "Other_Sales     float64\n",
       "Global_Sales    float64\n",
       "dtype: object"
      ]
     },
     "execution_count": 8,
     "metadata": {},
     "output_type": "execute_result"
    }
   ],
   "source": [
    "# dtypes \n",
    "vga.dtypes"
   ]
  },
  {
   "cell_type": "code",
   "execution_count": 9,
   "id": "45bd84fd",
   "metadata": {
    "scrolled": true
   },
   "outputs": [
    {
     "name": "stdout",
     "output_type": "stream",
     "text": [
      "Need for Speed: Most Wanted         12\n",
      "Ratatouille                          9\n",
      "Madden NFL 07                        9\n",
      "FIFA 14                              9\n",
      "LEGO Marvel Super Heroes             9\n",
      "                                    ..\n",
      "Men of War: Vietnam                  1\n",
      "San Goku Shi DS 2                    1\n",
      "Forza Motorsport 5                   1\n",
      "Diablo II                            1\n",
      "Scarface: Money. Power. Respect.     1\n",
      "Name: Name, Length: 11493, dtype: int64\n",
      "DS      2163\n",
      "PS2     2161\n",
      "PS3     1329\n",
      "Wii     1325\n",
      "X360    1265\n",
      "PSP     1213\n",
      "PS      1196\n",
      "PC       960\n",
      "XB       824\n",
      "GBA      822\n",
      "GC       556\n",
      "3DS      509\n",
      "PSV      413\n",
      "PS4      336\n",
      "N64      319\n",
      "SNES     239\n",
      "XOne     213\n",
      "SAT      173\n",
      "WiiU     143\n",
      "2600     133\n",
      "NES       98\n",
      "GB        98\n",
      "DC        52\n",
      "GEN       27\n",
      "NG        12\n",
      "SCD        6\n",
      "WS         6\n",
      "3DO        3\n",
      "TG16       2\n",
      "GG         1\n",
      "PCFX       1\n",
      "Name: Platform, dtype: int64\n",
      "Action          3316\n",
      "Sports          2346\n",
      "Misc            1739\n",
      "Role-Playing    1488\n",
      "Shooter         1310\n",
      "Adventure       1286\n",
      "Racing          1249\n",
      "Platform         886\n",
      "Simulation       867\n",
      "Fighting         848\n",
      "Strategy         681\n",
      "Puzzle           582\n",
      "Name: Genre, dtype: int64\n",
      "Electronic Arts                 1351\n",
      "Activision                       975\n",
      "Namco Bandai Games               932\n",
      "Ubisoft                          921\n",
      "Konami Digital Entertainment     832\n",
      "                                ... \n",
      "Imadio                             1\n",
      "Visco                              1\n",
      "GOA                                1\n",
      "PopTop Software                    1\n",
      "Merscom LLC                        1\n",
      "Name: Publisher, Length: 579, dtype: int64\n"
     ]
    }
   ],
   "source": [
    "# categorical values\n",
    "cat_feat = [feature for feature in vga.columns if vga[feature].dtypes == 'O']\n",
    "\n",
    "# value counts of categorical feature unique values \n",
    "for feature in cat_feat: \n",
    "    df=vga.copy()\n",
    "    val_count = df[feature].value_counts()\n",
    "    print(val_count)"
   ]
  },
  {
   "cell_type": "markdown",
   "id": "8f5ea1f5",
   "metadata": {},
   "source": [
    "### Three out of the Four Categorical features have high cardinality"
   ]
  },
  {
   "cell_type": "code",
   "execution_count": 10,
   "id": "27d9fbf0",
   "metadata": {},
   "outputs": [
    {
     "data": {
      "image/png": "[encoded data removed]",
      "text/plain": [
       "<Figure size 576x360 with 1 Axes>"
      ]
     },
     "metadata": {},
     "output_type": "display_data"
    },
    {
     "data": {
      "image/png": "[encoded data removed]",
      "text/plain": [
       "<Figure size 576x360 with 1 Axes>"
      ]
     },
     "metadata": {},
     "output_type": "display_data"
    }
   ],
   "source": [
    "# categorical features\n",
    "cat_feat_low_cardinality = [feature for feature in vga.columns if vga[feature].dtypes == 'O' and feature not in ['Name', 'Publisher']]  \n",
    "\n",
    "# plot the relationship betweeen categorical features and Global sales \n",
    "for feature in cat_feat_low_cardinality: \n",
    "    df=vga.copy()\n",
    "    plt.figure(figsize=(8, 5))\n",
    "    df.groupby(feature)['Global_Sales'].median().plot.bar()\n",
    "    plt.ylabel('Global Sales')\n",
    "    plt.title('Global_Sales')\n",
    "    plt.show()"
   ]
  },
  {
   "cell_type": "markdown",
   "id": "80ad619c",
   "metadata": {},
   "source": [
    "### Numerical Variables "
   ]
  },
  {
   "cell_type": "code",
   "execution_count": 11,
   "id": "f0346998",
   "metadata": {},
   "outputs": [
    {
     "data": {
      "text/plain": [
       "['NA_Sales', 'EU_Sales', 'JP_Sales', 'Other_Sales', 'Global_Sales']"
      ]
     },
     "execution_count": 11,
     "metadata": {},
     "output_type": "execute_result"
    }
   ],
   "source": [
    "# numerical features \n",
    "num_feat = [feature for feature in vga.columns if vga[feature].dtypes != 'O' \n",
    "            and feature not in ['Rank','Year']]\n",
    "num_feat"
   ]
  },
  {
   "cell_type": "code",
   "execution_count": 12,
   "id": "9c25f7a3",
   "metadata": {},
   "outputs": [
    {
     "data": {
      "image/png": "[encoded data removed]",
      "text/plain": [
       "<Figure size 576x360 with 1 Axes>"
      ]
     },
     "metadata": {},
     "output_type": "display_data"
    },
    {
     "data": {
      "image/png": "[encoded data removed]",
      "text/plain": [
       "<Figure size 576x360 with 1 Axes>"
      ]
     },
     "metadata": {},
     "output_type": "display_data"
    },
    {
     "data": {
      "image/png": "[encoded data removed]",
      "text/plain": [
       "<Figure size 576x360 with 1 Axes>"
      ]
     },
     "metadata": {},
     "output_type": "display_data"
    },
    {
     "data": {
      "image/png": "[encoded data removed]",
      "text/plain": [
       "<Figure size 576x360 with 1 Axes>"
      ]
     },
     "metadata": {},
     "output_type": "display_data"
    },
    {
     "data": {
      "image/png": "[encoded data removed]",
      "text/plain": [
       "<Figure size 576x360 with 1 Axes>"
      ]
     },
     "metadata": {},
     "output_type": "display_data"
    }
   ],
   "source": [
    "# histogram distribution of numerical features \n",
    "for feature in num_feat: \n",
    "    # copy the dataframe \n",
    "    plt.figure(figsize=(8, 5))\n",
    "    plt.hist(df[feature])\n",
    "    plt.xlabel(feature)\n",
    "    plt.show()"
   ]
  },
  {
   "cell_type": "markdown",
   "id": "de72379e",
   "metadata": {},
   "source": [
    "### All the Numerical variables does not follow a normal/Gaussian distribution. So we will perform a logarithm transformation."
   ]
  },
  {
   "cell_type": "code",
   "execution_count": 13,
   "id": "69b9e112",
   "metadata": {},
   "outputs": [
    {
     "name": "stderr",
     "output_type": "stream",
     "text": [
      "C:\\Users\\OJO Timilehin\\anaconda3\\lib\\site-packages\\pandas\\core\\arraylike.py:358: RuntimeWarning: divide by zero encountered in log\n",
      "  result = getattr(ufunc, method)(*inputs, **kwargs)\n"
     ]
    },
    {
     "data": {
      "image/png": "[encoded data removed]",
      "text/plain": [
       "<Figure size 576x360 with 1 Axes>"
      ]
     },
     "metadata": {},
     "output_type": "display_data"
    },
    {
     "data": {
      "image/png": "[encoded data removed]",
      "text/plain": [
       "<Figure size 576x360 with 1 Axes>"
      ]
     },
     "metadata": {},
     "output_type": "display_data"
    },
    {
     "data": {
      "image/png": "[encoded data removed]",
      "text/plain": [
       "<Figure size 576x360 with 1 Axes>"
      ]
     },
     "metadata": {},
     "output_type": "display_data"
    },
    {
     "data": {
      "image/png": "[encoded data removed]",
      "text/plain": [
       "<Figure size 576x360 with 1 Axes>"
      ]
     },
     "metadata": {},
     "output_type": "display_data"
    },
    {
     "data": {
      "image/png": "[encoded data removed]",
      "text/plain": [
       "<Figure size 576x360 with 1 Axes>"
      ]
     },
     "metadata": {},
     "output_type": "display_data"
    }
   ],
   "source": [
    "# logarithm transformation \n",
    "for feature in num_feat: \n",
    "    # copy the dataframe \n",
    "    df = vga.copy()\n",
    "    df[feature] = np.log(df[feature])\n",
    "    # plot the scatter plot with the target variable \n",
    "    plt.figure(figsize=(8, 5))\n",
    "    plt.scatter(df[feature], df['Global_Sales'])\n",
    "    plt.title('Global Sales vs '+feature) \n",
    "    plt.xlabel(feature)\n",
    "    plt.ylabel('Global Sales')\n",
    "    plt.show()"
   ]
  },
  {
   "cell_type": "markdown",
   "id": "a0bf7017",
   "metadata": {},
   "source": [
    "### Outliers"
   ]
  },
  {
   "cell_type": "code",
   "execution_count": 14,
   "id": "2c966b3f",
   "metadata": {},
   "outputs": [
    {
     "name": "stderr",
     "output_type": "stream",
     "text": [
      "C:\\Users\\OJO Timilehin\\anaconda3\\lib\\site-packages\\pandas\\core\\arraylike.py:358: RuntimeWarning: invalid value encountered in log\n",
      "  result = getattr(ufunc, method)(*inputs, **kwargs)\n"
     ]
    },
    {
     "data": {
      "image/png": "[encoded data removed]",
      "text/plain": [
       "<Figure size 576x360 with 1 Axes>"
      ]
     },
     "metadata": {},
     "output_type": "display_data"
    },
    {
     "name": "stderr",
     "output_type": "stream",
     "text": [
      "C:\\Users\\OJO Timilehin\\anaconda3\\lib\\site-packages\\pandas\\core\\arraylike.py:358: RuntimeWarning: divide by zero encountered in log\n",
      "  result = getattr(ufunc, method)(*inputs, **kwargs)\n",
      "C:\\Users\\OJO Timilehin\\anaconda3\\lib\\site-packages\\pandas\\core\\arraylike.py:358: RuntimeWarning: invalid value encountered in log\n",
      "  result = getattr(ufunc, method)(*inputs, **kwargs)\n"
     ]
    },
    {
     "data": {
      "image/png": "[encoded data removed]",
      "text/plain": [
       "<Figure size 576x360 with 1 Axes>"
      ]
     },
     "metadata": {},
     "output_type": "display_data"
    },
    {
     "name": "stderr",
     "output_type": "stream",
     "text": [
      "C:\\Users\\OJO Timilehin\\anaconda3\\lib\\site-packages\\pandas\\core\\arraylike.py:358: RuntimeWarning: divide by zero encountered in log\n",
      "  result = getattr(ufunc, method)(*inputs, **kwargs)\n",
      "C:\\Users\\OJO Timilehin\\anaconda3\\lib\\site-packages\\pandas\\core\\arraylike.py:358: RuntimeWarning: invalid value encountered in log\n",
      "  result = getattr(ufunc, method)(*inputs, **kwargs)\n"
     ]
    },
    {
     "data": {
      "image/png": "[encoded data removed]",
      "text/plain": [
       "<Figure size 576x360 with 1 Axes>"
      ]
     },
     "metadata": {},
     "output_type": "display_data"
    },
    {
     "name": "stderr",
     "output_type": "stream",
     "text": [
      "C:\\Users\\OJO Timilehin\\anaconda3\\lib\\site-packages\\pandas\\core\\arraylike.py:358: RuntimeWarning: divide by zero encountered in log\n",
      "  result = getattr(ufunc, method)(*inputs, **kwargs)\n",
      "C:\\Users\\OJO Timilehin\\anaconda3\\lib\\site-packages\\pandas\\core\\arraylike.py:358: RuntimeWarning: invalid value encountered in log\n",
      "  result = getattr(ufunc, method)(*inputs, **kwargs)\n"
     ]
    },
    {
     "data": {
      "image/png": "[encoded data removed]",
      "text/plain": [
       "<Figure size 576x360 with 1 Axes>"
      ]
     },
     "metadata": {},
     "output_type": "display_data"
    },
    {
     "name": "stderr",
     "output_type": "stream",
     "text": [
      "C:\\Users\\OJO Timilehin\\anaconda3\\lib\\site-packages\\pandas\\core\\arraylike.py:358: RuntimeWarning: divide by zero encountered in log\n",
      "  result = getattr(ufunc, method)(*inputs, **kwargs)\n",
      "C:\\Users\\OJO Timilehin\\anaconda3\\lib\\site-packages\\pandas\\core\\arraylike.py:358: RuntimeWarning: invalid value encountered in log\n",
      "  result = getattr(ufunc, method)(*inputs, **kwargs)\n"
     ]
    },
    {
     "data": {
      "image/png": "[encoded data removed]",
      "text/plain": [
       "<Figure size 576x360 with 1 Axes>"
      ]
     },
     "metadata": {},
     "output_type": "display_data"
    }
   ],
   "source": [
    "# outliers  \n",
    "for feature in num_feat: \n",
    "    # copy the dataframe \n",
    "    df = vga.copy()\n",
    "    df[feature] = np.log(df[feature])\n",
    "    # plot the scatter plot with the target variable \n",
    "    plt.figure(figsize=(8, 5)) \n",
    "    df[feature] = np.log(df[feature])\n",
    "    df.boxplot(feature)\n",
    "    plt.title(feature)\n",
    "    plt.ylabel('Frequency')\n",
    "    plt.show()"
   ]
  },
  {
   "cell_type": "markdown",
   "id": "ed722ca2",
   "metadata": {},
   "source": [
    "### Temporal Variables "
   ]
  },
  {
   "cell_type": "code",
   "execution_count": 15,
   "id": "f5cb2ccf",
   "metadata": {},
   "outputs": [
    {
     "data": {
      "text/plain": [
       "['Year']"
      ]
     },
     "execution_count": 15,
     "metadata": {},
     "output_type": "execute_result"
    }
   ],
   "source": [
    "temp_feat = [feature for feature in vga.columns if feature == 'Year']\n",
    "temp_feat"
   ]
  },
  {
   "cell_type": "code",
   "execution_count": 16,
   "id": "11badfd8",
   "metadata": {},
   "outputs": [
    {
     "data": {
      "text/plain": [
       "39"
      ]
     },
     "execution_count": 16,
     "metadata": {},
     "output_type": "execute_result"
    }
   ],
   "source": [
    "# Number of unique values\n",
    "vga['Year'].nunique()"
   ]
  },
  {
   "cell_type": "code",
   "execution_count": 17,
   "id": "62b5e389",
   "metadata": {},
   "outputs": [
    {
     "data": {
      "text/plain": [
       "Text(0.5, 1.0, 'Total Sales by Year')"
      ]
     },
     "execution_count": 17,
     "metadata": {},
     "output_type": "execute_result"
    },
    {
     "data": {
      "image/png": "[encoded data removed]",
      "text/plain": [
       "<Figure size 1440x576 with 1 Axes>"
      ]
     },
     "metadata": {},
     "output_type": "display_data"
    }
   ],
   "source": [
    "# sum of sales by year\n",
    "tot_sales_by_year = vga.groupby('Year')['Global_Sales'].sum()\n",
    "\n",
    "# plot the bar chart\n",
    "plt.figure(figsize = (20, 8))\n",
    "tot_sales_by_year.plot.bar() \n",
    "plt.ylabel('Total Sales')\n",
    "plt.title('Total Sales by Year')"
   ]
  },
  {
   "cell_type": "markdown",
   "id": "d9ff67cb",
   "metadata": {},
   "source": [
    "## Feature Engineering \n",
    "\n",
    "### Categorical Values with High cardinality"
   ]
  },
  {
   "cell_type": "code",
   "execution_count": 18,
   "id": "e1e77ec8",
   "metadata": {},
   "outputs": [
    {
     "data": {
      "text/html": [
       "<div>\n",
       "<style scoped>\n",
       "    .dataframe tbody tr th:only-of-type {\n",
       "        vertical-align: middle;\n",
       "    }\n",
       "\n",
       "    .dataframe tbody tr th {\n",
       "        vertical-align: top;\n",
       "    }\n",
       "\n",
       "    .dataframe thead th {\n",
       "        text-align: right;\n",
       "    }\n",
       "</style>\n",
       "<table border=\"1\" class=\"dataframe\">\n",
       "  <thead>\n",
       "    <tr style=\"text-align: right;\">\n",
       "      <th></th>\n",
       "      <th>Rank</th>\n",
       "      <th>Name</th>\n",
       "      <th>Platform</th>\n",
       "      <th>Year</th>\n",
       "      <th>Genre</th>\n",
       "      <th>Publisher</th>\n",
       "      <th>NA_Sales</th>\n",
       "      <th>EU_Sales</th>\n",
       "      <th>JP_Sales</th>\n",
       "      <th>Other_Sales</th>\n",
       "      <th>Global_Sales</th>\n",
       "    </tr>\n",
       "  </thead>\n",
       "  <tbody>\n",
       "    <tr>\n",
       "      <th>0</th>\n",
       "      <td>1</td>\n",
       "      <td>Wii Sports</td>\n",
       "      <td>Wii</td>\n",
       "      <td>2006.0</td>\n",
       "      <td>Sports</td>\n",
       "      <td>Nintendo</td>\n",
       "      <td>41.49</td>\n",
       "      <td>29.02</td>\n",
       "      <td>3.77</td>\n",
       "      <td>8.46</td>\n",
       "      <td>82.74</td>\n",
       "    </tr>\n",
       "    <tr>\n",
       "      <th>1</th>\n",
       "      <td>2</td>\n",
       "      <td>Super Mario Bros.</td>\n",
       "      <td>NES</td>\n",
       "      <td>1985.0</td>\n",
       "      <td>Platform</td>\n",
       "      <td>Nintendo</td>\n",
       "      <td>29.08</td>\n",
       "      <td>3.58</td>\n",
       "      <td>6.81</td>\n",
       "      <td>0.77</td>\n",
       "      <td>40.24</td>\n",
       "    </tr>\n",
       "    <tr>\n",
       "      <th>2</th>\n",
       "      <td>3</td>\n",
       "      <td>Mario Kart Wii</td>\n",
       "      <td>Wii</td>\n",
       "      <td>2008.0</td>\n",
       "      <td>Racing</td>\n",
       "      <td>Nintendo</td>\n",
       "      <td>15.85</td>\n",
       "      <td>12.88</td>\n",
       "      <td>3.79</td>\n",
       "      <td>3.31</td>\n",
       "      <td>35.82</td>\n",
       "    </tr>\n",
       "    <tr>\n",
       "      <th>3</th>\n",
       "      <td>4</td>\n",
       "      <td>Wii Sports Resort</td>\n",
       "      <td>Wii</td>\n",
       "      <td>2009.0</td>\n",
       "      <td>Sports</td>\n",
       "      <td>Nintendo</td>\n",
       "      <td>15.75</td>\n",
       "      <td>11.01</td>\n",
       "      <td>3.28</td>\n",
       "      <td>2.96</td>\n",
       "      <td>33.00</td>\n",
       "    </tr>\n",
       "    <tr>\n",
       "      <th>4</th>\n",
       "      <td>5</td>\n",
       "      <td>Pokemon Red/Pokemon Blue</td>\n",
       "      <td>GB</td>\n",
       "      <td>1996.0</td>\n",
       "      <td>Role-Playing</td>\n",
       "      <td>Nintendo</td>\n",
       "      <td>11.27</td>\n",
       "      <td>8.89</td>\n",
       "      <td>10.22</td>\n",
       "      <td>1.00</td>\n",
       "      <td>31.37</td>\n",
       "    </tr>\n",
       "  </tbody>\n",
       "</table>\n",
       "</div>"
      ],
      "text/plain": [
       "   Rank                      Name Platform    Year         Genre Publisher  \\\n",
       "0     1                Wii Sports      Wii  2006.0        Sports  Nintendo   \n",
       "1     2         Super Mario Bros.      NES  1985.0      Platform  Nintendo   \n",
       "2     3            Mario Kart Wii      Wii  2008.0        Racing  Nintendo   \n",
       "3     4         Wii Sports Resort      Wii  2009.0        Sports  Nintendo   \n",
       "4     5  Pokemon Red/Pokemon Blue       GB  1996.0  Role-Playing  Nintendo   \n",
       "\n",
       "   NA_Sales  EU_Sales  JP_Sales  Other_Sales  Global_Sales  \n",
       "0     41.49     29.02      3.77         8.46         82.74  \n",
       "1     29.08      3.58      6.81         0.77         40.24  \n",
       "2     15.85     12.88      3.79         3.31         35.82  \n",
       "3     15.75     11.01      3.28         2.96         33.00  \n",
       "4     11.27      8.89     10.22         1.00         31.37  "
      ]
     },
     "execution_count": 18,
     "metadata": {},
     "output_type": "execute_result"
    }
   ],
   "source": [
    "vga.head()"
   ]
  },
  {
   "cell_type": "code",
   "execution_count": 19,
   "id": "b249c825",
   "metadata": {},
   "outputs": [
    {
     "name": "stdout",
     "output_type": "stream",
     "text": [
      "Platform has  31  unique values\n",
      "Genre has  12  unique values\n",
      "Publisher has  579  unique values\n"
     ]
    }
   ],
   "source": [
    "for feature in ['Platform', 'Genre', 'Publisher']: \n",
    "    print(feature, 'has ', vga[feature].nunique(), ' unique values')"
   ]
  },
  {
   "cell_type": "code",
   "execution_count": 20,
   "id": "3a50f6e1",
   "metadata": {},
   "outputs": [],
   "source": [
    "# replace Categorical unique values less than 1% with Rare Value\n",
    "for feature in ['Platform', 'Genre', 'Publisher']: \n",
    "    gsg = vga.groupby(feature)[feature].count()/len(vga)\n",
    "    temp_df = gsg[gsg > 0.01].index\n",
    "    # replace \n",
    "    vga[feature] = np.where(vga[feature].isin(temp_df), vga[feature], 'Rare Value')"
   ]
  },
  {
   "cell_type": "code",
   "execution_count": null,
   "id": "03a09330",
   "metadata": {},
   "outputs": [],
   "source": []
  },
  {
   "cell_type": "code",
   "execution_count": 21,
   "id": "8e30822f",
   "metadata": {},
   "outputs": [
    {
     "name": "stdout",
     "output_type": "stream",
     "text": [
      "Platform  now have  19  unique values\n",
      "Genre  now have  12  unique values\n",
      "Publisher  now have  24  unique values\n"
     ]
    }
   ],
   "source": [
    "for feature in ['Platform', 'Genre', 'Publisher']: \n",
    "    print(feature, ' now have ', vga[feature].nunique(), ' unique values')"
   ]
  },
  {
   "cell_type": "markdown",
   "id": "a24eb00c",
   "metadata": {},
   "source": [
    "### The High Cardinal Categorical variables now have a reduce number of unique values"
   ]
  },
  {
   "cell_type": "code",
   "execution_count": 22,
   "id": "01a75f2a",
   "metadata": {},
   "outputs": [],
   "source": [
    "# map the categorical unique variables with their value counts\n",
    "for feature in ['Platform', 'Genre', 'Publisher']: \n",
    "    map_dict = df[feature].value_counts().to_dict() \n",
    "    vga[feature] = df[feature].map(map_dict)"
   ]
  },
  {
   "cell_type": "markdown",
   "id": "5b5391ea",
   "metadata": {},
   "source": [
    "### I replaced the categorical unique variables with thgeir respective unique value counts"
   ]
  },
  {
   "cell_type": "code",
   "execution_count": 23,
   "id": "ffd0647a",
   "metadata": {},
   "outputs": [
    {
     "data": {
      "text/html": [
       "<div>\n",
       "<style scoped>\n",
       "    .dataframe tbody tr th:only-of-type {\n",
       "        vertical-align: middle;\n",
       "    }\n",
       "\n",
       "    .dataframe tbody tr th {\n",
       "        vertical-align: top;\n",
       "    }\n",
       "\n",
       "    .dataframe thead th {\n",
       "        text-align: right;\n",
       "    }\n",
       "</style>\n",
       "<table border=\"1\" class=\"dataframe\">\n",
       "  <thead>\n",
       "    <tr style=\"text-align: right;\">\n",
       "      <th></th>\n",
       "      <th>Rank</th>\n",
       "      <th>Name</th>\n",
       "      <th>Platform</th>\n",
       "      <th>Year</th>\n",
       "      <th>Genre</th>\n",
       "      <th>Publisher</th>\n",
       "      <th>NA_Sales</th>\n",
       "      <th>EU_Sales</th>\n",
       "      <th>JP_Sales</th>\n",
       "      <th>Other_Sales</th>\n",
       "      <th>Global_Sales</th>\n",
       "    </tr>\n",
       "  </thead>\n",
       "  <tbody>\n",
       "    <tr>\n",
       "      <th>0</th>\n",
       "      <td>1</td>\n",
       "      <td>Wii Sports</td>\n",
       "      <td>1325</td>\n",
       "      <td>2006.0</td>\n",
       "      <td>2346</td>\n",
       "      <td>703</td>\n",
       "      <td>41.49</td>\n",
       "      <td>29.02</td>\n",
       "      <td>3.77</td>\n",
       "      <td>8.46</td>\n",
       "      <td>82.74</td>\n",
       "    </tr>\n",
       "    <tr>\n",
       "      <th>1</th>\n",
       "      <td>2</td>\n",
       "      <td>Super Mario Bros.</td>\n",
       "      <td>98</td>\n",
       "      <td>1985.0</td>\n",
       "      <td>886</td>\n",
       "      <td>703</td>\n",
       "      <td>29.08</td>\n",
       "      <td>3.58</td>\n",
       "      <td>6.81</td>\n",
       "      <td>0.77</td>\n",
       "      <td>40.24</td>\n",
       "    </tr>\n",
       "    <tr>\n",
       "      <th>2</th>\n",
       "      <td>3</td>\n",
       "      <td>Mario Kart Wii</td>\n",
       "      <td>1325</td>\n",
       "      <td>2008.0</td>\n",
       "      <td>1249</td>\n",
       "      <td>703</td>\n",
       "      <td>15.85</td>\n",
       "      <td>12.88</td>\n",
       "      <td>3.79</td>\n",
       "      <td>3.31</td>\n",
       "      <td>35.82</td>\n",
       "    </tr>\n",
       "    <tr>\n",
       "      <th>3</th>\n",
       "      <td>4</td>\n",
       "      <td>Wii Sports Resort</td>\n",
       "      <td>1325</td>\n",
       "      <td>2009.0</td>\n",
       "      <td>2346</td>\n",
       "      <td>703</td>\n",
       "      <td>15.75</td>\n",
       "      <td>11.01</td>\n",
       "      <td>3.28</td>\n",
       "      <td>2.96</td>\n",
       "      <td>33.00</td>\n",
       "    </tr>\n",
       "    <tr>\n",
       "      <th>4</th>\n",
       "      <td>5</td>\n",
       "      <td>Pokemon Red/Pokemon Blue</td>\n",
       "      <td>98</td>\n",
       "      <td>1996.0</td>\n",
       "      <td>1488</td>\n",
       "      <td>703</td>\n",
       "      <td>11.27</td>\n",
       "      <td>8.89</td>\n",
       "      <td>10.22</td>\n",
       "      <td>1.00</td>\n",
       "      <td>31.37</td>\n",
       "    </tr>\n",
       "  </tbody>\n",
       "</table>\n",
       "</div>"
      ],
      "text/plain": [
       "   Rank                      Name  Platform    Year  Genre  Publisher  \\\n",
       "0     1                Wii Sports      1325  2006.0   2346        703   \n",
       "1     2         Super Mario Bros.        98  1985.0    886        703   \n",
       "2     3            Mario Kart Wii      1325  2008.0   1249        703   \n",
       "3     4         Wii Sports Resort      1325  2009.0   2346        703   \n",
       "4     5  Pokemon Red/Pokemon Blue        98  1996.0   1488        703   \n",
       "\n",
       "   NA_Sales  EU_Sales  JP_Sales  Other_Sales  Global_Sales  \n",
       "0     41.49     29.02      3.77         8.46         82.74  \n",
       "1     29.08      3.58      6.81         0.77         40.24  \n",
       "2     15.85     12.88      3.79         3.31         35.82  \n",
       "3     15.75     11.01      3.28         2.96         33.00  \n",
       "4     11.27      8.89     10.22         1.00         31.37  "
      ]
     },
     "execution_count": 23,
     "metadata": {},
     "output_type": "execute_result"
    }
   ],
   "source": [
    "vga.head()"
   ]
  },
  {
   "cell_type": "markdown",
   "id": "6880a62e",
   "metadata": {},
   "source": [
    "### Logarithm transformation of the Numerical Sales Variables"
   ]
  },
  {
   "cell_type": "code",
   "execution_count": 24,
   "id": "57cf72c8",
   "metadata": {},
   "outputs": [],
   "source": [
    "# variables with sales in the name \n",
    "sales_var = [feature for feature in vga.columns if 'Sales' in feature and feature != 'Global_Sales']"
   ]
  },
  {
   "cell_type": "code",
   "execution_count": 25,
   "id": "3336341a",
   "metadata": {},
   "outputs": [
    {
     "data": {
      "text/html": [
       "<div>\n",
       "<style scoped>\n",
       "    .dataframe tbody tr th:only-of-type {\n",
       "        vertical-align: middle;\n",
       "    }\n",
       "\n",
       "    .dataframe tbody tr th {\n",
       "        vertical-align: top;\n",
       "    }\n",
       "\n",
       "    .dataframe thead th {\n",
       "        text-align: right;\n",
       "    }\n",
       "</style>\n",
       "<table border=\"1\" class=\"dataframe\">\n",
       "  <thead>\n",
       "    <tr style=\"text-align: right;\">\n",
       "      <th></th>\n",
       "      <th>Rank</th>\n",
       "      <th>Name</th>\n",
       "      <th>Platform</th>\n",
       "      <th>Year</th>\n",
       "      <th>Genre</th>\n",
       "      <th>Publisher</th>\n",
       "      <th>NA_Sales</th>\n",
       "      <th>EU_Sales</th>\n",
       "      <th>JP_Sales</th>\n",
       "      <th>Other_Sales</th>\n",
       "      <th>Global_Sales</th>\n",
       "    </tr>\n",
       "  </thead>\n",
       "  <tbody>\n",
       "    <tr>\n",
       "      <th>0</th>\n",
       "      <td>1</td>\n",
       "      <td>Wii Sports</td>\n",
       "      <td>1325</td>\n",
       "      <td>2006.0</td>\n",
       "      <td>2346</td>\n",
       "      <td>703</td>\n",
       "      <td>41.49</td>\n",
       "      <td>29.02</td>\n",
       "      <td>3.77</td>\n",
       "      <td>8.46</td>\n",
       "      <td>82.74</td>\n",
       "    </tr>\n",
       "    <tr>\n",
       "      <th>1</th>\n",
       "      <td>2</td>\n",
       "      <td>Super Mario Bros.</td>\n",
       "      <td>98</td>\n",
       "      <td>1985.0</td>\n",
       "      <td>886</td>\n",
       "      <td>703</td>\n",
       "      <td>29.08</td>\n",
       "      <td>3.58</td>\n",
       "      <td>6.81</td>\n",
       "      <td>0.77</td>\n",
       "      <td>40.24</td>\n",
       "    </tr>\n",
       "    <tr>\n",
       "      <th>2</th>\n",
       "      <td>3</td>\n",
       "      <td>Mario Kart Wii</td>\n",
       "      <td>1325</td>\n",
       "      <td>2008.0</td>\n",
       "      <td>1249</td>\n",
       "      <td>703</td>\n",
       "      <td>15.85</td>\n",
       "      <td>12.88</td>\n",
       "      <td>3.79</td>\n",
       "      <td>3.31</td>\n",
       "      <td>35.82</td>\n",
       "    </tr>\n",
       "    <tr>\n",
       "      <th>3</th>\n",
       "      <td>4</td>\n",
       "      <td>Wii Sports Resort</td>\n",
       "      <td>1325</td>\n",
       "      <td>2009.0</td>\n",
       "      <td>2346</td>\n",
       "      <td>703</td>\n",
       "      <td>15.75</td>\n",
       "      <td>11.01</td>\n",
       "      <td>3.28</td>\n",
       "      <td>2.96</td>\n",
       "      <td>33.00</td>\n",
       "    </tr>\n",
       "    <tr>\n",
       "      <th>4</th>\n",
       "      <td>5</td>\n",
       "      <td>Pokemon Red/Pokemon Blue</td>\n",
       "      <td>98</td>\n",
       "      <td>1996.0</td>\n",
       "      <td>1488</td>\n",
       "      <td>703</td>\n",
       "      <td>11.27</td>\n",
       "      <td>8.89</td>\n",
       "      <td>10.22</td>\n",
       "      <td>1.00</td>\n",
       "      <td>31.37</td>\n",
       "    </tr>\n",
       "  </tbody>\n",
       "</table>\n",
       "</div>"
      ],
      "text/plain": [
       "   Rank                      Name  Platform    Year  Genre  Publisher  \\\n",
       "0     1                Wii Sports      1325  2006.0   2346        703   \n",
       "1     2         Super Mario Bros.        98  1985.0    886        703   \n",
       "2     3            Mario Kart Wii      1325  2008.0   1249        703   \n",
       "3     4         Wii Sports Resort      1325  2009.0   2346        703   \n",
       "4     5  Pokemon Red/Pokemon Blue        98  1996.0   1488        703   \n",
       "\n",
       "   NA_Sales  EU_Sales  JP_Sales  Other_Sales  Global_Sales  \n",
       "0     41.49     29.02      3.77         8.46         82.74  \n",
       "1     29.08      3.58      6.81         0.77         40.24  \n",
       "2     15.85     12.88      3.79         3.31         35.82  \n",
       "3     15.75     11.01      3.28         2.96         33.00  \n",
       "4     11.27      8.89     10.22         1.00         31.37  "
      ]
     },
     "execution_count": 25,
     "metadata": {},
     "output_type": "execute_result"
    }
   ],
   "source": [
    "vga.head()"
   ]
  },
  {
   "cell_type": "code",
   "execution_count": 26,
   "id": "25cf9e55",
   "metadata": {},
   "outputs": [],
   "source": [
    "# drop the Rank column \n",
    "vga.drop('Rank', axis = 1, inplace=True)"
   ]
  },
  {
   "cell_type": "code",
   "execution_count": 27,
   "id": "45cae3d0",
   "metadata": {},
   "outputs": [
    {
     "data": {
      "text/plain": [
       "11493"
      ]
     },
     "execution_count": 27,
     "metadata": {},
     "output_type": "execute_result"
    }
   ],
   "source": [
    "vga.Name.nunique()"
   ]
  },
  {
   "cell_type": "code",
   "execution_count": 28,
   "id": "1c9da1ae",
   "metadata": {},
   "outputs": [
    {
     "data": {
      "text/plain": [
       "0        70.51\n",
       "1        32.66\n",
       "2        28.73\n",
       "3        26.76\n",
       "4        20.16\n",
       "         ...  \n",
       "16593     0.01\n",
       "16594     0.01\n",
       "16595     0.00\n",
       "16596     0.01\n",
       "16597     0.01\n",
       "Length: 16598, dtype: float64"
      ]
     },
     "execution_count": 28,
     "metadata": {},
     "output_type": "execute_result"
    }
   ],
   "source": [
    "vga[['NA_Sales', 'EU_Sales']].sum(axis=1)"
   ]
  },
  {
   "cell_type": "code",
   "execution_count": 29,
   "id": "bdd0b26c",
   "metadata": {},
   "outputs": [
    {
     "data": {
      "text/html": [
       "<div>\n",
       "<style scoped>\n",
       "    .dataframe tbody tr th:only-of-type {\n",
       "        vertical-align: middle;\n",
       "    }\n",
       "\n",
       "    .dataframe tbody tr th {\n",
       "        vertical-align: top;\n",
       "    }\n",
       "\n",
       "    .dataframe thead th {\n",
       "        text-align: right;\n",
       "    }\n",
       "</style>\n",
       "<table border=\"1\" class=\"dataframe\">\n",
       "  <thead>\n",
       "    <tr style=\"text-align: right;\">\n",
       "      <th></th>\n",
       "      <th>Name</th>\n",
       "      <th>Platform</th>\n",
       "      <th>Year</th>\n",
       "      <th>Genre</th>\n",
       "      <th>Publisher</th>\n",
       "      <th>NA_Sales</th>\n",
       "      <th>EU_Sales</th>\n",
       "      <th>JP_Sales</th>\n",
       "      <th>Other_Sales</th>\n",
       "      <th>Global_Sales</th>\n",
       "    </tr>\n",
       "  </thead>\n",
       "  <tbody>\n",
       "    <tr>\n",
       "      <th>16593</th>\n",
       "      <td>Woody Woodpecker in Crazy Castle 5</td>\n",
       "      <td>822</td>\n",
       "      <td>2002.0</td>\n",
       "      <td>886</td>\n",
       "      <td>21</td>\n",
       "      <td>0.01</td>\n",
       "      <td>0.00</td>\n",
       "      <td>0.0</td>\n",
       "      <td>0.0</td>\n",
       "      <td>0.01</td>\n",
       "    </tr>\n",
       "    <tr>\n",
       "      <th>16594</th>\n",
       "      <td>Men in Black II: Alien Escape</td>\n",
       "      <td>556</td>\n",
       "      <td>2003.0</td>\n",
       "      <td>1310</td>\n",
       "      <td>62</td>\n",
       "      <td>0.01</td>\n",
       "      <td>0.00</td>\n",
       "      <td>0.0</td>\n",
       "      <td>0.0</td>\n",
       "      <td>0.01</td>\n",
       "    </tr>\n",
       "    <tr>\n",
       "      <th>16595</th>\n",
       "      <td>SCORE International Baja 1000: The Official Game</td>\n",
       "      <td>2161</td>\n",
       "      <td>2008.0</td>\n",
       "      <td>1249</td>\n",
       "      <td>975</td>\n",
       "      <td>0.00</td>\n",
       "      <td>0.00</td>\n",
       "      <td>0.0</td>\n",
       "      <td>0.0</td>\n",
       "      <td>0.01</td>\n",
       "    </tr>\n",
       "    <tr>\n",
       "      <th>16596</th>\n",
       "      <td>Know How 2</td>\n",
       "      <td>2163</td>\n",
       "      <td>2010.0</td>\n",
       "      <td>582</td>\n",
       "      <td>4</td>\n",
       "      <td>0.00</td>\n",
       "      <td>0.01</td>\n",
       "      <td>0.0</td>\n",
       "      <td>0.0</td>\n",
       "      <td>0.01</td>\n",
       "    </tr>\n",
       "    <tr>\n",
       "      <th>16597</th>\n",
       "      <td>Spirits &amp; Spells</td>\n",
       "      <td>822</td>\n",
       "      <td>2003.0</td>\n",
       "      <td>886</td>\n",
       "      <td>5</td>\n",
       "      <td>0.01</td>\n",
       "      <td>0.00</td>\n",
       "      <td>0.0</td>\n",
       "      <td>0.0</td>\n",
       "      <td>0.01</td>\n",
       "    </tr>\n",
       "  </tbody>\n",
       "</table>\n",
       "</div>"
      ],
      "text/plain": [
       "                                                   Name  Platform    Year  \\\n",
       "16593                Woody Woodpecker in Crazy Castle 5       822  2002.0   \n",
       "16594                     Men in Black II: Alien Escape       556  2003.0   \n",
       "16595  SCORE International Baja 1000: The Official Game      2161  2008.0   \n",
       "16596                                        Know How 2      2163  2010.0   \n",
       "16597                                  Spirits & Spells       822  2003.0   \n",
       "\n",
       "       Genre  Publisher  NA_Sales  EU_Sales  JP_Sales  Other_Sales  \\\n",
       "16593    886         21      0.01      0.00       0.0          0.0   \n",
       "16594   1310         62      0.01      0.00       0.0          0.0   \n",
       "16595   1249        975      0.00      0.00       0.0          0.0   \n",
       "16596    582          4      0.00      0.01       0.0          0.0   \n",
       "16597    886          5      0.01      0.00       0.0          0.0   \n",
       "\n",
       "       Global_Sales  \n",
       "16593          0.01  \n",
       "16594          0.01  \n",
       "16595          0.01  \n",
       "16596          0.01  \n",
       "16597          0.01  "
      ]
     },
     "execution_count": 29,
     "metadata": {},
     "output_type": "execute_result"
    }
   ],
   "source": [
    "vga.tail()"
   ]
  },
  {
   "cell_type": "code",
   "execution_count": 30,
   "id": "1bc5be60",
   "metadata": {},
   "outputs": [
    {
     "data": {
      "text/plain": [
       "Name             object\n",
       "Platform          int64\n",
       "Year            float64\n",
       "Genre             int64\n",
       "Publisher         int64\n",
       "NA_Sales        float64\n",
       "EU_Sales        float64\n",
       "JP_Sales        float64\n",
       "Other_Sales     float64\n",
       "Global_Sales    float64\n",
       "dtype: object"
      ]
     },
     "execution_count": 30,
     "metadata": {},
     "output_type": "execute_result"
    }
   ],
   "source": [
    "vga.dtypes"
   ]
  },
  {
   "cell_type": "code",
   "execution_count": 31,
   "id": "895a053a",
   "metadata": {},
   "outputs": [],
   "source": [
    "vga.drop('Name', axis=1, inplace = True)"
   ]
  },
  {
   "cell_type": "markdown",
   "id": "3894618e",
   "metadata": {},
   "source": [
    "## Split the data into Training and Test data"
   ]
  },
  {
   "cell_type": "code",
   "execution_count": 32,
   "id": "182baf27",
   "metadata": {},
   "outputs": [],
   "source": [
    "# predictor and response features \n",
    "X = vga.drop('Global_Sales', axis = 1)\n",
    "y = vga['Global_Sales']"
   ]
  },
  {
   "cell_type": "code",
   "execution_count": null,
   "id": "03a89a50",
   "metadata": {},
   "outputs": [],
   "source": []
  },
  {
   "cell_type": "code",
   "execution_count": 33,
   "id": "6b089899",
   "metadata": {},
   "outputs": [],
   "source": [
    "from sklearn.model_selection import train_test_split"
   ]
  },
  {
   "cell_type": "code",
   "execution_count": 34,
   "id": "c56d3e85",
   "metadata": {},
   "outputs": [],
   "source": [
    "X_train, X_test, y_train, y_test = train_test_split(X, y, test_size = 0.3, random_state = 42)"
   ]
  },
  {
   "cell_type": "code",
   "execution_count": 35,
   "id": "672da208",
   "metadata": {
    "scrolled": true
   },
   "outputs": [
    {
     "name": "stdout",
     "output_type": "stream",
     "text": [
      "(11618, 8) (4980, 8) (11618,) (4980,)\n"
     ]
    }
   ],
   "source": [
    "print(X_train.shape, X_test.shape, y_train.shape, y_test.shape)"
   ]
  },
  {
   "cell_type": "code",
   "execution_count": 36,
   "id": "9a8a3c30",
   "metadata": {},
   "outputs": [
    {
     "data": {
      "text/plain": [
       "Platform         0\n",
       "Year           201\n",
       "Genre            0\n",
       "Publisher        0\n",
       "NA_Sales         0\n",
       "EU_Sales         0\n",
       "JP_Sales         0\n",
       "Other_Sales      0\n",
       "dtype: int64"
      ]
     },
     "execution_count": 36,
     "metadata": {},
     "output_type": "execute_result"
    }
   ],
   "source": [
    "X_train.isnull().sum()"
   ]
  },
  {
   "cell_type": "code",
   "execution_count": 37,
   "id": "dc65de1c",
   "metadata": {
    "scrolled": true
   },
   "outputs": [
    {
     "name": "stderr",
     "output_type": "stream",
     "text": [
      "<ipython-input-37-d56246895832>:1: SettingWithCopyWarning: \n",
      "A value is trying to be set on a copy of a slice from a DataFrame.\n",
      "Try using .loc[row_indexer,col_indexer] = value instead\n",
      "\n",
      "See the caveats in the documentation: https://pandas.pydata.org/pandas-docs/stable/user_guide/indexing.html#returning-a-view-versus-a-copy\n",
      "  X_train['Year'] = X_train['Year'].fillna(2020.0)\n"
     ]
    }
   ],
   "source": [
    "X_train['Year'] = X_train['Year'].fillna(2020.0)"
   ]
  },
  {
   "cell_type": "code",
   "execution_count": 38,
   "id": "8b45aa14",
   "metadata": {},
   "outputs": [
    {
     "data": {
      "text/plain": [
       "array([2002., 2009., 1996., 2005., 2001., 2011., 2008., 2012., 2007.,\n",
       "       2006., 2003., 2010., 2014., 2013., 2015., 1982., 2000., 2004.,\n",
       "       1997., 1998., 1995., 2020., 2016., 1983., 1999., 1994., 1990.,\n",
       "       1991., 1988., 1993., 1992., 1986., 1989., 1981., 1987., 1984.,\n",
       "       2017., 1985., 1980.])"
      ]
     },
     "execution_count": 38,
     "metadata": {},
     "output_type": "execute_result"
    }
   ],
   "source": [
    "X_train['Year'].unique()"
   ]
  },
  {
   "cell_type": "code",
   "execution_count": 39,
   "id": "f8a515dc",
   "metadata": {},
   "outputs": [
    {
     "name": "stderr",
     "output_type": "stream",
     "text": [
      "<ipython-input-39-ca92c88fbdc6>:1: SettingWithCopyWarning: \n",
      "A value is trying to be set on a copy of a slice from a DataFrame.\n",
      "Try using .loc[row_indexer,col_indexer] = value instead\n",
      "\n",
      "See the caveats in the documentation: https://pandas.pydata.org/pandas-docs/stable/user_guide/indexing.html#returning-a-view-versus-a-copy\n",
      "  X_test['Year'] = X_test['Year'].fillna(2017.0)\n"
     ]
    }
   ],
   "source": [
    "X_test['Year'] = X_test['Year'].fillna(2017.0)"
   ]
  },
  {
   "cell_type": "code",
   "execution_count": 40,
   "id": "ac920529",
   "metadata": {},
   "outputs": [
    {
     "data": {
      "text/plain": [
       "array([2012., 2007., 2003., 2009., 2001., 2011., 1999., 2005., 1996.,\n",
       "       2017., 2002., 1998., 2015., 2006., 2013., 2008., 1993., 2004.,\n",
       "       1994., 1997., 2000., 2010., 2014., 1983., 1995., 1982., 1981.,\n",
       "       2016., 1991., 1990., 1980., 1985., 1988., 1987., 1986., 1992.,\n",
       "       1989., 2020., 1984.])"
      ]
     },
     "execution_count": 40,
     "metadata": {},
     "output_type": "execute_result"
    }
   ],
   "source": [
    "X_test['Year'].unique()"
   ]
  },
  {
   "cell_type": "code",
   "execution_count": 41,
   "id": "19fd040b",
   "metadata": {},
   "outputs": [
    {
     "data": {
      "text/plain": [
       "Platform       0\n",
       "Year           0\n",
       "Genre          0\n",
       "Publisher      0\n",
       "NA_Sales       0\n",
       "EU_Sales       0\n",
       "JP_Sales       0\n",
       "Other_Sales    0\n",
       "dtype: int64"
      ]
     },
     "execution_count": 41,
     "metadata": {},
     "output_type": "execute_result"
    }
   ],
   "source": [
    "X_test.isnull().sum()"
   ]
  },
  {
   "cell_type": "code",
   "execution_count": 42,
   "id": "c531a1f3",
   "metadata": {},
   "outputs": [
    {
     "data": {
      "text/html": [
       "<div>\n",
       "<style scoped>\n",
       "    .dataframe tbody tr th:only-of-type {\n",
       "        vertical-align: middle;\n",
       "    }\n",
       "\n",
       "    .dataframe tbody tr th {\n",
       "        vertical-align: top;\n",
       "    }\n",
       "\n",
       "    .dataframe thead th {\n",
       "        text-align: right;\n",
       "    }\n",
       "</style>\n",
       "<table border=\"1\" class=\"dataframe\">\n",
       "  <thead>\n",
       "    <tr style=\"text-align: right;\">\n",
       "      <th></th>\n",
       "      <th>Platform</th>\n",
       "      <th>Year</th>\n",
       "      <th>Genre</th>\n",
       "      <th>Publisher</th>\n",
       "      <th>NA_Sales</th>\n",
       "      <th>EU_Sales</th>\n",
       "      <th>JP_Sales</th>\n",
       "      <th>Other_Sales</th>\n",
       "    </tr>\n",
       "  </thead>\n",
       "  <tbody>\n",
       "    <tr>\n",
       "      <th>8715</th>\n",
       "      <td>822</td>\n",
       "      <td>2002.0</td>\n",
       "      <td>2346</td>\n",
       "      <td>975</td>\n",
       "      <td>0.11</td>\n",
       "      <td>0.04</td>\n",
       "      <td>0.0</td>\n",
       "      <td>0.00</td>\n",
       "    </tr>\n",
       "    <tr>\n",
       "      <th>9463</th>\n",
       "      <td>1325</td>\n",
       "      <td>2009.0</td>\n",
       "      <td>2346</td>\n",
       "      <td>921</td>\n",
       "      <td>0.10</td>\n",
       "      <td>0.02</td>\n",
       "      <td>0.0</td>\n",
       "      <td>0.01</td>\n",
       "    </tr>\n",
       "    <tr>\n",
       "      <th>1432</th>\n",
       "      <td>2161</td>\n",
       "      <td>2002.0</td>\n",
       "      <td>1310</td>\n",
       "      <td>1351</td>\n",
       "      <td>0.67</td>\n",
       "      <td>0.52</td>\n",
       "      <td>0.0</td>\n",
       "      <td>0.17</td>\n",
       "    </tr>\n",
       "    <tr>\n",
       "      <th>12240</th>\n",
       "      <td>1196</td>\n",
       "      <td>1996.0</td>\n",
       "      <td>1249</td>\n",
       "      <td>18</td>\n",
       "      <td>0.04</td>\n",
       "      <td>0.02</td>\n",
       "      <td>0.0</td>\n",
       "      <td>0.00</td>\n",
       "    </tr>\n",
       "    <tr>\n",
       "      <th>7613</th>\n",
       "      <td>824</td>\n",
       "      <td>2005.0</td>\n",
       "      <td>3316</td>\n",
       "      <td>218</td>\n",
       "      <td>0.15</td>\n",
       "      <td>0.04</td>\n",
       "      <td>0.0</td>\n",
       "      <td>0.01</td>\n",
       "    </tr>\n",
       "  </tbody>\n",
       "</table>\n",
       "</div>"
      ],
      "text/plain": [
       "       Platform    Year  Genre  Publisher  NA_Sales  EU_Sales  JP_Sales  \\\n",
       "8715        822  2002.0   2346        975      0.11      0.04       0.0   \n",
       "9463       1325  2009.0   2346        921      0.10      0.02       0.0   \n",
       "1432       2161  2002.0   1310       1351      0.67      0.52       0.0   \n",
       "12240      1196  1996.0   1249         18      0.04      0.02       0.0   \n",
       "7613        824  2005.0   3316        218      0.15      0.04       0.0   \n",
       "\n",
       "       Other_Sales  \n",
       "8715          0.00  \n",
       "9463          0.01  \n",
       "1432          0.17  \n",
       "12240         0.00  \n",
       "7613          0.01  "
      ]
     },
     "execution_count": 42,
     "metadata": {},
     "output_type": "execute_result"
    }
   ],
   "source": [
    "X_train.head()"
   ]
  },
  {
   "cell_type": "code",
   "execution_count": null,
   "id": "c03a3913",
   "metadata": {},
   "outputs": [],
   "source": []
  },
  {
   "cell_type": "code",
   "execution_count": null,
   "id": "6b516d69",
   "metadata": {},
   "outputs": [],
   "source": []
  },
  {
   "cell_type": "markdown",
   "id": "47bbb977",
   "metadata": {},
   "source": [
    "## Standardisation "
   ]
  },
  {
   "cell_type": "code",
   "execution_count": 81,
   "id": "901d7983",
   "metadata": {},
   "outputs": [],
   "source": [
    "# import standardscaler\n",
    "from sklearn.preprocessing import StandardScaler \n",
    "\n",
    "sts = StandardScaler() \n",
    "\n",
    "X_train = sts.fit_transform(X_train)"
   ]
  },
  {
   "cell_type": "code",
   "execution_count": 82,
   "id": "b53233e0",
   "metadata": {
    "scrolled": true
   },
   "outputs": [
    {
     "data": {
      "text/plain": [
       "array([[-0.66653524, -0.76364884,  0.62072678, ..., -0.22832277,\n",
       "        -0.24816779, -0.2664561 ],\n",
       "       [ 0.11658348,  0.38846146,  0.62072678, ..., -0.27271531,\n",
       "        -0.24816779, -0.21039005],\n",
       "       [ 1.41814859, -0.76364884, -0.52955976, ...,  0.83709815,\n",
       "        -0.24816779,  0.68666676],\n",
       "       ...,\n",
       "       [ 0.11658348,  0.71763583,  1.69773252, ...,  0.06022873,\n",
       "        -0.24816779, -0.0421919 ],\n",
       "       [ 1.41814859, -0.76364884, -1.0003334 , ...,  1.79153772,\n",
       "        -0.24816779,  1.30339332],\n",
       "       [-0.45168358, -0.1053001 , -1.02142939, ..., -0.29491158,\n",
       "        -0.24816779, -0.2664561 ]])"
      ]
     },
     "execution_count": 82,
     "metadata": {},
     "output_type": "execute_result"
    }
   ],
   "source": [
    "X_train"
   ]
  },
  {
   "cell_type": "code",
   "execution_count": 83,
   "id": "bac5c470",
   "metadata": {},
   "outputs": [
    {
     "data": {
      "text/plain": [
       "array([[-0.45168358,  0.88222302, -0.59728898, ..., -0.07294888,\n",
       "        -0.24816779, -0.09825795],\n",
       "       [ 0.12281106,  0.05928709,  1.69773252, ..., -0.22832277,\n",
       "        -0.21653939, -0.0421919 ],\n",
       "       [-0.45168358, -0.59906166, -1.22794801, ..., -0.27271531,\n",
       "        -0.24816779, -0.2664561 ],\n",
       "       ...,\n",
       "       [ 0.12281106,  0.71763583,  1.69773252, ...,  0.57074292,\n",
       "        -0.24816779,  0.63060071],\n",
       "       [ 1.41814859, -0.43447447,  0.62072678, ..., -0.27271531,\n",
       "        -0.24816779, -0.21039005],\n",
       "       [ 0.11658348,  0.71763583, -0.05323454, ...,  0.082425  ,\n",
       "        -0.24816779, -0.0421919 ]])"
      ]
     },
     "execution_count": 83,
     "metadata": {},
     "output_type": "execute_result"
    }
   ],
   "source": [
    "X_test = sts.transform(X_test) \n",
    "X_test"
   ]
  },
  {
   "cell_type": "code",
   "execution_count": null,
   "id": "50006311",
   "metadata": {},
   "outputs": [],
   "source": []
  },
  {
   "cell_type": "markdown",
   "id": "b030937a",
   "metadata": {},
   "source": [
    "## Modelling \n",
    "\n",
    "\n",
    "### Linear Regression"
   ]
  },
  {
   "cell_type": "code",
   "execution_count": 84,
   "id": "a58d3c61",
   "metadata": {},
   "outputs": [],
   "source": [
    "# linear regression \n",
    "from sklearn.linear_model import LinearRegression \n",
    "\n",
    "lr = LinearRegression() \n",
    "\n",
    "# training \n",
    "X_train_lrr = lr.fit(X_train, y_train)"
   ]
  },
  {
   "cell_type": "code",
   "execution_count": 85,
   "id": "4c2d8e47",
   "metadata": {},
   "outputs": [
    {
     "data": {
      "text/plain": [
       "0.5306248924083319"
      ]
     },
     "execution_count": 85,
     "metadata": {},
     "output_type": "execute_result"
    }
   ],
   "source": [
    "# intercept \n",
    "intercept = lr.intercept_\n",
    "intercept"
   ]
  },
  {
   "cell_type": "code",
   "execution_count": 86,
   "id": "a8b6d3ba",
   "metadata": {},
   "outputs": [
    {
     "data": {
      "text/plain": [
       "array([ 6.03518777e-06, -5.10724715e-07, -1.09617858e-05, -7.94181026e-05,\n",
       "        7.73604162e-01,  4.50499054e-01,  3.16190555e-01,  1.78226884e-01])"
      ]
     },
     "execution_count": 86,
     "metadata": {},
     "output_type": "execute_result"
    }
   ],
   "source": [
    "# slope \n",
    "slope = lr.coef_\n",
    "slope"
   ]
  },
  {
   "cell_type": "code",
   "execution_count": 55,
   "id": "00373aee",
   "metadata": {},
   "outputs": [
    {
     "data": {
      "text/plain": [
       "Index(['Platform', 'Year', 'Genre', 'Publisher', 'NA_Sales', 'EU_Sales',\n",
       "       'JP_Sales', 'Other_Sales'],\n",
       "      dtype='object')"
      ]
     },
     "execution_count": 55,
     "metadata": {},
     "output_type": "execute_result"
    }
   ],
   "source": [
    "feature_names = X.columns\n",
    "feature_names"
   ]
  },
  {
   "cell_type": "code",
   "execution_count": 87,
   "id": "2d8cb15e",
   "metadata": {},
   "outputs": [],
   "source": [
    "y_pred =lr.predict(X_test)"
   ]
  },
  {
   "cell_type": "code",
   "execution_count": 88,
   "id": "56172363",
   "metadata": {},
   "outputs": [
    {
     "data": {
      "text/plain": [
       "array([0.15042135, 0.41021837, 0.02044933, ..., 0.95009951, 0.0604476 ,\n",
       "       0.22039856])"
      ]
     },
     "execution_count": 88,
     "metadata": {},
     "output_type": "execute_result"
    }
   ],
   "source": [
    "y_pred"
   ]
  },
  {
   "cell_type": "code",
   "execution_count": 89,
   "id": "9bb42626",
   "metadata": {
    "scrolled": true
   },
   "outputs": [
    {
     "data": {
      "text/html": [
       "<div>\n",
       "<style scoped>\n",
       "    .dataframe tbody tr th:only-of-type {\n",
       "        vertical-align: middle;\n",
       "    }\n",
       "\n",
       "    .dataframe tbody tr th {\n",
       "        vertical-align: top;\n",
       "    }\n",
       "\n",
       "    .dataframe thead th {\n",
       "        text-align: right;\n",
       "    }\n",
       "</style>\n",
       "<table border=\"1\" class=\"dataframe\">\n",
       "  <thead>\n",
       "    <tr style=\"text-align: right;\">\n",
       "      <th></th>\n",
       "      <th>Actual Value</th>\n",
       "      <th>Predicted Value</th>\n",
       "    </tr>\n",
       "  </thead>\n",
       "  <tbody>\n",
       "    <tr>\n",
       "      <th>8928</th>\n",
       "      <td>0.15</td>\n",
       "      <td>0.150421</td>\n",
       "    </tr>\n",
       "    <tr>\n",
       "      <th>4789</th>\n",
       "      <td>0.40</td>\n",
       "      <td>0.410218</td>\n",
       "    </tr>\n",
       "    <tr>\n",
       "      <th>15492</th>\n",
       "      <td>0.02</td>\n",
       "      <td>0.020449</td>\n",
       "    </tr>\n",
       "    <tr>\n",
       "      <th>14767</th>\n",
       "      <td>0.03</td>\n",
       "      <td>0.020233</td>\n",
       "    </tr>\n",
       "    <tr>\n",
       "      <th>5211</th>\n",
       "      <td>0.36</td>\n",
       "      <td>0.360235</td>\n",
       "    </tr>\n",
       "    <tr>\n",
       "      <th>...</th>\n",
       "      <td>...</td>\n",
       "      <td>...</td>\n",
       "    </tr>\n",
       "    <tr>\n",
       "      <th>8817</th>\n",
       "      <td>0.15</td>\n",
       "      <td>0.150357</td>\n",
       "    </tr>\n",
       "    <tr>\n",
       "      <th>10333</th>\n",
       "      <td>0.11</td>\n",
       "      <td>0.110288</td>\n",
       "    </tr>\n",
       "    <tr>\n",
       "      <th>2186</th>\n",
       "      <td>0.95</td>\n",
       "      <td>0.950100</td>\n",
       "    </tr>\n",
       "    <tr>\n",
       "      <th>12313</th>\n",
       "      <td>0.06</td>\n",
       "      <td>0.060448</td>\n",
       "    </tr>\n",
       "    <tr>\n",
       "      <th>7372</th>\n",
       "      <td>0.21</td>\n",
       "      <td>0.220399</td>\n",
       "    </tr>\n",
       "  </tbody>\n",
       "</table>\n",
       "<p>4980 rows × 2 columns</p>\n",
       "</div>"
      ],
      "text/plain": [
       "       Actual Value  Predicted Value\n",
       "8928           0.15         0.150421\n",
       "4789           0.40         0.410218\n",
       "15492          0.02         0.020449\n",
       "14767          0.03         0.020233\n",
       "5211           0.36         0.360235\n",
       "...             ...              ...\n",
       "8817           0.15         0.150357\n",
       "10333          0.11         0.110288\n",
       "2186           0.95         0.950100\n",
       "12313          0.06         0.060448\n",
       "7372           0.21         0.220399\n",
       "\n",
       "[4980 rows x 2 columns]"
      ]
     },
     "execution_count": 89,
     "metadata": {},
     "output_type": "execute_result"
    }
   ],
   "source": [
    "results = pd.DataFrame({'Actual Value': y_test, 'Predicted Value':y_pred})\n",
    "results"
   ]
  },
  {
   "cell_type": "markdown",
   "id": "83b8a87c",
   "metadata": {},
   "source": [
    "# Model Evaluation"
   ]
  },
  {
   "cell_type": "code",
   "execution_count": 70,
   "id": "322d14da",
   "metadata": {},
   "outputs": [],
   "source": [
    "from sklearn.metrics import mean_absolute_error, mean_squared_error"
   ]
  },
  {
   "cell_type": "code",
   "execution_count": 71,
   "id": "120313df",
   "metadata": {},
   "outputs": [],
   "source": [
    "\n",
    "mae = mean_absolute_error(y_test, y_pred) \n",
    "mse = mean_squared_error(y_test, y_pred) \n",
    "rmse = np.sqrt(mse)"
   ]
  },
  {
   "cell_type": "code",
   "execution_count": 72,
   "id": "d42ee128",
   "metadata": {},
   "outputs": [
    {
     "name": "stdout",
     "output_type": "stream",
     "text": [
      "Mean absolute error:  0.002931\n",
      "Mean squared error:  0.000027\n",
      "Root Mean squared error:  0.005188\n"
     ]
    }
   ],
   "source": [
    "print(f'Mean absolute error: {mae: 2f}')\n",
    "print(f'Mean squared error: {mse: 2f}')\n",
    "print(f'Root Mean squared error: {rmse: 2f}')"
   ]
  },
  {
   "cell_type": "code",
   "execution_count": 90,
   "id": "f198bf61",
   "metadata": {},
   "outputs": [
    {
     "data": {
      "text/plain": [
       "0.9999916067674102"
      ]
     },
     "execution_count": 90,
     "metadata": {},
     "output_type": "execute_result"
    }
   ],
   "source": [
    "lr.score(X_test, y_test)"
   ]
  },
  {
   "cell_type": "code",
   "execution_count": 91,
   "id": "2cfd7688",
   "metadata": {},
   "outputs": [
    {
     "data": {
      "text/plain": [
       "0.9999868133955874"
      ]
     },
     "execution_count": 91,
     "metadata": {},
     "output_type": "execute_result"
    }
   ],
   "source": [
    "lr.score(X_train, y_train)"
   ]
  },
  {
   "cell_type": "markdown",
   "id": "4db01b94",
   "metadata": {},
   "source": [
    "### Lasso Regression \n",
    "\n",
    "\n",
    "### Modelling"
   ]
  },
  {
   "cell_type": "code",
   "execution_count": 62,
   "id": "53bbe2c2",
   "metadata": {},
   "outputs": [],
   "source": [
    "from sklearn.linear_model import Lasso"
   ]
  },
  {
   "cell_type": "code",
   "execution_count": 121,
   "id": "f5c8c40b",
   "metadata": {},
   "outputs": [],
   "source": [
    "las = Lasso(alpha = 0.01)"
   ]
  },
  {
   "cell_type": "code",
   "execution_count": 122,
   "id": "a2a8b55c",
   "metadata": {},
   "outputs": [],
   "source": [
    "X_train_las = las.fit(X_train, y_train)"
   ]
  },
  {
   "cell_type": "code",
   "execution_count": 123,
   "id": "53347a86",
   "metadata": {},
   "outputs": [
    {
     "data": {
      "text/plain": [
       "array([0.15354851, 0.41205145, 0.02483422, ..., 0.94700791, 0.06438476,\n",
       "       0.22306712])"
      ]
     },
     "execution_count": 123,
     "metadata": {},
     "output_type": "execute_result"
    }
   ],
   "source": [
    "y_pred_las = las.predict(X_test) \n",
    "y_pred_las"
   ]
  },
  {
   "cell_type": "code",
   "execution_count": 124,
   "id": "56336417",
   "metadata": {
    "scrolled": true
   },
   "outputs": [
    {
     "data": {
      "text/html": [
       "<div>\n",
       "<style scoped>\n",
       "    .dataframe tbody tr th:only-of-type {\n",
       "        vertical-align: middle;\n",
       "    }\n",
       "\n",
       "    .dataframe tbody tr th {\n",
       "        vertical-align: top;\n",
       "    }\n",
       "\n",
       "    .dataframe thead th {\n",
       "        text-align: right;\n",
       "    }\n",
       "</style>\n",
       "<table border=\"1\" class=\"dataframe\">\n",
       "  <thead>\n",
       "    <tr style=\"text-align: right;\">\n",
       "      <th></th>\n",
       "      <th>Actual Value</th>\n",
       "      <th>Predicted Value</th>\n",
       "    </tr>\n",
       "  </thead>\n",
       "  <tbody>\n",
       "    <tr>\n",
       "      <th>8928</th>\n",
       "      <td>0.15</td>\n",
       "      <td>0.153549</td>\n",
       "    </tr>\n",
       "    <tr>\n",
       "      <th>4789</th>\n",
       "      <td>0.40</td>\n",
       "      <td>0.412051</td>\n",
       "    </tr>\n",
       "    <tr>\n",
       "      <th>15492</th>\n",
       "      <td>0.02</td>\n",
       "      <td>0.024834</td>\n",
       "    </tr>\n",
       "    <tr>\n",
       "      <th>14767</th>\n",
       "      <td>0.03</td>\n",
       "      <td>0.024823</td>\n",
       "    </tr>\n",
       "    <tr>\n",
       "      <th>5211</th>\n",
       "      <td>0.36</td>\n",
       "      <td>0.362178</td>\n",
       "    </tr>\n",
       "    <tr>\n",
       "      <th>...</th>\n",
       "      <td>...</td>\n",
       "      <td>...</td>\n",
       "    </tr>\n",
       "    <tr>\n",
       "      <th>8817</th>\n",
       "      <td>0.15</td>\n",
       "      <td>0.151629</td>\n",
       "    </tr>\n",
       "    <tr>\n",
       "      <th>10333</th>\n",
       "      <td>0.11</td>\n",
       "      <td>0.114214</td>\n",
       "    </tr>\n",
       "    <tr>\n",
       "      <th>2186</th>\n",
       "      <td>0.95</td>\n",
       "      <td>0.947008</td>\n",
       "    </tr>\n",
       "    <tr>\n",
       "      <th>12313</th>\n",
       "      <td>0.06</td>\n",
       "      <td>0.064385</td>\n",
       "    </tr>\n",
       "    <tr>\n",
       "      <th>7372</th>\n",
       "      <td>0.21</td>\n",
       "      <td>0.223067</td>\n",
       "    </tr>\n",
       "  </tbody>\n",
       "</table>\n",
       "<p>4980 rows × 2 columns</p>\n",
       "</div>"
      ],
      "text/plain": [
       "       Actual Value  Predicted Value\n",
       "8928           0.15         0.153549\n",
       "4789           0.40         0.412051\n",
       "15492          0.02         0.024834\n",
       "14767          0.03         0.024823\n",
       "5211           0.36         0.362178\n",
       "...             ...              ...\n",
       "8817           0.15         0.151629\n",
       "10333          0.11         0.114214\n",
       "2186           0.95         0.947008\n",
       "12313          0.06         0.064385\n",
       "7372           0.21         0.223067\n",
       "\n",
       "[4980 rows x 2 columns]"
      ]
     },
     "execution_count": 124,
     "metadata": {},
     "output_type": "execute_result"
    }
   ],
   "source": [
    "results = pd.DataFrame({'Actual Value': y_test, 'Predicted Value':y_pred_las})\n",
    "results"
   ]
  },
  {
   "cell_type": "markdown",
   "id": "7ab62d35",
   "metadata": {},
   "source": [
    "### Model Evaluation"
   ]
  },
  {
   "cell_type": "code",
   "execution_count": 126,
   "id": "1a9ccd34",
   "metadata": {},
   "outputs": [],
   "source": [
    "mae = mean_absolute_error(y_test, y_pred_las) \n",
    "mse = mean_squared_error(y_test, y_pred_las) \n",
    "rmse = np.sqrt(mse)"
   ]
  },
  {
   "cell_type": "code",
   "execution_count": 133,
   "id": "dc3bbfe7",
   "metadata": {},
   "outputs": [
    {
     "name": "stdout",
     "output_type": "stream",
     "text": [
      "Mean absolute error:  0.006901\n",
      "Mean squared error:  0.000243\n",
      "Root Mean squared error:  0.015598\n"
     ]
    }
   ],
   "source": [
    "print(f'Mean absolute error: {mae: 2f}')\n",
    "print(f'Mean squared error: {mse: 2f}')\n",
    "print(f'Root Mean squared error: {rmse: 2f}')"
   ]
  },
  {
   "cell_type": "code",
   "execution_count": 128,
   "id": "f1d9b733",
   "metadata": {},
   "outputs": [
    {
     "data": {
      "text/plain": [
       "0.9999241281606328"
      ]
     },
     "execution_count": 128,
     "metadata": {},
     "output_type": "execute_result"
    }
   ],
   "source": [
    "# R-square score\n",
    "las.score(X_test, y_test)"
   ]
  },
  {
   "cell_type": "code",
   "execution_count": 129,
   "id": "cbd38c42",
   "metadata": {},
   "outputs": [
    {
     "data": {
      "text/plain": [
       "0.9999079214260609"
      ]
     },
     "execution_count": 129,
     "metadata": {},
     "output_type": "execute_result"
    }
   ],
   "source": [
    "# R-Square score \n",
    "las.score(X_train, y_train)"
   ]
  },
  {
   "cell_type": "code",
   "execution_count": null,
   "id": "97158175",
   "metadata": {},
   "outputs": [],
   "source": []
  }
 ],
 "metadata": {
  "kernelspec": {
   "display_name": "Python 3",
   "language": "python",
   "name": "python3"
  },
  "language_info": {
   "codemirror_mode": {
    "name": "ipython",
    "version": 3
   },
   "file_extension": ".py",
   "mimetype": "text/x-python",
   "name": "python",
   "nbconvert_exporter": "python",
   "pygments_lexer": "ipython3",
   "version": "3.8.8"
  }
 },
 "nbformat": 4,
 "nbformat_minor": 5
}
